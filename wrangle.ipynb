{
 "cells": [
  {
   "cell_type": "markdown",
   "id": "35d847c9",
   "metadata": {},
   "source": [
    "# Wrangle Exercises"
   ]
  },
  {
   "cell_type": "markdown",
   "id": "2ef89b96",
   "metadata": {},
   "source": [
    "These exercises should go in a notebook or script named wrangle. Add, commit, and push your changes.\n",
    "\n",
    "This exercises uses the case.csv, dept.csv, and source.csv files from the san antonio 311 call dataset."
   ]
  },
  {
   "cell_type": "markdown",
   "id": "176d060c",
   "metadata": {},
   "source": [
    "## Import Libraries"
   ]
  },
  {
   "cell_type": "code",
   "execution_count": 158,
   "id": "68ca8c16",
   "metadata": {},
   "outputs": [],
   "source": [
    "from pyspark.sql import SparkSession\n",
    "from pyspark.sql.types import StringType,BooleanType,DateType,IntegerType\n",
    "from pyspark.sql.functions import *\n",
    "import datetime\n",
    "\n",
    "spark = SparkSession.builder.getOrCreate()"
   ]
  },
  {
   "cell_type": "markdown",
   "id": "f13d79cf",
   "metadata": {},
   "source": [
    "## Part 1, Data Acquisition"
   ]
  },
  {
   "cell_type": "markdown",
   "id": "3a4d2222",
   "metadata": {},
   "source": [
    "### Read the case, department, and source data into their own spark dataframes"
   ]
  },
  {
   "cell_type": "code",
   "execution_count": 39,
   "id": "fe461f65",
   "metadata": {},
   "outputs": [],
   "source": [
    "case_df = (\n",
    "    spark.read.format(\"csv\")\n",
    "    .option(\"sep\", \",\")\n",
    "    .option(\"inferSchema\", True)\n",
    "    .option(\"header\", True)\n",
    "    .load(\"case.csv\")\n",
    ")"
   ]
  },
  {
   "cell_type": "code",
   "execution_count": 40,
   "id": "c2307870",
   "metadata": {},
   "outputs": [],
   "source": [
    "dept_df = (\n",
    "    spark.read.format(\"csv\")\n",
    "    .option(\"sep\", \",\")\n",
    "    .option(\"inferSchema\", True)\n",
    "    .option(\"header\", True)\n",
    "    .load(\"dept.csv\")\n",
    ")"
   ]
  },
  {
   "cell_type": "code",
   "execution_count": 78,
   "id": "384d1ec6",
   "metadata": {},
   "outputs": [],
   "source": [
    "source_df = (\n",
    "    spark.read.format(\"csv\")\n",
    "    .option(\"sep\", \",\")\n",
    "    .option(\"inferSchema\", True)\n",
    "    .option(\"header\", True)\n",
    "    .load(\"source.csv\")\n",
    ")"
   ]
  },
  {
   "cell_type": "code",
   "execution_count": 42,
   "id": "90e62b12",
   "metadata": {},
   "outputs": [
    {
     "name": "stdout",
     "output_type": "stream",
     "text": [
      "-RECORD 0------------------------------------\n",
      " case_id              | 1014127332           \n",
      " case_opened_date     | 1/1/18 0:42          \n",
      " case_closed_date     | 1/1/18 12:29         \n",
      " SLA_due_date         | 9/26/20 0:42         \n",
      " case_late            | NO                   \n",
      " num_days_late        | -998.5087616000001   \n",
      " case_closed          | YES                  \n",
      " dept_division        | Field Operations     \n",
      " service_request_type | Stray Animal         \n",
      " SLA_days             | 999.0                \n",
      " case_status          | Closed               \n",
      " source_id            | svcCRMLS             \n",
      " request_address      | 2315  EL PASO ST,... \n",
      " council_district     | 5                    \n",
      "-RECORD 1------------------------------------\n",
      " case_id              | 1014127333           \n",
      " case_opened_date     | 1/1/18 0:46          \n",
      " case_closed_date     | 1/3/18 8:11          \n",
      " SLA_due_date         | 1/5/18 8:30          \n",
      " case_late            | NO                   \n",
      " num_days_late        | -2.0126041669999997  \n",
      " case_closed          | YES                  \n",
      " dept_division        | Storm Water          \n",
      " service_request_type | Removal Of Obstru... \n",
      " SLA_days             | 4.322222222          \n",
      " case_status          | Closed               \n",
      " source_id            | svcCRMSS             \n",
      " request_address      | 2215  GOLIAD RD, ... \n",
      " council_district     | 3                    \n",
      "-RECORD 2------------------------------------\n",
      " case_id              | 1014127334           \n",
      " case_opened_date     | 1/1/18 0:48          \n",
      " case_closed_date     | 1/2/18 7:57          \n",
      " SLA_due_date         | 1/5/18 8:30          \n",
      " case_late            | NO                   \n",
      " num_days_late        | -3.022337963         \n",
      " case_closed          | YES                  \n",
      " dept_division        | Storm Water          \n",
      " service_request_type | Removal Of Obstru... \n",
      " SLA_days             | 4.320729167          \n",
      " case_status          | Closed               \n",
      " source_id            | svcCRMSS             \n",
      " request_address      | 102  PALFREY ST W... \n",
      " council_district     | 3                    \n",
      "-RECORD 3------------------------------------\n",
      " case_id              | 1014127335           \n",
      " case_opened_date     | 1/1/18 1:29          \n",
      " case_closed_date     | 1/2/18 8:13          \n",
      " SLA_due_date         | 1/17/18 8:30         \n",
      " case_late            | NO                   \n",
      " num_days_late        | -15.01148148         \n",
      " case_closed          | YES                  \n",
      " dept_division        | Code Enforcement     \n",
      " service_request_type | Front Or Side Yar... \n",
      " SLA_days             | 16.29188657          \n",
      " case_status          | Closed               \n",
      " source_id            | svcCRMSS             \n",
      " request_address      | 114  LA GARDE ST,... \n",
      " council_district     | 3                    \n",
      "-RECORD 4------------------------------------\n",
      " case_id              | 1014127336           \n",
      " case_opened_date     | 1/1/18 1:34          \n",
      " case_closed_date     | 1/1/18 13:29         \n",
      " SLA_due_date         | 1/1/18 4:34          \n",
      " case_late            | YES                  \n",
      " num_days_late        | 0.37216435200000003  \n",
      " case_closed          | YES                  \n",
      " dept_division        | Field Operations     \n",
      " service_request_type | Animal Cruelty(Cr... \n",
      " SLA_days             | 0.125                \n",
      " case_status          | Closed               \n",
      " source_id            | svcCRMSS             \n",
      " request_address      | 734  CLEARVIEW DR... \n",
      " council_district     | 7                    \n",
      "only showing top 5 rows\n",
      "\n"
     ]
    }
   ],
   "source": [
    "case_df.show(5, vertical = True)"
   ]
  },
  {
   "cell_type": "code",
   "execution_count": 43,
   "id": "0b9df0aa",
   "metadata": {},
   "outputs": [
    {
     "name": "stdout",
     "output_type": "stream",
     "text": [
      "+--------------------+--------------------+----------------------+-------------------+\n",
      "|       dept_division|           dept_name|standardized_dept_name|dept_subject_to_SLA|\n",
      "+--------------------+--------------------+----------------------+-------------------+\n",
      "|     311 Call Center|    Customer Service|      Customer Service|                YES|\n",
      "|               Brush|Solid Waste Manag...|           Solid Waste|                YES|\n",
      "|     Clean and Green|Parks and Recreation|    Parks & Recreation|                YES|\n",
      "|Clean and Green N...|Parks and Recreation|    Parks & Recreation|                YES|\n",
      "|    Code Enforcement|Code Enforcement ...|  DSD/Code Enforcement|                YES|\n",
      "+--------------------+--------------------+----------------------+-------------------+\n",
      "only showing top 5 rows\n",
      "\n"
     ]
    }
   ],
   "source": [
    "dept_df.show(5)"
   ]
  },
  {
   "cell_type": "code",
   "execution_count": 10,
   "id": "64166262",
   "metadata": {},
   "outputs": [
    {
     "name": "stdout",
     "output_type": "stream",
     "text": [
      "+---------+----------------+\n",
      "|source_id| source_username|\n",
      "+---------+----------------+\n",
      "|   100137|Merlene Blodgett|\n",
      "|   103582|     Carmen Cura|\n",
      "|   106463| Richard Sanchez|\n",
      "|   119403|  Betty De Hoyos|\n",
      "|   119555|  Socorro Quiara|\n",
      "+---------+----------------+\n",
      "only showing top 5 rows\n",
      "\n"
     ]
    }
   ],
   "source": [
    "source_df.show(5)"
   ]
  },
  {
   "cell_type": "markdown",
   "id": "61507313",
   "metadata": {},
   "source": [
    "### Let's see how writing to the local disk works in spark:\n",
    "\n",
    "#### Write the code necessary to store the source data in both csv and json format, store these as sources_csv and sources_json"
   ]
  },
  {
   "cell_type": "code",
   "execution_count": 27,
   "id": "8cb0338a",
   "metadata": {},
   "outputs": [],
   "source": [
    "(\n",
    "    case_df.write.format(\"csv\")\n",
    "    .mode(\"overwrite\")\n",
    "    .option(\"header\", \"true\")\n",
    "    .save(\"case_csv\")\n",
    ")"
   ]
  },
  {
   "cell_type": "code",
   "execution_count": 28,
   "id": "d5609daf",
   "metadata": {},
   "outputs": [],
   "source": [
    "(\n",
    "    case_df.write.format(\"json\")\n",
    "    .mode(\"overwrite\")\n",
    "    .option(\"header\", \"true\")\n",
    "    .save(\"case_json\")\n",
    ")"
   ]
  },
  {
   "cell_type": "code",
   "execution_count": 29,
   "id": "4686e131",
   "metadata": {},
   "outputs": [],
   "source": [
    "(\n",
    "    dept_df.write.format(\"csv\")\n",
    "    .mode(\"overwrite\")\n",
    "    .option(\"header\", \"true\")\n",
    "    .save(\"dept_csv\")\n",
    ")"
   ]
  },
  {
   "cell_type": "code",
   "execution_count": 30,
   "id": "15d00051",
   "metadata": {},
   "outputs": [],
   "source": [
    "(\n",
    "    dept_df.write.format(\"json\")\n",
    "    .mode(\"overwrite\")\n",
    "    .option(\"header\", \"true\")\n",
    "    .save(\"dept_csv\")\n",
    ")"
   ]
  },
  {
   "cell_type": "code",
   "execution_count": 31,
   "id": "b8c0a036",
   "metadata": {},
   "outputs": [],
   "source": [
    "(\n",
    "    source_df.write.format(\"csv\")\n",
    "    .mode(\"overwrite\")\n",
    "    .option(\"header\", \"true\")\n",
    "    .save(\"source_csv\")\n",
    ")"
   ]
  },
  {
   "cell_type": "code",
   "execution_count": 32,
   "id": "12442562",
   "metadata": {},
   "outputs": [],
   "source": [
    "(\n",
    "    source_df.write.format(\"json\")\n",
    "    .mode(\"overwrite\")\n",
    "    .option(\"header\", \"true\")\n",
    "    .save(\"source_csv\")\n",
    ")"
   ]
  },
  {
   "cell_type": "markdown",
   "id": "1875d543",
   "metadata": {},
   "source": [
    "#### Inspect your folder structure. What do you notice?"
   ]
  },
  {
   "cell_type": "markdown",
   "id": "413571a9",
   "metadata": {},
   "source": [
    "The folders each have many individual csv and json files. "
   ]
  },
  {
   "cell_type": "markdown",
   "id": "9dc8ce77",
   "metadata": {},
   "source": [
    "### Inspect the data in your dataframes. Are the data types appropriate? Write the code necessary to cast the values to the appropriate types."
   ]
  },
  {
   "cell_type": "markdown",
   "id": "2205abee",
   "metadata": {},
   "source": [
    "#### Case "
   ]
  },
  {
   "cell_type": "code",
   "execution_count": 44,
   "id": "92fb7979",
   "metadata": {},
   "outputs": [
    {
     "data": {
      "text/plain": [
       "[('case_id', 'int'),\n",
       " ('case_opened_date', 'string'),\n",
       " ('case_closed_date', 'string'),\n",
       " ('SLA_due_date', 'string'),\n",
       " ('case_late', 'string'),\n",
       " ('num_days_late', 'double'),\n",
       " ('case_closed', 'string'),\n",
       " ('dept_division', 'string'),\n",
       " ('service_request_type', 'string'),\n",
       " ('SLA_days', 'double'),\n",
       " ('case_status', 'string'),\n",
       " ('source_id', 'string'),\n",
       " ('request_address', 'string'),\n",
       " ('council_district', 'int')]"
      ]
     },
     "execution_count": 44,
     "metadata": {},
     "output_type": "execute_result"
    }
   ],
   "source": [
    "case_df.dtypes"
   ]
  },
  {
   "cell_type": "markdown",
   "id": "b50fe8bd",
   "metadata": {},
   "source": [
    "The data values should be in date format. The case closed column could also be a boolean."
   ]
  },
  {
   "cell_type": "code",
   "execution_count": 45,
   "id": "feb97529",
   "metadata": {},
   "outputs": [],
   "source": [
    "fmt = \"M/d/yy H:mm\"\n",
    "case_df = (\n",
    "    case_df.withColumn(\"case_opened_date\", to_timestamp(\"case_opened_date\", fmt))\n",
    "    .withColumn(\"case_closed_date\", to_timestamp(\"case_closed_date\", fmt))\n",
    "    .withColumn(\"SLA_due_date\", to_timestamp(\"SLA_due_date\", fmt))\n",
    ")"
   ]
  },
  {
   "cell_type": "code",
   "execution_count": 91,
   "id": "c5438089",
   "metadata": {},
   "outputs": [],
   "source": [
    "case_df = case_df.withColumn(\"case_closed\",col(\"case_closed\").cast(BooleanType())) "
   ]
  },
  {
   "cell_type": "code",
   "execution_count": 92,
   "id": "c60f626d",
   "metadata": {},
   "outputs": [
    {
     "data": {
      "text/plain": [
       "[('case_id', 'int'),\n",
       " ('case_opened_date', 'timestamp'),\n",
       " ('case_closed_date', 'timestamp'),\n",
       " ('SLA_due_date', 'timestamp'),\n",
       " ('case_late', 'string'),\n",
       " ('num_days_late', 'double'),\n",
       " ('case_closed', 'boolean'),\n",
       " ('dept_division', 'string'),\n",
       " ('service_request_type', 'string'),\n",
       " ('SLA_days', 'double'),\n",
       " ('case_status', 'string'),\n",
       " ('source_id', 'string'),\n",
       " ('request_address', 'string'),\n",
       " ('council_district', 'int')]"
      ]
     },
     "execution_count": 92,
     "metadata": {},
     "output_type": "execute_result"
    }
   ],
   "source": [
    "case_df.dtypes"
   ]
  },
  {
   "cell_type": "code",
   "execution_count": 93,
   "id": "e1f25824",
   "metadata": {},
   "outputs": [
    {
     "name": "stdout",
     "output_type": "stream",
     "text": [
      "-RECORD 0------------------------------------\n",
      " case_id              | 1014127332           \n",
      " case_opened_date     | 2018-01-01 00:42:00  \n",
      " case_closed_date     | 2018-01-01 12:29:00  \n",
      " SLA_due_date         | 2020-09-26 00:42:00  \n",
      " case_late            | NO                   \n",
      " num_days_late        | -998.5087616000001   \n",
      " case_closed          | true                 \n",
      " dept_division        | Field Operations     \n",
      " service_request_type | Stray Animal         \n",
      " SLA_days             | 999.0                \n",
      " case_status          | Closed               \n",
      " source_id            | svcCRMLS             \n",
      " request_address      | 2315  EL PASO ST,... \n",
      " council_district     | 5                    \n",
      "-RECORD 1------------------------------------\n",
      " case_id              | 1014127333           \n",
      " case_opened_date     | 2018-01-01 00:46:00  \n",
      " case_closed_date     | 2018-01-03 08:11:00  \n",
      " SLA_due_date         | 2018-01-05 08:30:00  \n",
      " case_late            | NO                   \n",
      " num_days_late        | -2.0126041669999997  \n",
      " case_closed          | true                 \n",
      " dept_division        | Storm Water          \n",
      " service_request_type | Removal Of Obstru... \n",
      " SLA_days             | 4.322222222          \n",
      " case_status          | Closed               \n",
      " source_id            | svcCRMSS             \n",
      " request_address      | 2215  GOLIAD RD, ... \n",
      " council_district     | 3                    \n",
      "-RECORD 2------------------------------------\n",
      " case_id              | 1014127334           \n",
      " case_opened_date     | 2018-01-01 00:48:00  \n",
      " case_closed_date     | 2018-01-02 07:57:00  \n",
      " SLA_due_date         | 2018-01-05 08:30:00  \n",
      " case_late            | NO                   \n",
      " num_days_late        | -3.022337963         \n",
      " case_closed          | true                 \n",
      " dept_division        | Storm Water          \n",
      " service_request_type | Removal Of Obstru... \n",
      " SLA_days             | 4.320729167          \n",
      " case_status          | Closed               \n",
      " source_id            | svcCRMSS             \n",
      " request_address      | 102  PALFREY ST W... \n",
      " council_district     | 3                    \n",
      "-RECORD 3------------------------------------\n",
      " case_id              | 1014127335           \n",
      " case_opened_date     | 2018-01-01 01:29:00  \n",
      " case_closed_date     | 2018-01-02 08:13:00  \n",
      " SLA_due_date         | 2018-01-17 08:30:00  \n",
      " case_late            | NO                   \n",
      " num_days_late        | -15.01148148         \n",
      " case_closed          | true                 \n",
      " dept_division        | Code Enforcement     \n",
      " service_request_type | Front Or Side Yar... \n",
      " SLA_days             | 16.29188657          \n",
      " case_status          | Closed               \n",
      " source_id            | svcCRMSS             \n",
      " request_address      | 114  LA GARDE ST,... \n",
      " council_district     | 3                    \n",
      "-RECORD 4------------------------------------\n",
      " case_id              | 1014127336           \n",
      " case_opened_date     | 2018-01-01 01:34:00  \n",
      " case_closed_date     | 2018-01-01 13:29:00  \n",
      " SLA_due_date         | 2018-01-01 04:34:00  \n",
      " case_late            | YES                  \n",
      " num_days_late        | 0.37216435200000003  \n",
      " case_closed          | true                 \n",
      " dept_division        | Field Operations     \n",
      " service_request_type | Animal Cruelty(Cr... \n",
      " SLA_days             | 0.125                \n",
      " case_status          | Closed               \n",
      " source_id            | svcCRMSS             \n",
      " request_address      | 734  CLEARVIEW DR... \n",
      " council_district     | 7                    \n",
      "only showing top 5 rows\n",
      "\n"
     ]
    }
   ],
   "source": [
    "case_df.show(5, vertical = True)"
   ]
  },
  {
   "cell_type": "markdown",
   "id": "7041e324",
   "metadata": {},
   "source": [
    "#### Department"
   ]
  },
  {
   "cell_type": "code",
   "execution_count": 48,
   "id": "276d1500",
   "metadata": {},
   "outputs": [
    {
     "data": {
      "text/plain": [
       "[('dept_division', 'string'),\n",
       " ('dept_name', 'string'),\n",
       " ('standardized_dept_name', 'string'),\n",
       " ('dept_subject_to_SLA', 'string')]"
      ]
     },
     "execution_count": 48,
     "metadata": {},
     "output_type": "execute_result"
    }
   ],
   "source": [
    "dept_df.dtypes"
   ]
  },
  {
   "cell_type": "code",
   "execution_count": 49,
   "id": "ed625030",
   "metadata": {},
   "outputs": [
    {
     "name": "stdout",
     "output_type": "stream",
     "text": [
      "+--------------------+--------------------+----------------------+-------------------+\n",
      "|       dept_division|           dept_name|standardized_dept_name|dept_subject_to_SLA|\n",
      "+--------------------+--------------------+----------------------+-------------------+\n",
      "|     311 Call Center|    Customer Service|      Customer Service|                YES|\n",
      "|               Brush|Solid Waste Manag...|           Solid Waste|                YES|\n",
      "|     Clean and Green|Parks and Recreation|    Parks & Recreation|                YES|\n",
      "|Clean and Green N...|Parks and Recreation|    Parks & Recreation|                YES|\n",
      "|    Code Enforcement|Code Enforcement ...|  DSD/Code Enforcement|                YES|\n",
      "+--------------------+--------------------+----------------------+-------------------+\n",
      "only showing top 5 rows\n",
      "\n"
     ]
    }
   ],
   "source": [
    "dept_df.show(5)"
   ]
  },
  {
   "cell_type": "markdown",
   "id": "1b20a046",
   "metadata": {},
   "source": [
    "The `dept_subject_to_SLA` column could be a boolean. "
   ]
  },
  {
   "cell_type": "code",
   "execution_count": 60,
   "id": "794c9b62",
   "metadata": {},
   "outputs": [],
   "source": [
    "dept_df = dept_df.withColumn(\"dept_subject_to_SLA\",col(\"dept_subject_to_SLA\").cast(BooleanType())) "
   ]
  },
  {
   "cell_type": "code",
   "execution_count": 61,
   "id": "133dbb90",
   "metadata": {},
   "outputs": [
    {
     "name": "stdout",
     "output_type": "stream",
     "text": [
      "+--------------------+--------------------+----------------------+-------------------+\n",
      "|       dept_division|           dept_name|standardized_dept_name|dept_subject_to_SLA|\n",
      "+--------------------+--------------------+----------------------+-------------------+\n",
      "|     311 Call Center|    Customer Service|      Customer Service|               true|\n",
      "|               Brush|Solid Waste Manag...|           Solid Waste|               true|\n",
      "|     Clean and Green|Parks and Recreation|    Parks & Recreation|               true|\n",
      "|Clean and Green N...|Parks and Recreation|    Parks & Recreation|               true|\n",
      "|    Code Enforcement|Code Enforcement ...|  DSD/Code Enforcement|               true|\n",
      "+--------------------+--------------------+----------------------+-------------------+\n",
      "only showing top 5 rows\n",
      "\n"
     ]
    }
   ],
   "source": [
    "dept_df.show(5)"
   ]
  },
  {
   "cell_type": "markdown",
   "id": "b00c7c74",
   "metadata": {},
   "source": [
    "#### Source"
   ]
  },
  {
   "cell_type": "code",
   "execution_count": 79,
   "id": "d1268a0d",
   "metadata": {},
   "outputs": [
    {
     "data": {
      "text/plain": [
       "[('source_id', 'string'), ('source_username', 'string')]"
      ]
     },
     "execution_count": 79,
     "metadata": {},
     "output_type": "execute_result"
    }
   ],
   "source": [
    "source_df.dtypes"
   ]
  },
  {
   "cell_type": "code",
   "execution_count": 80,
   "id": "2d10b151",
   "metadata": {},
   "outputs": [
    {
     "name": "stdout",
     "output_type": "stream",
     "text": [
      "+---------+----------------+\n",
      "|source_id| source_username|\n",
      "+---------+----------------+\n",
      "|   100137|Merlene Blodgett|\n",
      "|   103582|     Carmen Cura|\n",
      "|   106463| Richard Sanchez|\n",
      "|   119403|  Betty De Hoyos|\n",
      "|   119555|  Socorro Quiara|\n",
      "+---------+----------------+\n",
      "only showing top 5 rows\n",
      "\n"
     ]
    }
   ],
   "source": [
    "source_df.show(5)"
   ]
  },
  {
   "cell_type": "markdown",
   "id": "42f8cefa",
   "metadata": {},
   "source": [
    "The `source_id` could be an integer value. "
   ]
  },
  {
   "cell_type": "code",
   "execution_count": 82,
   "id": "589453a0",
   "metadata": {},
   "outputs": [],
   "source": [
    "source_df = source_df.withColumn(\"source_id\", source_df.source_id.cast(IntegerType()))"
   ]
  },
  {
   "cell_type": "code",
   "execution_count": 83,
   "id": "97c3a8bc",
   "metadata": {},
   "outputs": [
    {
     "data": {
      "text/plain": [
       "[('source_id', 'int'), ('source_username', 'string')]"
      ]
     },
     "execution_count": 83,
     "metadata": {},
     "output_type": "execute_result"
    }
   ],
   "source": [
    "source_df.dtypes"
   ]
  },
  {
   "cell_type": "code",
   "execution_count": 84,
   "id": "a6a1ed7a",
   "metadata": {},
   "outputs": [
    {
     "name": "stdout",
     "output_type": "stream",
     "text": [
      "+---------+----------------+\n",
      "|source_id| source_username|\n",
      "+---------+----------------+\n",
      "|   100137|Merlene Blodgett|\n",
      "|   103582|     Carmen Cura|\n",
      "|   106463| Richard Sanchez|\n",
      "|   119403|  Betty De Hoyos|\n",
      "|   119555|  Socorro Quiara|\n",
      "+---------+----------------+\n",
      "only showing top 5 rows\n",
      "\n"
     ]
    }
   ],
   "source": [
    "source_df.show(5)"
   ]
  },
  {
   "cell_type": "markdown",
   "id": "7478f7f7",
   "metadata": {},
   "source": [
    "## Part 2"
   ]
  },
  {
   "cell_type": "markdown",
   "id": "ffef3b66",
   "metadata": {},
   "source": [
    "### How old is the latest (in terms of days past SLA) currently open issue? How long has the oldest (in terms of days since opened) currently opened issue been open?"
   ]
  },
  {
   "cell_type": "markdown",
   "id": "e8cace9c",
   "metadata": {},
   "source": [
    "First we must make a subset of the current open issues, then find the SLA date furthest in the past."
   ]
  },
  {
   "cell_type": "code",
   "execution_count": 88,
   "id": "d3b913aa",
   "metadata": {},
   "outputs": [
    {
     "name": "stdout",
     "output_type": "stream",
     "text": [
      "-RECORD 0------------------------------------\n",
      " case_id              | 1014127332           \n",
      " case_opened_date     | 2018-01-01 00:42:00  \n",
      " case_closed_date     | 2018-01-01 12:29:00  \n",
      " SLA_due_date         | 2020-09-26 00:42:00  \n",
      " case_late            | NO                   \n",
      " num_days_late        | -998.5087616000001   \n",
      " case_closed          | YES                  \n",
      " dept_division        | Field Operations     \n",
      " service_request_type | Stray Animal         \n",
      " SLA_days             | 999.0                \n",
      " case_status          | Closed               \n",
      " source_id            | svcCRMLS             \n",
      " request_address      | 2315  EL PASO ST,... \n",
      " council_district     | 5                    \n",
      "-RECORD 1------------------------------------\n",
      " case_id              | 1014127333           \n",
      " case_opened_date     | 2018-01-01 00:46:00  \n",
      " case_closed_date     | 2018-01-03 08:11:00  \n",
      " SLA_due_date         | 2018-01-05 08:30:00  \n",
      " case_late            | NO                   \n",
      " num_days_late        | -2.0126041669999997  \n",
      " case_closed          | YES                  \n",
      " dept_division        | Storm Water          \n",
      " service_request_type | Removal Of Obstru... \n",
      " SLA_days             | 4.322222222          \n",
      " case_status          | Closed               \n",
      " source_id            | svcCRMSS             \n",
      " request_address      | 2215  GOLIAD RD, ... \n",
      " council_district     | 3                    \n",
      "only showing top 2 rows\n",
      "\n"
     ]
    }
   ],
   "source": [
    "case_df.show(2, vertical = True)"
   ]
  },
  {
   "cell_type": "code",
   "execution_count": 105,
   "id": "12670e5d",
   "metadata": {},
   "outputs": [],
   "source": [
    "case_df = (\n",
    "    case_df.withColumn(\n",
    "        \"case_age\", datediff(current_timestamp(), \"case_opened_date\")\n",
    "    )\n",
    "    .withColumn(\n",
    "        \"days_to_closed\", datediff(\"case_closed_date\", \"case_opened_date\")\n",
    "    )\n",
    "    .withColumn(\n",
    "        \"case_lifetime\",\n",
    "        when(expr(\"! case_closed\"), col(\"case_age\")).otherwise(\n",
    "            col(\"days_to_closed\")\n",
    "        ),\n",
    "    )\n",
    ")\n",
    "\n",
    "open_cases = case_df.select(\n",
    "    \"case_closed\",\n",
    "    \"case_opened_date\",\n",
    "    \"SLA_due_date\",\n",
    "    \"case_age\",\n",
    "    \"days_to_closed\",\n",
    "    \"case_lifetime\",\n",
    ").where(expr(\"! case_closed\"))"
   ]
  },
  {
   "cell_type": "code",
   "execution_count": 106,
   "id": "039fb2f9",
   "metadata": {},
   "outputs": [
    {
     "name": "stdout",
     "output_type": "stream",
     "text": [
      "+-----------+-------------------+-------------------+--------+--------------+-------------+\n",
      "|case_closed|   case_opened_date|       SLA_due_date|case_age|days_to_closed|case_lifetime|\n",
      "+-----------+-------------------+-------------------+--------+--------------+-------------+\n",
      "|      false|2018-01-02 09:39:00|2018-01-09 09:39:00|    1406|          null|         1406|\n",
      "|      false|2018-01-02 10:49:00|2018-05-10 10:49:00|    1406|          null|         1406|\n",
      "|      false|2018-01-02 13:45:00|2018-03-07 13:45:00|    1406|          null|         1406|\n",
      "|      false|2018-01-02 14:09:00|2018-05-10 14:09:00|    1406|          null|         1406|\n",
      "|      false|2018-01-02 14:34:00|2018-05-10 14:34:00|    1406|          null|         1406|\n",
      "|      false|2018-01-02 15:22:00|2018-01-09 15:22:00|    1406|          null|         1406|\n",
      "|      false|2018-01-02 15:58:00|2018-01-17 15:58:00|    1406|          null|         1406|\n",
      "|      false|2018-01-03 08:04:00|2018-01-10 08:30:00|    1405|          null|         1405|\n",
      "|      false|2018-01-03 09:18:00|2018-01-18 09:18:00|    1405|          null|         1405|\n",
      "|      false|2018-01-03 09:26:00|2018-10-25 09:26:00|    1405|          null|         1405|\n",
      "+-----------+-------------------+-------------------+--------+--------------+-------------+\n",
      "only showing top 10 rows\n",
      "\n"
     ]
    }
   ],
   "source": [
    "open_cases.show(10)"
   ]
  },
  {
   "cell_type": "code",
   "execution_count": 127,
   "id": "99024a52",
   "metadata": {},
   "outputs": [
    {
     "name": "stdout",
     "output_type": "stream",
     "text": [
      "+---------------------+\n",
      "|min(case_opened_date)|\n",
      "+---------------------+\n",
      "|  2017-01-01 13:48:00|\n",
      "+---------------------+\n",
      "\n"
     ]
    }
   ],
   "source": [
    "open_cases.select(min(\"case_opened_date\")).show()"
   ]
  },
  {
   "cell_type": "code",
   "execution_count": 128,
   "id": "d5c03549",
   "metadata": {},
   "outputs": [],
   "source": [
    "min_open_date = '2017-01-01 13:48:00'"
   ]
  },
  {
   "cell_type": "code",
   "execution_count": 124,
   "id": "35c9221e",
   "metadata": {},
   "outputs": [
    {
     "name": "stdout",
     "output_type": "stream",
     "text": [
      "+-------------------+\n",
      "|  min(SLA_due_date)|\n",
      "+-------------------+\n",
      "|2017-01-17 08:30:00|\n",
      "+-------------------+\n",
      "\n"
     ]
    }
   ],
   "source": [
    "open_cases.select(min(\"SLA_due_date\")).show()"
   ]
  },
  {
   "cell_type": "code",
   "execution_count": 132,
   "id": "29555cad",
   "metadata": {},
   "outputs": [],
   "source": [
    "min_SLA_date = \"2017-01-17 08:30:00\""
   ]
  },
  {
   "cell_type": "code",
   "execution_count": 130,
   "id": "90a34e5c",
   "metadata": {},
   "outputs": [
    {
     "name": "stdout",
     "output_type": "stream",
     "text": [
      "-RECORD 0------------------------------------\n",
      " case_id              | 1013225646           \n",
      " case_opened_date     | 2017-01-01 13:48:00  \n",
      " case_closed_date     | null                 \n",
      " SLA_due_date         | 2017-01-17 08:30:00  \n",
      " case_late            | YES                  \n",
      " num_days_late        | 348.6458333          \n",
      " case_closed          | false                \n",
      " dept_division        | Code Enforcement     \n",
      " service_request_type | No Address Posted    \n",
      " SLA_days             | 15.77859954          \n",
      " case_status          | Open                 \n",
      " source_id            | svcCRMSS             \n",
      " request_address      | 7299  SHADOW RIDG... \n",
      " council_district     | 6                    \n",
      " case_age             | 1772                 \n",
      " days_to_closed       | null                 \n",
      " case_lifetime        | 1772                 \n",
      "\n"
     ]
    }
   ],
   "source": [
    "case_df.where(col(\"case_opened_date\") == min_open_date).show(vertical = True)"
   ]
  },
  {
   "cell_type": "code",
   "execution_count": 134,
   "id": "a5ebf8bd",
   "metadata": {
    "scrolled": false
   },
   "outputs": [
    {
     "name": "stdout",
     "output_type": "stream",
     "text": [
      "-RECORD 0------------------------------------\n",
      " case_id              | 1013225646           \n",
      " case_opened_date     | 2017-01-01 13:48:00  \n",
      " case_closed_date     | null                 \n",
      " SLA_due_date         | 2017-01-17 08:30:00  \n",
      " case_late            | YES                  \n",
      " num_days_late        | 348.6458333          \n",
      " case_closed          | false                \n",
      " dept_division        | Code Enforcement     \n",
      " service_request_type | No Address Posted    \n",
      " SLA_days             | 15.77859954          \n",
      " case_status          | Open                 \n",
      " source_id            | svcCRMSS             \n",
      " request_address      | 7299  SHADOW RIDG... \n",
      " council_district     | 6                    \n",
      " case_age             | 1772                 \n",
      " days_to_closed       | null                 \n",
      " case_lifetime        | 1772                 \n",
      "-RECORD 1------------------------------------\n",
      " case_id              | 1013225651           \n",
      " case_opened_date     | 2017-01-01 13:57:00  \n",
      " case_closed_date     | null                 \n",
      " SLA_due_date         | 2017-01-17 08:30:00  \n",
      " case_late            | YES                  \n",
      " num_days_late        | 348.6458333          \n",
      " case_closed          | false                \n",
      " dept_division        | Code Enforcement     \n",
      " service_request_type | No Address Posted    \n",
      " SLA_days             | 15.77247685          \n",
      " case_status          | Open                 \n",
      " source_id            | svcCRMSS             \n",
      " request_address      | 7295  SHADOW RIDG... \n",
      " council_district     | 6                    \n",
      " case_age             | 1772                 \n",
      " days_to_closed       | null                 \n",
      " case_lifetime        | 1772                 \n",
      "\n"
     ]
    }
   ],
   "source": [
    "case_df.where((col(\"SLA_due_date\") == min_SLA_date) & (expr(\"! case_closed\")) ).show(vertical = True)"
   ]
  },
  {
   "cell_type": "markdown",
   "id": "5ea52c25",
   "metadata": {},
   "source": [
    "### How many Stray Animal cases are there?"
   ]
  },
  {
   "cell_type": "code",
   "execution_count": 135,
   "id": "99281cb2",
   "metadata": {},
   "outputs": [],
   "source": [
    "stray_animals_cases = case_df.where(col('service_request_type') == \"Stray Animal\")"
   ]
  },
  {
   "cell_type": "code",
   "execution_count": 137,
   "id": "c404d849",
   "metadata": {},
   "outputs": [
    {
     "name": "stdout",
     "output_type": "stream",
     "text": [
      "-RECORD 0------------------------------------\n",
      " case_id              | 1014127332           \n",
      " case_opened_date     | 2018-01-01 00:42:00  \n",
      " case_closed_date     | 2018-01-01 12:29:00  \n",
      " SLA_due_date         | 2020-09-26 00:42:00  \n",
      " case_late            | NO                   \n",
      " num_days_late        | -998.5087616000001   \n",
      " case_closed          | true                 \n",
      " dept_division        | Field Operations     \n",
      " service_request_type | Stray Animal         \n",
      " SLA_days             | 999.0                \n",
      " case_status          | Closed               \n",
      " source_id            | svcCRMLS             \n",
      " request_address      | 2315  EL PASO ST,... \n",
      " council_district     | 5                    \n",
      " case_age             | 1407                 \n",
      " days_to_closed       | 0                    \n",
      " case_lifetime        | 0                    \n",
      "-RECORD 1------------------------------------\n",
      " case_id              | 1014127380           \n",
      " case_opened_date     | 2018-01-01 08:39:00  \n",
      " case_closed_date     | 2018-01-01 12:30:00  \n",
      " SLA_due_date         | 2020-09-26 08:39:00  \n",
      " case_late            | NO                   \n",
      " num_days_late        | -998.8396875         \n",
      " case_closed          | true                 \n",
      " dept_division        | Field Operations     \n",
      " service_request_type | Stray Animal         \n",
      " SLA_days             | 999.0                \n",
      " case_status          | Closed               \n",
      " source_id            | 139344               \n",
      " request_address      | FREDSBG RD and NB... \n",
      " council_district     | 7                    \n",
      " case_age             | 1407                 \n",
      " days_to_closed       | 0                    \n",
      " case_lifetime        | 0                    \n",
      "-RECORD 2------------------------------------\n",
      " case_id              | 1014127403           \n",
      " case_opened_date     | 2018-01-01 09:51:00  \n",
      " case_closed_date     | 2018-01-01 11:53:00  \n",
      " SLA_due_date         | 2020-09-26 09:51:00  \n",
      " case_late            | NO                   \n",
      " num_days_late        | -998.9157176000001   \n",
      " case_closed          | true                 \n",
      " dept_division        | Field Operations     \n",
      " service_request_type | Stray Animal         \n",
      " SLA_days             | 999.0                \n",
      " case_status          | Closed               \n",
      " source_id            | ns16326              \n",
      " request_address      | 700  HILDEBRAND E... \n",
      " council_district     | 1                    \n",
      " case_age             | 1407                 \n",
      " days_to_closed       | 0                    \n",
      " case_lifetime        | 0                    \n",
      "-RECORD 3------------------------------------\n",
      " case_id              | 1014127420           \n",
      " case_opened_date     | 2018-01-01 10:39:00  \n",
      " case_closed_date     | 2018-01-01 12:29:00  \n",
      " SLA_due_date         | 2020-09-26 10:39:00  \n",
      " case_late            | NO                   \n",
      " num_days_late        | -998.9229977         \n",
      " case_closed          | true                 \n",
      " dept_division        | Field Operations     \n",
      " service_request_type | Stray Animal         \n",
      " SLA_days             | 999.0                \n",
      " case_status          | Closed               \n",
      " source_id            | 139344               \n",
      " request_address      | 702  SANDMEYER, S... \n",
      " council_district     | 2                    \n",
      " case_age             | 1407                 \n",
      " days_to_closed       | 0                    \n",
      " case_lifetime        | 0                    \n",
      "-RECORD 4------------------------------------\n",
      " case_id              | 1014127424           \n",
      " case_opened_date     | 2018-01-01 10:44:00  \n",
      " case_closed_date     | 2018-01-01 12:43:00  \n",
      " SLA_due_date         | 2020-09-26 10:44:00  \n",
      " case_late            | NO                   \n",
      " num_days_late        | -998.9179977         \n",
      " case_closed          | true                 \n",
      " dept_division        | Field Operations     \n",
      " service_request_type | Stray Animal         \n",
      " SLA_days             | 999.0                \n",
      " case_status          | Closed               \n",
      " source_id            | ns16326              \n",
      " request_address      | CULEBRA RD and IH... \n",
      " council_district     | 1                    \n",
      " case_age             | 1407                 \n",
      " days_to_closed       | 0                    \n",
      " case_lifetime        | 0                    \n",
      "only showing top 5 rows\n",
      "\n"
     ]
    }
   ],
   "source": [
    "stray_animals_cases.show(5, vertical = True)"
   ]
  },
  {
   "cell_type": "code",
   "execution_count": 141,
   "id": "aaff48f9",
   "metadata": {},
   "outputs": [
    {
     "data": {
      "text/plain": [
       "26760"
      ]
     },
     "execution_count": 141,
     "metadata": {},
     "output_type": "execute_result"
    }
   ],
   "source": [
    "stray_animals_cases.count()"
   ]
  },
  {
   "cell_type": "markdown",
   "id": "0d1a305a",
   "metadata": {},
   "source": [
    "There are 26,760 cases of stray animals."
   ]
  },
  {
   "cell_type": "markdown",
   "id": "b399882f",
   "metadata": {},
   "source": [
    "### How many service requests that are assigned to the Field Operations department (dept_division) are not classified as \"Officer Standby\" request type (service_request_type)?"
   ]
  },
  {
   "cell_type": "code",
   "execution_count": 149,
   "id": "991bdead",
   "metadata": {},
   "outputs": [],
   "source": [
    "field_not_standby = case_df.where((col('dept_division') == 'Field Operations')&(col('service_request_type') != 'Officer Standby'))"
   ]
  },
  {
   "cell_type": "code",
   "execution_count": 152,
   "id": "61ce9fe4",
   "metadata": {},
   "outputs": [
    {
     "name": "stdout",
     "output_type": "stream",
     "text": [
      "-RECORD 0------------------------------------\n",
      " case_id              | 1014127332           \n",
      " case_opened_date     | 2018-01-01 00:42:00  \n",
      " case_closed_date     | 2018-01-01 12:29:00  \n",
      " SLA_due_date         | 2020-09-26 00:42:00  \n",
      " case_late            | NO                   \n",
      " num_days_late        | -998.5087616000001   \n",
      " case_closed          | true                 \n",
      " dept_division        | Field Operations     \n",
      " service_request_type | Stray Animal         \n",
      " SLA_days             | 999.0                \n",
      " case_status          | Closed               \n",
      " source_id            | svcCRMLS             \n",
      " request_address      | 2315  EL PASO ST,... \n",
      " council_district     | 5                    \n",
      " case_age             | 1407                 \n",
      " days_to_closed       | 0                    \n",
      " case_lifetime        | 0                    \n",
      "-RECORD 1------------------------------------\n",
      " case_id              | 1014127336           \n",
      " case_opened_date     | 2018-01-01 01:34:00  \n",
      " case_closed_date     | 2018-01-01 13:29:00  \n",
      " SLA_due_date         | 2018-01-01 04:34:00  \n",
      " case_late            | YES                  \n",
      " num_days_late        | 0.37216435200000003  \n",
      " case_closed          | true                 \n",
      " dept_division        | Field Operations     \n",
      " service_request_type | Animal Cruelty(Cr... \n",
      " SLA_days             | 0.125                \n",
      " case_status          | Closed               \n",
      " source_id            | svcCRMSS             \n",
      " request_address      | 734  CLEARVIEW DR... \n",
      " council_district     | 7                    \n",
      " case_age             | 1407                 \n",
      " days_to_closed       | 0                    \n",
      " case_lifetime        | 0                    \n",
      "only showing top 2 rows\n",
      "\n"
     ]
    }
   ],
   "source": [
    "field_not_standby.show(2, vertical = True)"
   ]
  },
  {
   "cell_type": "code",
   "execution_count": 153,
   "id": "829666b8",
   "metadata": {},
   "outputs": [
    {
     "data": {
      "text/plain": [
       "113902"
      ]
     },
     "execution_count": 153,
     "metadata": {},
     "output_type": "execute_result"
    }
   ],
   "source": [
    "field_not_standby.count()"
   ]
  },
  {
   "cell_type": "markdown",
   "id": "a677ec55",
   "metadata": {},
   "source": [
    "There are 113,902 service requests in the Field Operations departments not classified as Officer Standby. "
   ]
  },
  {
   "cell_type": "markdown",
   "id": "7bcc11ab",
   "metadata": {},
   "source": [
    "### Convert the council_district column to a string column."
   ]
  },
  {
   "cell_type": "code",
   "execution_count": null,
   "id": "a8132902",
   "metadata": {},
   "outputs": [],
   "source": [
    "source_df = source_df.withColumn(\"source_id\", source_df.source_id.cast(IntegerType()))"
   ]
  },
  {
   "cell_type": "code",
   "execution_count": 154,
   "id": "db340b41",
   "metadata": {},
   "outputs": [],
   "source": [
    "case_df = case_df.withColumn('council_district', case_df.council_district.cast(StringType()))"
   ]
  },
  {
   "cell_type": "code",
   "execution_count": 155,
   "id": "1ff3b897",
   "metadata": {},
   "outputs": [
    {
     "data": {
      "text/plain": [
       "[('case_id', 'int'),\n",
       " ('case_opened_date', 'timestamp'),\n",
       " ('case_closed_date', 'timestamp'),\n",
       " ('SLA_due_date', 'timestamp'),\n",
       " ('case_late', 'string'),\n",
       " ('num_days_late', 'double'),\n",
       " ('case_closed', 'boolean'),\n",
       " ('dept_division', 'string'),\n",
       " ('service_request_type', 'string'),\n",
       " ('SLA_days', 'double'),\n",
       " ('case_status', 'string'),\n",
       " ('source_id', 'string'),\n",
       " ('request_address', 'string'),\n",
       " ('council_district', 'string'),\n",
       " ('case_age', 'int'),\n",
       " ('days_to_closed', 'int'),\n",
       " ('case_lifetime', 'int')]"
      ]
     },
     "execution_count": 155,
     "metadata": {},
     "output_type": "execute_result"
    }
   ],
   "source": [
    "case_df.dtypes"
   ]
  },
  {
   "cell_type": "code",
   "execution_count": 156,
   "id": "345fefcd",
   "metadata": {},
   "outputs": [
    {
     "name": "stdout",
     "output_type": "stream",
     "text": [
      "-RECORD 0------------------------------------\n",
      " case_id              | 1014127332           \n",
      " case_opened_date     | 2018-01-01 00:42:00  \n",
      " case_closed_date     | 2018-01-01 12:29:00  \n",
      " SLA_due_date         | 2020-09-26 00:42:00  \n",
      " case_late            | NO                   \n",
      " num_days_late        | -998.5087616000001   \n",
      " case_closed          | true                 \n",
      " dept_division        | Field Operations     \n",
      " service_request_type | Stray Animal         \n",
      " SLA_days             | 999.0                \n",
      " case_status          | Closed               \n",
      " source_id            | svcCRMLS             \n",
      " request_address      | 2315  EL PASO ST,... \n",
      " council_district     | 5                    \n",
      " case_age             | 1407                 \n",
      " days_to_closed       | 0                    \n",
      " case_lifetime        | 0                    \n",
      "-RECORD 1------------------------------------\n",
      " case_id              | 1014127333           \n",
      " case_opened_date     | 2018-01-01 00:46:00  \n",
      " case_closed_date     | 2018-01-03 08:11:00  \n",
      " SLA_due_date         | 2018-01-05 08:30:00  \n",
      " case_late            | NO                   \n",
      " num_days_late        | -2.0126041669999997  \n",
      " case_closed          | true                 \n",
      " dept_division        | Storm Water          \n",
      " service_request_type | Removal Of Obstru... \n",
      " SLA_days             | 4.322222222          \n",
      " case_status          | Closed               \n",
      " source_id            | svcCRMSS             \n",
      " request_address      | 2215  GOLIAD RD, ... \n",
      " council_district     | 3                    \n",
      " case_age             | 1407                 \n",
      " days_to_closed       | 2                    \n",
      " case_lifetime        | 2                    \n",
      "only showing top 2 rows\n",
      "\n"
     ]
    }
   ],
   "source": [
    "case_df.show(2, vertical = True)"
   ]
  },
  {
   "cell_type": "markdown",
   "id": "2e507e42",
   "metadata": {},
   "source": [
    "### Extract the year from the case_closed_date column."
   ]
  },
  {
   "cell_type": "code",
   "execution_count": 160,
   "id": "c0fb9200",
   "metadata": {},
   "outputs": [
    {
     "name": "stdout",
     "output_type": "stream",
     "text": [
      "+----------------------+\n",
      "|year(case_opened_date)|\n",
      "+----------------------+\n",
      "|                  2018|\n",
      "|                  2018|\n",
      "|                  2018|\n",
      "|                  2018|\n",
      "|                  2018|\n",
      "|                  2018|\n",
      "|                  2018|\n",
      "|                  2018|\n",
      "|                  2018|\n",
      "|                  2018|\n",
      "|                  2018|\n",
      "|                  2018|\n",
      "|                  2018|\n",
      "|                  2018|\n",
      "|                  2018|\n",
      "|                  2018|\n",
      "|                  2018|\n",
      "|                  2018|\n",
      "|                  2018|\n",
      "|                  2018|\n",
      "+----------------------+\n",
      "only showing top 20 rows\n",
      "\n"
     ]
    }
   ],
   "source": [
    "case_df.select(year(\"case_opened_date\")).show()"
   ]
  },
  {
   "cell_type": "markdown",
   "id": "1e711081",
   "metadata": {},
   "source": [
    "### Convert num_days_late from days to hours in new columns num_hours_late.\n"
   ]
  },
  {
   "cell_type": "code",
   "execution_count": 161,
   "id": "16ee7e53",
   "metadata": {},
   "outputs": [
    {
     "data": {
      "text/plain": [
       "[('case_id', 'int'),\n",
       " ('case_opened_date', 'timestamp'),\n",
       " ('case_closed_date', 'timestamp'),\n",
       " ('SLA_due_date', 'timestamp'),\n",
       " ('case_late', 'string'),\n",
       " ('num_days_late', 'double'),\n",
       " ('case_closed', 'boolean'),\n",
       " ('dept_division', 'string'),\n",
       " ('service_request_type', 'string'),\n",
       " ('SLA_days', 'double'),\n",
       " ('case_status', 'string'),\n",
       " ('source_id', 'string'),\n",
       " ('request_address', 'string'),\n",
       " ('council_district', 'string'),\n",
       " ('case_age', 'int'),\n",
       " ('days_to_closed', 'int'),\n",
       " ('case_lifetime', 'int')]"
      ]
     },
     "execution_count": 161,
     "metadata": {},
     "output_type": "execute_result"
    }
   ],
   "source": [
    "case_df.dtypes"
   ]
  },
  {
   "cell_type": "code",
   "execution_count": 176,
   "id": "f21540d3",
   "metadata": {},
   "outputs": [
    {
     "name": "stdout",
     "output_type": "stream",
     "text": [
      "-RECORD 0------------------------------------\n",
      " case_id              | 1014127332           \n",
      " case_opened_date     | 2018-01-01 00:42:00  \n",
      " case_closed_date     | 2018-01-01 12:29:00  \n",
      " SLA_due_date         | 2020-09-26 00:42:00  \n",
      " case_late            | NO                   \n",
      " num_days_late        | -998.5087616000001   \n",
      " case_closed          | true                 \n",
      " dept_division        | Field Operations     \n",
      " service_request_type | Stray Animal         \n",
      " SLA_days             | 999.0                \n",
      " case_status          | Closed               \n",
      " source_id            | svcCRMLS             \n",
      " request_address      | 2315  EL PASO ST,... \n",
      " council_district     | 5                    \n",
      " case_age             | 1407                 \n",
      " days_to_closed       | 0                    \n",
      " case_lifetime        | 0                    \n",
      " num_hours_late       | -23964.2102784       \n",
      "-RECORD 1------------------------------------\n",
      " case_id              | 1014127333           \n",
      " case_opened_date     | 2018-01-01 00:46:00  \n",
      " case_closed_date     | 2018-01-03 08:11:00  \n",
      " SLA_due_date         | 2018-01-05 08:30:00  \n",
      " case_late            | NO                   \n",
      " num_days_late        | -2.0126041669999997  \n",
      " case_closed          | true                 \n",
      " dept_division        | Storm Water          \n",
      " service_request_type | Removal Of Obstru... \n",
      " SLA_days             | 4.322222222          \n",
      " case_status          | Closed               \n",
      " source_id            | svcCRMSS             \n",
      " request_address      | 2215  GOLIAD RD, ... \n",
      " council_district     | 3                    \n",
      " case_age             | 1407                 \n",
      " days_to_closed       | 2                    \n",
      " case_lifetime        | 2                    \n",
      " num_hours_late       | -48.302500007999996  \n",
      "only showing top 2 rows\n",
      "\n"
     ]
    }
   ],
   "source": [
    "case_df.withColumn(\"num_hours_late\", col(\"num_days_late\") * 24).show(2, vertical = True)"
   ]
  },
  {
   "cell_type": "markdown",
   "id": "47caf9f6",
   "metadata": {},
   "source": [
    "### Join the case data with the source and department data."
   ]
  },
  {
   "cell_type": "code",
   "execution_count": 177,
   "id": "033c3c31",
   "metadata": {},
   "outputs": [
    {
     "name": "stdout",
     "output_type": "stream",
     "text": [
      "-RECORD 0------------------------------------\n",
      " case_id              | 1014127332           \n",
      " case_opened_date     | 2018-01-01 00:42:00  \n",
      " case_closed_date     | 2018-01-01 12:29:00  \n",
      " SLA_due_date         | 2020-09-26 00:42:00  \n",
      " case_late            | NO                   \n",
      " num_days_late        | -998.5087616000001   \n",
      " case_closed          | true                 \n",
      " dept_division        | Field Operations     \n",
      " service_request_type | Stray Animal         \n",
      " SLA_days             | 999.0                \n",
      " case_status          | Closed               \n",
      " source_id            | svcCRMLS             \n",
      " request_address      | 2315  EL PASO ST,... \n",
      " council_district     | 5                    \n",
      " case_age             | 1407                 \n",
      " days_to_closed       | 0                    \n",
      " case_lifetime        | 0                    \n",
      "only showing top 1 row\n",
      "\n"
     ]
    }
   ],
   "source": [
    "case_df.show(1, vertical = True)"
   ]
  },
  {
   "cell_type": "code",
   "execution_count": 178,
   "id": "822c641b",
   "metadata": {},
   "outputs": [
    {
     "name": "stdout",
     "output_type": "stream",
     "text": [
      "-RECORD 0----------------------------------\n",
      " dept_division          | 311 Call Center  \n",
      " dept_name              | Customer Service \n",
      " standardized_dept_name | Customer Service \n",
      " dept_subject_to_SLA    | true             \n",
      "only showing top 1 row\n",
      "\n"
     ]
    }
   ],
   "source": [
    "dept_df.show(1, vertical = True)"
   ]
  },
  {
   "cell_type": "code",
   "execution_count": 179,
   "id": "0943f929",
   "metadata": {},
   "outputs": [
    {
     "name": "stdout",
     "output_type": "stream",
     "text": [
      "-RECORD 0---------------------------\n",
      " source_id       | 100137           \n",
      " source_username | Merlene Blodgett \n",
      "only showing top 1 row\n",
      "\n"
     ]
    }
   ],
   "source": [
    "source_df.show(1, vertical = True)"
   ]
  },
  {
   "cell_type": "code",
   "execution_count": 182,
   "id": "f2a535e5",
   "metadata": {},
   "outputs": [],
   "source": [
    "df = (\n",
    "    case_df\n",
    "    # left join on dept_division\n",
    "    .join(dept_df, \"dept_division\", \"left\")\n",
    "    # drop all the columns except for standardized name, as it has much fewer unique values\n",
    "    .drop(dept_df.dept_division)\n",
    "    .drop(dept_df.dept_name)\n",
    "    .drop(dept_df.dept_division)\n",
    "    .withColumnRenamed(\"standardized_dept_name\", \"department\")\n",
    "    # convert to a boolean\n",
    "    .withColumn(\"dept_subject_to_SLA\", col(\"dept_subject_to_SLA\") == \"YES\")\n",
    ")\n"
   ]
  },
  {
   "cell_type": "code",
   "execution_count": 184,
   "id": "772623de",
   "metadata": {},
   "outputs": [
    {
     "name": "stdout",
     "output_type": "stream",
     "text": [
      "-RECORD 0------------------------------------\n",
      " dept_division        | Field Operations     \n",
      " case_id              | 1014127332           \n",
      " case_opened_date     | 2018-01-01 00:42:00  \n",
      " case_closed_date     | 2018-01-01 12:29:00  \n",
      " SLA_due_date         | 2020-09-26 00:42:00  \n",
      " case_late            | NO                   \n",
      " num_days_late        | -998.5087616000001   \n",
      " case_closed          | true                 \n",
      " service_request_type | Stray Animal         \n",
      " SLA_days             | 999.0                \n",
      " case_status          | Closed               \n",
      " source_id            | svcCRMLS             \n",
      " request_address      | 2315  EL PASO ST,... \n",
      " council_district     | 5                    \n",
      " case_age             | 1407                 \n",
      " days_to_closed       | 0                    \n",
      " case_lifetime        | 0                    \n",
      " department           | Animal Care Services \n",
      " dept_subject_to_SLA  | true                 \n",
      "-RECORD 1------------------------------------\n",
      " dept_division        | Storm Water          \n",
      " case_id              | 1014127333           \n",
      " case_opened_date     | 2018-01-01 00:46:00  \n",
      " case_closed_date     | 2018-01-03 08:11:00  \n",
      " SLA_due_date         | 2018-01-05 08:30:00  \n",
      " case_late            | NO                   \n",
      " num_days_late        | -2.0126041669999997  \n",
      " case_closed          | true                 \n",
      " service_request_type | Removal Of Obstru... \n",
      " SLA_days             | 4.322222222          \n",
      " case_status          | Closed               \n",
      " source_id            | svcCRMSS             \n",
      " request_address      | 2215  GOLIAD RD, ... \n",
      " council_district     | 3                    \n",
      " case_age             | 1407                 \n",
      " days_to_closed       | 2                    \n",
      " case_lifetime        | 2                    \n",
      " department           | Trans & Cap Impro... \n",
      " dept_subject_to_SLA  | true                 \n",
      "only showing top 2 rows\n",
      "\n"
     ]
    }
   ],
   "source": [
    "df.show(2, vertical = True)"
   ]
  },
  {
   "cell_type": "code",
   "execution_count": 185,
   "id": "6e4c172e",
   "metadata": {},
   "outputs": [],
   "source": [
    "df = (\n",
    "    df\n",
    "    # left join on dept_division\n",
    "    .join(source_df, \"source_id\", \"left\")\n",
    ")"
   ]
  },
  {
   "cell_type": "code",
   "execution_count": 186,
   "id": "d83a4ebf",
   "metadata": {},
   "outputs": [
    {
     "name": "stdout",
     "output_type": "stream",
     "text": [
      "-RECORD 0------------------------------------\n",
      " source_id            | svcCRMLS             \n",
      " dept_division        | Field Operations     \n",
      " case_id              | 1014127332           \n",
      " case_opened_date     | 2018-01-01 00:42:00  \n",
      " case_closed_date     | 2018-01-01 12:29:00  \n",
      " SLA_due_date         | 2020-09-26 00:42:00  \n",
      " case_late            | NO                   \n",
      " num_days_late        | -998.5087616000001   \n",
      " case_closed          | true                 \n",
      " service_request_type | Stray Animal         \n",
      " SLA_days             | 999.0                \n",
      " case_status          | Closed               \n",
      " request_address      | 2315  EL PASO ST,... \n",
      " council_district     | 5                    \n",
      " case_age             | 1407                 \n",
      " days_to_closed       | 0                    \n",
      " case_lifetime        | 0                    \n",
      " department           | Animal Care Services \n",
      " dept_subject_to_SLA  | true                 \n",
      " source_username      | null                 \n",
      "-RECORD 1------------------------------------\n",
      " source_id            | svcCRMSS             \n",
      " dept_division        | Storm Water          \n",
      " case_id              | 1014127333           \n",
      " case_opened_date     | 2018-01-01 00:46:00  \n",
      " case_closed_date     | 2018-01-03 08:11:00  \n",
      " SLA_due_date         | 2018-01-05 08:30:00  \n",
      " case_late            | NO                   \n",
      " num_days_late        | -2.0126041669999997  \n",
      " case_closed          | true                 \n",
      " service_request_type | Removal Of Obstru... \n",
      " SLA_days             | 4.322222222          \n",
      " case_status          | Closed               \n",
      " request_address      | 2215  GOLIAD RD, ... \n",
      " council_district     | 3                    \n",
      " case_age             | 1407                 \n",
      " days_to_closed       | 2                    \n",
      " case_lifetime        | 2                    \n",
      " department           | Trans & Cap Impro... \n",
      " dept_subject_to_SLA  | true                 \n",
      " source_username      | null                 \n",
      "only showing top 2 rows\n",
      "\n"
     ]
    }
   ],
   "source": [
    "df.show(2, vertical = True)"
   ]
  },
  {
   "cell_type": "markdown",
   "id": "ae70ac6d",
   "metadata": {},
   "source": [
    "### Are there any cases that do not have a request source?"
   ]
  },
  {
   "cell_type": "code",
   "execution_count": 222,
   "id": "6e159ed3",
   "metadata": {},
   "outputs": [
    {
     "data": {
      "text/plain": [
       "0"
      ]
     },
     "execution_count": 222,
     "metadata": {},
     "output_type": "execute_result"
    }
   ],
   "source": [
    "df.filter(\"source_id is null\").count()"
   ]
  },
  {
   "cell_type": "markdown",
   "id": "eb897307",
   "metadata": {},
   "source": [
    "There are no values that have no source id. "
   ]
  },
  {
   "cell_type": "code",
   "execution_count": 223,
   "id": "035c52c4",
   "metadata": {},
   "outputs": [
    {
     "data": {
      "text/plain": [
       "604269"
      ]
     },
     "execution_count": 223,
     "metadata": {},
     "output_type": "execute_result"
    }
   ],
   "source": [
    "df.filter(\"source_username is null\").count()"
   ]
  },
  {
   "cell_type": "markdown",
   "id": "43eb347b",
   "metadata": {},
   "source": [
    "There are, however, 604,269 cases that lack a request source. "
   ]
  },
  {
   "cell_type": "markdown",
   "id": "5f951833",
   "metadata": {},
   "source": [
    "### What are the top 10 service request types in terms of number of requests?"
   ]
  },
  {
   "cell_type": "code",
   "execution_count": 246,
   "id": "d7ba45d2",
   "metadata": {},
   "outputs": [
    {
     "name": "stdout",
     "output_type": "stream",
     "text": [
      "+--------------------------------+-----+\n",
      "|service_request_type            |count|\n",
      "+--------------------------------+-----+\n",
      "|No Pickup                       |89210|\n",
      "|Overgrown Yard/Trash            |66403|\n",
      "|Bandit Signs                    |32968|\n",
      "|Damaged Cart                    |31163|\n",
      "|Front Or Side Yard Parking      |28920|\n",
      "|Stray Animal                    |27361|\n",
      "|Aggressive Animal(Non-Critical) |25492|\n",
      "|Cart Exchange Request           |22608|\n",
      "|Junk Vehicle On Private Property|21649|\n",
      "|Pot Hole Repair                 |20827|\n",
      "+--------------------------------+-----+\n",
      "only showing top 10 rows\n",
      "\n"
     ]
    }
   ],
   "source": [
    "df.groupby('service_request_type').count().sort(desc('count')).show(10, False)"
   ]
  },
  {
   "cell_type": "markdown",
   "id": "f1ea0205",
   "metadata": {},
   "source": [
    "### What are the top 10 service request types in terms of average days late?"
   ]
  },
  {
   "cell_type": "code",
   "execution_count": 253,
   "id": "c9d98cc7",
   "metadata": {},
   "outputs": [
    {
     "name": "stdout",
     "output_type": "stream",
     "text": [
      "+--------------------------------------+------------------+\n",
      "|service_request_type                  |avg(num_days_late)|\n",
      "+--------------------------------------+------------------+\n",
      "|Zoning: Junk Yards                    |175.95636210420946|\n",
      "|Labeling for Used Mattress            |162.43032902285717|\n",
      "|Record Keeping of Used Mattresses     |153.99724039428568|\n",
      "|Signage Requied for Sale of Used Mattr|151.63868055333333|\n",
      "|Storage of Used Mattress              |142.11255641500003|\n",
      "|Zoning: Recycle Yard                  |135.928516124798  |\n",
      "|Donation Container Enforcement        |131.75610506358706|\n",
      "|License Requied Used Mattress Sales   |128.79828704142858|\n",
      "|Traffic Signal Graffiti               |101.79846062200002|\n",
      "|Complaint                             |72.87050230311695 |\n",
      "+--------------------------------------+------------------+\n",
      "only showing top 10 rows\n",
      "\n"
     ]
    }
   ],
   "source": [
    "(\n",
    "df\n",
    "    .groupby('service_request_type')\n",
    "    .agg(avg(col('num_days_late')))\n",
    "    .sort(desc('avg(num_days_late)'))\n",
    "    .show(10, False)\n",
    "    \n",
    ")"
   ]
  },
  {
   "cell_type": "markdown",
   "id": "dc6b1fef",
   "metadata": {},
   "source": [
    "### Does number of days late depend on department?"
   ]
  },
  {
   "cell_type": "code",
   "execution_count": 259,
   "id": "5dc0593a",
   "metadata": {},
   "outputs": [
    {
     "name": "stdout",
     "output_type": "stream",
     "text": [
      "+------------------------+-------------------+\n",
      "|department              |avg(num_days_late) |\n",
      "+------------------------+-------------------+\n",
      "|Customer Service        |59.7370914963008   |\n",
      "|Solid Waste             |-2.200057513672157 |\n",
      "|Metro Health            |-4.911766979607001 |\n",
      "|Parks & Recreation      |-5.251521960055148 |\n",
      "|Trans & Cap Improvements|-20.612837354052704|\n",
      "|DSD/Code Enforcement    |-38.36938892614494 |\n",
      "|Animal Care Services    |-226.51783940550297|\n",
      "|City Council            |null               |\n",
      "+------------------------+-------------------+\n",
      "\n"
     ]
    }
   ],
   "source": [
    "(\n",
    "df\n",
    "    .groupby('department')\n",
    "    .agg(avg(col('num_days_late')))\n",
    "    .sort(desc('avg(num_days_late)'))\n",
    "    .show(10, False)\n",
    "    \n",
    ")"
   ]
  },
  {
   "cell_type": "markdown",
   "id": "2dbf37b6",
   "metadata": {},
   "source": [
    "Yes. Customer service is the only department that on average is late. "
   ]
  },
  {
   "cell_type": "markdown",
   "id": "62173bc4",
   "metadata": {},
   "source": [
    "### How do number of days late depend on department and request type?"
   ]
  },
  {
   "cell_type": "code",
   "execution_count": 260,
   "id": "780faa00",
   "metadata": {},
   "outputs": [
    {
     "name": "stdout",
     "output_type": "stream",
     "text": [
      "+------------------------+--------------------------------------+------------------+\n",
      "|department              |service_request_type                  |avg(num_days_late)|\n",
      "+------------------------+--------------------------------------+------------------+\n",
      "|DSD/Code Enforcement    |Zoning: Junk Yards                    |175.95636210420946|\n",
      "|DSD/Code Enforcement    |Labeling for Used Mattress            |162.43032902285717|\n",
      "|DSD/Code Enforcement    |Record Keeping of Used Mattresses     |153.99724039428568|\n",
      "|DSD/Code Enforcement    |Signage Requied for Sale of Used Mattr|151.63868055333333|\n",
      "|DSD/Code Enforcement    |Storage of Used Mattress              |142.11255641500003|\n",
      "|DSD/Code Enforcement    |Zoning: Recycle Yard                  |135.928516124798  |\n",
      "|DSD/Code Enforcement    |Donation Container Enforcement        |131.75610506358706|\n",
      "|DSD/Code Enforcement    |License Requied Used Mattress Sales   |128.79828704142858|\n",
      "|Trans & Cap Improvements|Traffic Signal Graffiti               |101.79846062200002|\n",
      "|Customer Service        |Complaint                             |72.87050230311695 |\n",
      "|DSD/Code Enforcement    |Vendors                               |66.54809898507797 |\n",
      "|Parks & Recreation      |Reservation Assistance                |66.03116319       |\n",
      "|DSD/Code Enforcement    |No Address Posted                     |59.87564073362591 |\n",
      "|DSD/Code Enforcement    |Curbstoning                           |59.80862897760526 |\n",
      "|Solid Waste             |Contracted Service Issues             |56.72045236025    |\n",
      "|Trans & Cap Improvements|Status: On-Going CIMS Projects        |37.57064670295009 |\n",
      "|DSD/Code Enforcement    |Historical Building (No Permits)      |31.567148565454545|\n",
      "|DSD/Code Enforcement    |Used Mattress Inspection              |30.168053900795915|\n",
      "|Solid Waste             |Service Information                   |29.17735574905487 |\n",
      "|Parks & Recreation      |Park Building Maint Invest            |24.32232084089583 |\n",
      "+------------------------+--------------------------------------+------------------+\n",
      "only showing top 20 rows\n",
      "\n"
     ]
    }
   ],
   "source": [
    "(\n",
    "df\n",
    "    .groupby('department', 'service_request_type')\n",
    "    .agg(avg(col('num_days_late')))\n",
    "    .sort(desc('avg(num_days_late)'))\n",
    "    .show(20, False)\n",
    "    \n",
    ")"
   ]
  },
  {
   "cell_type": "markdown",
   "id": "c60eba4b",
   "metadata": {},
   "source": [
    "### You might have noticed that the latest date in the dataset is fairly far off from the present day. To account for this, replace any occurances of the current time with the maximum date from the dataset."
   ]
  },
  {
   "cell_type": "code",
   "execution_count": 263,
   "id": "ba05614f",
   "metadata": {},
   "outputs": [
    {
     "name": "stdout",
     "output_type": "stream",
     "text": [
      "-RECORD 0------------------------------------\n",
      " source_id            | svcCRMLS             \n",
      " dept_division        | Field Operations     \n",
      " case_id              | 1014127332           \n",
      " case_opened_date     | 2018-01-01 00:42:00  \n",
      " case_closed_date     | 2018-01-01 12:29:00  \n",
      " SLA_due_date         | 2020-09-26 00:42:00  \n",
      " case_late            | NO                   \n",
      " num_days_late        | -998.5087616000001   \n",
      " case_closed          | true                 \n",
      " service_request_type | Stray Animal         \n",
      " SLA_days             | 999.0                \n",
      " case_status          | Closed               \n",
      " request_address      | 2315  EL PASO ST,... \n",
      " council_district     | 5                    \n",
      " case_age             | 1407                 \n",
      " days_to_closed       | 0                    \n",
      " case_lifetime        | 0                    \n",
      " department           | Animal Care Services \n",
      " dept_subject_to_SLA  | true                 \n",
      " source_username      | null                 \n",
      "-RECORD 1------------------------------------\n",
      " source_id            | svcCRMSS             \n",
      " dept_division        | Storm Water          \n",
      " case_id              | 1014127333           \n",
      " case_opened_date     | 2018-01-01 00:46:00  \n",
      " case_closed_date     | 2018-01-03 08:11:00  \n",
      " SLA_due_date         | 2018-01-05 08:30:00  \n",
      " case_late            | NO                   \n",
      " num_days_late        | -2.0126041669999997  \n",
      " case_closed          | true                 \n",
      " service_request_type | Removal Of Obstru... \n",
      " SLA_days             | 4.322222222          \n",
      " case_status          | Closed               \n",
      " request_address      | 2215  GOLIAD RD, ... \n",
      " council_district     | 3                    \n",
      " case_age             | 1407                 \n",
      " days_to_closed       | 2                    \n",
      " case_lifetime        | 2                    \n",
      " department           | Trans & Cap Impro... \n",
      " dept_subject_to_SLA  | true                 \n",
      " source_username      | null                 \n",
      "only showing top 2 rows\n",
      "\n"
     ]
    }
   ],
   "source": [
    "df.show(2, vertical = True)"
   ]
  },
  {
   "cell_type": "code",
   "execution_count": 267,
   "id": "2b4c9736",
   "metadata": {},
   "outputs": [
    {
     "data": {
      "text/plain": [
       "[('source_id', 'string'),\n",
       " ('dept_division', 'string'),\n",
       " ('case_id', 'int'),\n",
       " ('case_opened_date', 'timestamp'),\n",
       " ('case_closed_date', 'timestamp'),\n",
       " ('SLA_due_date', 'timestamp'),\n",
       " ('case_late', 'string'),\n",
       " ('num_days_late', 'double'),\n",
       " ('case_closed', 'boolean'),\n",
       " ('service_request_type', 'string'),\n",
       " ('SLA_days', 'double'),\n",
       " ('case_status', 'string'),\n",
       " ('request_address', 'string'),\n",
       " ('council_district', 'string'),\n",
       " ('case_age', 'int'),\n",
       " ('days_to_closed', 'int'),\n",
       " ('case_lifetime', 'int'),\n",
       " ('department', 'string'),\n",
       " ('dept_subject_to_SLA', 'boolean'),\n",
       " ('source_username', 'string')]"
      ]
     },
     "execution_count": 267,
     "metadata": {},
     "output_type": "execute_result"
    }
   ],
   "source": [
    "df.dtypes"
   ]
  },
  {
   "cell_type": "code",
   "execution_count": 266,
   "id": "f9f5ad81",
   "metadata": {},
   "outputs": [
    {
     "name": "stdout",
     "output_type": "stream",
     "text": [
      "+---------------------+\n",
      "|max(case_opened_date)|\n",
      "+---------------------+\n",
      "|  2018-08-08 10:38:00|\n",
      "+---------------------+\n",
      "\n"
     ]
    }
   ],
   "source": [
    "df.select(max(\"case_opened_date\")).show()"
   ]
  },
  {
   "cell_type": "code",
   "execution_count": 289,
   "id": "8c5ffb12",
   "metadata": {},
   "outputs": [
    {
     "name": "stdout",
     "output_type": "stream",
     "text": [
      "+---------------------+\n",
      "|max(case_closed_date)|\n",
      "+---------------------+\n",
      "|  2018-08-08 10:38:00|\n",
      "+---------------------+\n",
      "\n"
     ]
    }
   ],
   "source": [
    "df.select(max(\"case_closed_date\")).show()"
   ]
  },
  {
   "cell_type": "code",
   "execution_count": 329,
   "id": "363d06bf",
   "metadata": {},
   "outputs": [],
   "source": [
    "df = df.withColumn(\"current_time\", lit('2018-08-08 15:07:00'))"
   ]
  },
  {
   "cell_type": "code",
   "execution_count": 330,
   "id": "40d60ed8",
   "metadata": {},
   "outputs": [
    {
     "name": "stdout",
     "output_type": "stream",
     "text": [
      "-RECORD 0------------------------------------\n",
      " source_id            | svcCRMLS             \n",
      " dept_division        | Field Operations     \n",
      " case_id              | 1014127332           \n",
      " case_opened_date     | 2018-01-01 00:42:00  \n",
      " case_closed_date     | 2018-01-01 12:29:00  \n",
      " SLA_due_date         | 2020-09-26 00:42:00  \n",
      " case_late            | NO                   \n",
      " num_days_late        | -998.5087616000001   \n",
      " case_closed          | true                 \n",
      " service_request_type | Stray Animal         \n",
      " SLA_days             | 999.0                \n",
      " case_status          | Closed               \n",
      " request_address      | 2315  EL PASO ST,... \n",
      " council_district     | 5                    \n",
      " case_age             | 1407                 \n",
      " days_to_closed       | 0                    \n",
      " case_lifetime        | 0                    \n",
      " department           | Animal Care Services \n",
      " dept_subject_to_SLA  | true                 \n",
      " source_username      | null                 \n",
      " current_time         | 2018-08-08 15:07:00  \n",
      "only showing top 1 row\n",
      "\n"
     ]
    }
   ],
   "source": [
    "df.show(1, vertical = True)"
   ]
  },
  {
   "cell_type": "code",
   "execution_count": 332,
   "id": "aa3b722d",
   "metadata": {},
   "outputs": [],
   "source": [
    "df = df.withColumn('current_time', to_timestamp('current_time'))"
   ]
  },
  {
   "cell_type": "code",
   "execution_count": 333,
   "id": "c22d9c30",
   "metadata": {},
   "outputs": [
    {
     "name": "stdout",
     "output_type": "stream",
     "text": [
      "-RECORD 0------------------------------------\n",
      " source_id            | svcCRMLS             \n",
      " dept_division        | Field Operations     \n",
      " case_id              | 1014127332           \n",
      " case_opened_date     | 2018-01-01 00:42:00  \n",
      " case_closed_date     | 2018-01-01 12:29:00  \n",
      " SLA_due_date         | 2020-09-26 00:42:00  \n",
      " case_late            | NO                   \n",
      " num_days_late        | -998.5087616000001   \n",
      " case_closed          | true                 \n",
      " service_request_type | Stray Animal         \n",
      " SLA_days             | 999.0                \n",
      " case_status          | Closed               \n",
      " request_address      | 2315  EL PASO ST,... \n",
      " council_district     | 5                    \n",
      " case_age             | 1407                 \n",
      " days_to_closed       | 0                    \n",
      " case_lifetime        | 0                    \n",
      " department           | Animal Care Services \n",
      " dept_subject_to_SLA  | true                 \n",
      " source_username      | null                 \n",
      " current_time         | 2018-08-08 15:07:00  \n",
      "only showing top 1 row\n",
      "\n"
     ]
    }
   ],
   "source": [
    "df.show(1, vertical = True)"
   ]
  },
  {
   "cell_type": "code",
   "execution_count": 334,
   "id": "20c5f050",
   "metadata": {},
   "outputs": [],
   "source": [
    "df = (\n",
    "    df.withColumn(\n",
    "        \"case_age\", datediff('current_time', \"case_opened_date\")\n",
    "    )\n",
    "    .withColumn(\n",
    "        \"case_lifetime\",\n",
    "        when(expr(\"! case_closed\"), col(\"case_age\")).otherwise(\n",
    "            col(\"days_to_closed\")\n",
    "        ),\n",
    "    )\n",
    ")\n"
   ]
  },
  {
   "cell_type": "code",
   "execution_count": 335,
   "id": "ba341c5c",
   "metadata": {},
   "outputs": [
    {
     "name": "stdout",
     "output_type": "stream",
     "text": [
      "-RECORD 0------------------------------------\n",
      " source_id            | svcCRMLS             \n",
      " dept_division        | Field Operations     \n",
      " case_id              | 1014127332           \n",
      " case_opened_date     | 2018-01-01 00:42:00  \n",
      " case_closed_date     | 2018-01-01 12:29:00  \n",
      " SLA_due_date         | 2020-09-26 00:42:00  \n",
      " case_late            | NO                   \n",
      " num_days_late        | -998.5087616000001   \n",
      " case_closed          | true                 \n",
      " service_request_type | Stray Animal         \n",
      " SLA_days             | 999.0                \n",
      " case_status          | Closed               \n",
      " request_address      | 2315  EL PASO ST,... \n",
      " council_district     | 5                    \n",
      " case_age             | 219                  \n",
      " days_to_closed       | 0                    \n",
      " case_lifetime        | 0                    \n",
      " department           | Animal Care Services \n",
      " dept_subject_to_SLA  | true                 \n",
      " source_username      | null                 \n",
      " current_time         | 2018-08-08 15:07:00  \n",
      "only showing top 1 row\n",
      "\n"
     ]
    }
   ],
   "source": [
    "df.show(1, vertical = True)"
   ]
  },
  {
   "cell_type": "code",
   "execution_count": 336,
   "id": "00c1ccae",
   "metadata": {},
   "outputs": [],
   "source": [
    "df = case_df.drop('current_time')"
   ]
  },
  {
   "cell_type": "code",
   "execution_count": 339,
   "id": "2586f08f",
   "metadata": {},
   "outputs": [
    {
     "name": "stdout",
     "output_type": "stream",
     "text": [
      "-RECORD 0-----------------------------------------------------\n",
      " case_id              | 1014127332                            \n",
      " case_opened_date     | 2018-01-01 00:42:00                   \n",
      " case_closed_date     | 2018-01-01 12:29:00                   \n",
      " SLA_due_date         | 2020-09-26 00:42:00                   \n",
      " case_late            | NO                                    \n",
      " num_days_late        | -998.5087616000001                    \n",
      " case_closed          | true                                  \n",
      " dept_division        | Field Operations                      \n",
      " service_request_type | Stray Animal                          \n",
      " SLA_days             | 999.0                                 \n",
      " case_status          | Closed                                \n",
      " source_id            | svcCRMLS                              \n",
      " request_address      | 2315  EL PASO ST, San Antonio, 78207  \n",
      " council_district     | 5                                     \n",
      " case_age             | 219                                   \n",
      " days_to_closed       | 0                                     \n",
      " case_lifetime        | 0                                     \n",
      "-RECORD 1-----------------------------------------------------\n",
      " case_id              | 1014127333                            \n",
      " case_opened_date     | 2018-01-01 00:46:00                   \n",
      " case_closed_date     | 2018-01-03 08:11:00                   \n",
      " SLA_due_date         | 2018-01-05 08:30:00                   \n",
      " case_late            | NO                                    \n",
      " num_days_late        | -2.0126041669999997                   \n",
      " case_closed          | true                                  \n",
      " dept_division        | Storm Water                           \n",
      " service_request_type | Removal Of Obstruction                \n",
      " SLA_days             | 4.322222222                           \n",
      " case_status          | Closed                                \n",
      " source_id            | svcCRMSS                              \n",
      " request_address      | 2215  GOLIAD RD, San Antonio, 78223   \n",
      " council_district     | 3                                     \n",
      " case_age             | 219                                   \n",
      " days_to_closed       | 2                                     \n",
      " case_lifetime        | 2                                     \n",
      "-RECORD 2-----------------------------------------------------\n",
      " case_id              | 1014127334                            \n",
      " case_opened_date     | 2018-01-01 00:48:00                   \n",
      " case_closed_date     | 2018-01-02 07:57:00                   \n",
      " SLA_due_date         | 2018-01-05 08:30:00                   \n",
      " case_late            | NO                                    \n",
      " num_days_late        | -3.022337963                          \n",
      " case_closed          | true                                  \n",
      " dept_division        | Storm Water                           \n",
      " service_request_type | Removal Of Obstruction                \n",
      " SLA_days             | 4.320729167                           \n",
      " case_status          | Closed                                \n",
      " source_id            | svcCRMSS                              \n",
      " request_address      | 102  PALFREY ST W, San Antonio, 78223 \n",
      " council_district     | 3                                     \n",
      " case_age             | 219                                   \n",
      " days_to_closed       | 1                                     \n",
      " case_lifetime        | 1                                     \n",
      "-RECORD 3-----------------------------------------------------\n",
      " case_id              | 1014127335                            \n",
      " case_opened_date     | 2018-01-01 01:29:00                   \n",
      " case_closed_date     | 2018-01-02 08:13:00                   \n",
      " SLA_due_date         | 2018-01-17 08:30:00                   \n",
      " case_late            | NO                                    \n",
      " num_days_late        | -15.01148148                          \n",
      " case_closed          | true                                  \n",
      " dept_division        | Code Enforcement                      \n",
      " service_request_type | Front Or Side Yard Parking            \n",
      " SLA_days             | 16.29188657                           \n",
      " case_status          | Closed                                \n",
      " source_id            | svcCRMSS                              \n",
      " request_address      | 114  LA GARDE ST, San Antonio, 78223  \n",
      " council_district     | 3                                     \n",
      " case_age             | 219                                   \n",
      " days_to_closed       | 1                                     \n",
      " case_lifetime        | 1                                     \n",
      "-RECORD 4-----------------------------------------------------\n",
      " case_id              | 1014127336                            \n",
      " case_opened_date     | 2018-01-01 01:34:00                   \n",
      " case_closed_date     | 2018-01-01 13:29:00                   \n",
      " SLA_due_date         | 2018-01-01 04:34:00                   \n",
      " case_late            | YES                                   \n",
      " num_days_late        | 0.37216435200000003                   \n",
      " case_closed          | true                                  \n",
      " dept_division        | Field Operations                      \n",
      " service_request_type | Animal Cruelty(Critical)              \n",
      " SLA_days             | 0.125                                 \n",
      " case_status          | Closed                                \n",
      " source_id            | svcCRMSS                              \n",
      " request_address      | 734  CLEARVIEW DR, San Antonio, 78228 \n",
      " council_district     | 7                                     \n",
      " case_age             | 219                                   \n",
      " days_to_closed       | 0                                     \n",
      " case_lifetime        | 0                                     \n",
      "only showing top 5 rows\n",
      "\n"
     ]
    }
   ],
   "source": [
    "case_df.show(5, vertical = True, truncate = False)"
   ]
  }
 ],
 "metadata": {
  "kernelspec": {
   "display_name": "Python 3",
   "language": "python",
   "name": "python3"
  },
  "language_info": {
   "codemirror_mode": {
    "name": "ipython",
    "version": 3
   },
   "file_extension": ".py",
   "mimetype": "text/x-python",
   "name": "python",
   "nbconvert_exporter": "python",
   "pygments_lexer": "ipython3",
   "version": "3.8.8"
  }
 },
 "nbformat": 4,
 "nbformat_minor": 5
}
