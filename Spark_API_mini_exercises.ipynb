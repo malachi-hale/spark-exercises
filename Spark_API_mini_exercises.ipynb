{
 "cells": [
  {
   "cell_type": "markdown",
   "id": "33f38aa1",
   "metadata": {},
   "source": [
    "# Spark API Mini Exercises"
   ]
  },
  {
   "cell_type": "code",
   "execution_count": 1,
   "id": "3d54ebb9",
   "metadata": {},
   "outputs": [],
   "source": [
    "import pandas as pd\n",
    "import numpy as np"
   ]
  },
  {
   "cell_type": "markdown",
   "id": "c66dc4fd",
   "metadata": {},
   "source": [
    "## 1. Spark Dataframe Basics\n",
    "\n",
    "### Use the starter code above to create a pandas dataframe."
   ]
  },
  {
   "cell_type": "code",
   "execution_count": 2,
   "id": "acaa7bec",
   "metadata": {},
   "outputs": [],
   "source": [
    "np.random.seed(13)\n",
    "\n",
    "pandas_dataframe = pd.DataFrame({\n",
    "    \"n\": np.random.randn(20),\n",
    "    \"group\": np.random.choice(list(\"xyz\"), 20),\n",
    "    \"abool\": np.random.choice([True, False], 20),\n",
    "})"
   ]
  },
  {
   "cell_type": "code",
   "execution_count": 3,
   "id": "c696f0cf",
   "metadata": {},
   "outputs": [
    {
     "data": {
      "text/html": [
       "<div>\n",
       "<style scoped>\n",
       "    .dataframe tbody tr th:only-of-type {\n",
       "        vertical-align: middle;\n",
       "    }\n",
       "\n",
       "    .dataframe tbody tr th {\n",
       "        vertical-align: top;\n",
       "    }\n",
       "\n",
       "    .dataframe thead th {\n",
       "        text-align: right;\n",
       "    }\n",
       "</style>\n",
       "<table border=\"1\" class=\"dataframe\">\n",
       "  <thead>\n",
       "    <tr style=\"text-align: right;\">\n",
       "      <th></th>\n",
       "      <th>n</th>\n",
       "      <th>group</th>\n",
       "      <th>abool</th>\n",
       "    </tr>\n",
       "  </thead>\n",
       "  <tbody>\n",
       "    <tr>\n",
       "      <th>0</th>\n",
       "      <td>-0.712391</td>\n",
       "      <td>z</td>\n",
       "      <td>False</td>\n",
       "    </tr>\n",
       "    <tr>\n",
       "      <th>1</th>\n",
       "      <td>0.753766</td>\n",
       "      <td>x</td>\n",
       "      <td>False</td>\n",
       "    </tr>\n",
       "    <tr>\n",
       "      <th>2</th>\n",
       "      <td>-0.044503</td>\n",
       "      <td>z</td>\n",
       "      <td>False</td>\n",
       "    </tr>\n",
       "    <tr>\n",
       "      <th>3</th>\n",
       "      <td>0.451812</td>\n",
       "      <td>y</td>\n",
       "      <td>False</td>\n",
       "    </tr>\n",
       "    <tr>\n",
       "      <th>4</th>\n",
       "      <td>1.345102</td>\n",
       "      <td>z</td>\n",
       "      <td>False</td>\n",
       "    </tr>\n",
       "  </tbody>\n",
       "</table>\n",
       "</div>"
      ],
      "text/plain": [
       "          n group  abool\n",
       "0 -0.712391     z  False\n",
       "1  0.753766     x  False\n",
       "2 -0.044503     z  False\n",
       "3  0.451812     y  False\n",
       "4  1.345102     z  False"
      ]
     },
     "execution_count": 3,
     "metadata": {},
     "output_type": "execute_result"
    }
   ],
   "source": [
    "pandas_dataframe.head()"
   ]
  },
  {
   "cell_type": "markdown",
   "id": "3ff66e92",
   "metadata": {},
   "source": [
    "### Convert the pandas dataframe to a spark dataframe. From this point forward, do all of your work with the spark dataframe, not the pandas dataframe."
   ]
  },
  {
   "cell_type": "code",
   "execution_count": 4,
   "id": "35cd6c8c",
   "metadata": {},
   "outputs": [],
   "source": [
    "import pyspark #Import Spark\n",
    "spark = pyspark.sql.SparkSession.builder.getOrCreate()"
   ]
  },
  {
   "cell_type": "code",
   "execution_count": 5,
   "id": "da6ce390",
   "metadata": {},
   "outputs": [],
   "source": [
    "df = spark.createDataFrame(pandas_dataframe)"
   ]
  },
  {
   "cell_type": "code",
   "execution_count": 6,
   "id": "c912c9ca",
   "metadata": {},
   "outputs": [
    {
     "name": "stdout",
     "output_type": "stream",
     "text": [
      "+--------------------+-----+-----+\n",
      "|                   n|group|abool|\n",
      "+--------------------+-----+-----+\n",
      "|  -0.712390662050588|    z|false|\n",
      "|   0.753766378659703|    x|false|\n",
      "|-0.04450307833805...|    z|false|\n",
      "| 0.45181233874578974|    y|false|\n",
      "|  1.3451017084510097|    z|false|\n",
      "|  0.5323378882945463|    y|false|\n",
      "|  1.3501878997225267|    z|false|\n",
      "|  0.8612113741693206|    x|false|\n",
      "|  1.4786857374358966|    z| true|\n",
      "| -1.0453771305385342|    y| true|\n",
      "| -0.7889890249515489|    x|false|\n",
      "|  -1.261605945319069|    y|false|\n",
      "|  0.5628467852810314|    y| true|\n",
      "|-0.24332625188556253|    y| true|\n",
      "|  0.9137407048596775|    y|false|\n",
      "| 0.31735092273633597|    x|false|\n",
      "| 0.12730328020698067|    z|false|\n",
      "|  2.1503829673811126|    y| true|\n",
      "|  0.6062886568962988|    x|false|\n",
      "|-0.02677164998644...|    x| true|\n",
      "+--------------------+-----+-----+\n",
      "\n"
     ]
    }
   ],
   "source": [
    "df.show()"
   ]
  },
  {
   "cell_type": "markdown",
   "id": "fe498437",
   "metadata": {},
   "source": [
    "### Show the first 3 rows of the dataframe"
   ]
  },
  {
   "cell_type": "code",
   "execution_count": 7,
   "id": "100937a8",
   "metadata": {},
   "outputs": [
    {
     "name": "stdout",
     "output_type": "stream",
     "text": [
      "+--------------------+-----+-----+\n",
      "|                   n|group|abool|\n",
      "+--------------------+-----+-----+\n",
      "|  -0.712390662050588|    z|false|\n",
      "|   0.753766378659703|    x|false|\n",
      "|-0.04450307833805...|    z|false|\n",
      "+--------------------+-----+-----+\n",
      "only showing top 3 rows\n",
      "\n"
     ]
    }
   ],
   "source": [
    "df.show(3)"
   ]
  },
  {
   "cell_type": "markdown",
   "id": "b2a8f31c",
   "metadata": {},
   "source": [
    "### Show the first 7 rows of the dataframe."
   ]
  },
  {
   "cell_type": "code",
   "execution_count": 8,
   "id": "88d8320f",
   "metadata": {},
   "outputs": [
    {
     "name": "stdout",
     "output_type": "stream",
     "text": [
      "+--------------------+-----+-----+\n",
      "|                   n|group|abool|\n",
      "+--------------------+-----+-----+\n",
      "|  -0.712390662050588|    z|false|\n",
      "|   0.753766378659703|    x|false|\n",
      "|-0.04450307833805...|    z|false|\n",
      "| 0.45181233874578974|    y|false|\n",
      "|  1.3451017084510097|    z|false|\n",
      "|  0.5323378882945463|    y|false|\n",
      "|  1.3501878997225267|    z|false|\n",
      "+--------------------+-----+-----+\n",
      "only showing top 7 rows\n",
      "\n"
     ]
    }
   ],
   "source": [
    "df.show(7)"
   ]
  },
  {
   "cell_type": "markdown",
   "id": "84991da5",
   "metadata": {},
   "source": [
    "### View a summary of the data using .describe."
   ]
  },
  {
   "cell_type": "code",
   "execution_count": 9,
   "id": "b3db40d9",
   "metadata": {},
   "outputs": [
    {
     "data": {
      "text/plain": [
       "<bound method DataFrame.describe of DataFrame[n: double, group: string, abool: boolean]>"
      ]
     },
     "execution_count": 9,
     "metadata": {},
     "output_type": "execute_result"
    }
   ],
   "source": [
    "df.describe"
   ]
  },
  {
   "cell_type": "markdown",
   "id": "b9f8c580",
   "metadata": {},
   "source": [
    "### Use .select to create a new dataframe with just the n and abool columns. View the first 5 rows of this dataframe."
   ]
  },
  {
   "cell_type": "code",
   "execution_count": 10,
   "id": "56958b80",
   "metadata": {},
   "outputs": [],
   "source": [
    "new_df = df.select('n', 'abool')"
   ]
  },
  {
   "cell_type": "code",
   "execution_count": 11,
   "id": "847a772b",
   "metadata": {},
   "outputs": [
    {
     "name": "stdout",
     "output_type": "stream",
     "text": [
      "+--------------------+-----+\n",
      "|                   n|abool|\n",
      "+--------------------+-----+\n",
      "|  -0.712390662050588|false|\n",
      "|   0.753766378659703|false|\n",
      "|-0.04450307833805...|false|\n",
      "| 0.45181233874578974|false|\n",
      "|  1.3451017084510097|false|\n",
      "+--------------------+-----+\n",
      "only showing top 5 rows\n",
      "\n"
     ]
    }
   ],
   "source": [
    "new_df.show(5)"
   ]
  },
  {
   "cell_type": "markdown",
   "id": "be717e16",
   "metadata": {},
   "source": [
    "### Use .select to create a new dataframe with just the group and abool columns. View the first 5 rows of this dataframe."
   ]
  },
  {
   "cell_type": "code",
   "execution_count": 12,
   "id": "7c6f8006",
   "metadata": {},
   "outputs": [],
   "source": [
    "new_df_2 = df.select('group', 'abool')"
   ]
  },
  {
   "cell_type": "code",
   "execution_count": 13,
   "id": "999b5586",
   "metadata": {},
   "outputs": [
    {
     "name": "stdout",
     "output_type": "stream",
     "text": [
      "+-----+-----+\n",
      "|group|abool|\n",
      "+-----+-----+\n",
      "|    z|false|\n",
      "|    x|false|\n",
      "|    z|false|\n",
      "|    y|false|\n",
      "|    z|false|\n",
      "+-----+-----+\n",
      "only showing top 5 rows\n",
      "\n"
     ]
    }
   ],
   "source": [
    "new_df_2.show(5)"
   ]
  },
  {
   "cell_type": "markdown",
   "id": "9b833e07",
   "metadata": {},
   "source": [
    "### Use .select to create a new dataframe with the group column and the abool column renamed to a_boolean_value. Show the first 3 rows of this dataframe."
   ]
  },
  {
   "cell_type": "code",
   "execution_count": 14,
   "id": "96dc60bc",
   "metadata": {},
   "outputs": [
    {
     "name": "stdout",
     "output_type": "stream",
     "text": [
      "+-----+---------------+\n",
      "|group|a_boolean_value|\n",
      "+-----+---------------+\n",
      "|    z|          false|\n",
      "|    x|          false|\n",
      "|    z|          false|\n",
      "+-----+---------------+\n",
      "only showing top 3 rows\n",
      "\n"
     ]
    }
   ],
   "source": [
    "df.select('group', 'abool').withColumnRenamed('abool', 'a_boolean_value').show(3)"
   ]
  },
  {
   "cell_type": "markdown",
   "id": "db5293d4",
   "metadata": {},
   "source": [
    "### Use .select to create a new dataframe with the group column and the n column renamed to a_numeric_value. Show the first 6 rows of this dataframe."
   ]
  },
  {
   "cell_type": "code",
   "execution_count": 15,
   "id": "4d556f8c",
   "metadata": {},
   "outputs": [
    {
     "name": "stdout",
     "output_type": "stream",
     "text": [
      "+-----+--------------------+\n",
      "|group|     a_numeric_value|\n",
      "+-----+--------------------+\n",
      "|    z|  -0.712390662050588|\n",
      "|    x|   0.753766378659703|\n",
      "|    z|-0.04450307833805...|\n",
      "|    y| 0.45181233874578974|\n",
      "|    z|  1.3451017084510097|\n",
      "|    y|  0.5323378882945463|\n",
      "+-----+--------------------+\n",
      "only showing top 6 rows\n",
      "\n"
     ]
    }
   ],
   "source": [
    "df.select('group', 'n').withColumnRenamed('n', 'a_numeric_value').show(6)"
   ]
  },
  {
   "cell_type": "markdown",
   "id": "2ecd40eb",
   "metadata": {},
   "source": [
    "## 2. Column Manipulation\n",
    "\n",
    "### Use the starter code above to re-create a spark dataframe. Store the spark dataframe in a varaible named df."
   ]
  },
  {
   "cell_type": "code",
   "execution_count": 16,
   "id": "f837dc40",
   "metadata": {},
   "outputs": [],
   "source": [
    "df = spark.createDataFrame(pd.DataFrame({\n",
    "    \"n\": np.random.randn(20),\n",
    "    \"group\": np.random.choice(list(\"xyz\"), 20),\n",
    "    \"abool\": np.random.choice([True, False], 20),\n",
    "}))"
   ]
  },
  {
   "cell_type": "code",
   "execution_count": 17,
   "id": "3b98a6de",
   "metadata": {},
   "outputs": [
    {
     "name": "stdout",
     "output_type": "stream",
     "text": [
      "+--------------------+-----+-----+\n",
      "|                   n|group|abool|\n",
      "+--------------------+-----+-----+\n",
      "| -0.8850620992868307|    x|false|\n",
      "| 0.07272674611277782|    x| true|\n",
      "|   -0.82751910119974|    x|false|\n",
      "|  -0.591550921883219|    y|false|\n",
      "|  -2.186215625579764|    y| true|\n",
      "| -1.4304503608169532|    y| true|\n",
      "|0.001182616633274...|    y| true|\n",
      "|-0.15241870550020373|    z| true|\n",
      "|  1.4418010391482912|    z|false|\n",
      "|-0.18492174250837645|    x| true|\n",
      "| -0.2298977614525365|    x|false|\n",
      "| -0.2633773007599446|    y| true|\n",
      "|-0.08286224131163808|    x| true|\n",
      "|-0.38505688002448574|    x|false|\n",
      "|-0.10105117176246801|    z| true|\n",
      "| 0.33115422310589987|    y|false|\n",
      "| 0.04329942581647413|    z|false|\n",
      "|-0.44997653600849435|    z| true|\n",
      "|  0.3471981374467132|    y|false|\n",
      "|  1.4591000886192282|    z| true|\n",
      "+--------------------+-----+-----+\n",
      "\n"
     ]
    }
   ],
   "source": [
    "df.show()"
   ]
  },
  {
   "cell_type": "markdown",
   "id": "6a5d1ac3",
   "metadata": {},
   "source": [
    "### Use .select to add 4 to the n column. Show the results."
   ]
  },
  {
   "cell_type": "code",
   "execution_count": 32,
   "id": "8e536d28",
   "metadata": {},
   "outputs": [
    {
     "name": "stdout",
     "output_type": "stream",
     "text": [
      "+------------------+\n",
      "|           (n + 4)|\n",
      "+------------------+\n",
      "|3.1149379007131692|\n",
      "| 4.072726746112778|\n",
      "|  3.17248089880026|\n",
      "| 3.408449078116781|\n",
      "|1.8137843744202362|\n",
      "| 2.569549639183047|\n",
      "| 4.001182616633274|\n",
      "|3.8475812944997965|\n",
      "| 5.441801039148292|\n",
      "|3.8150782574916233|\n",
      "|3.7701022385474636|\n",
      "|3.7366226992400553|\n",
      "| 3.917137758688362|\n",
      "| 3.614943119975514|\n",
      "| 3.898948828237532|\n",
      "|   4.3311542231059|\n",
      "| 4.043299425816474|\n",
      "|3.5500234639915056|\n",
      "| 4.347198137446713|\n",
      "| 5.459100088619229|\n",
      "+------------------+\n",
      "\n"
     ]
    }
   ],
   "source": [
    "df.select(df.n + 4).show()"
   ]
  },
  {
   "cell_type": "markdown",
   "id": "02db0211",
   "metadata": {},
   "source": [
    "### Subtract 5 from the n column and view the results."
   ]
  },
  {
   "cell_type": "code",
   "execution_count": 30,
   "id": "3ea9401a",
   "metadata": {},
   "outputs": [
    {
     "name": "stdout",
     "output_type": "stream",
     "text": [
      "+-------------------+\n",
      "|            (n - 5)|\n",
      "+-------------------+\n",
      "| -5.885062099286831|\n",
      "| -4.927273253887222|\n",
      "|  -5.82751910119974|\n",
      "| -5.591550921883219|\n",
      "| -7.186215625579764|\n",
      "| -6.430450360816954|\n",
      "| -4.998817383366726|\n",
      "| -5.152418705500204|\n",
      "| -3.558198960851709|\n",
      "| -5.184921742508377|\n",
      "| -5.229897761452537|\n",
      "| -5.263377300759944|\n",
      "| -5.082862241311638|\n",
      "| -5.385056880024486|\n",
      "| -5.101051171762468|\n",
      "|   -4.6688457768941|\n",
      "| -4.956700574183526|\n",
      "| -5.449976536008494|\n",
      "| -4.652801862553287|\n",
      "|-3.5408999113807718|\n",
      "+-------------------+\n",
      "\n"
     ]
    }
   ],
   "source": [
    "df.select(df.n - 5).show()"
   ]
  },
  {
   "cell_type": "markdown",
   "id": "5df45cc3",
   "metadata": {},
   "source": [
    "### Multiply the n column by 2. View the results along with the original numbers."
   ]
  },
  {
   "cell_type": "code",
   "execution_count": 29,
   "id": "22724226",
   "metadata": {},
   "outputs": [
    {
     "name": "stdout",
     "output_type": "stream",
     "text": [
      "+--------------------+--------------------+\n",
      "|                   n|             (n * 2)|\n",
      "+--------------------+--------------------+\n",
      "| -0.8850620992868307| -1.7701241985736613|\n",
      "| 0.07272674611277782| 0.14545349222555565|\n",
      "|   -0.82751910119974|   -1.65503820239948|\n",
      "|  -0.591550921883219|  -1.183101843766438|\n",
      "|  -2.186215625579764|  -4.372431251159528|\n",
      "| -1.4304503608169532| -2.8609007216339064|\n",
      "|0.001182616633274...|0.002365233266549...|\n",
      "|-0.15241870550020373|-0.30483741100040745|\n",
      "|  1.4418010391482912|  2.8836020782965823|\n",
      "|-0.18492174250837645| -0.3698434850167529|\n",
      "| -0.2298977614525365|  -0.459795522905073|\n",
      "| -0.2633773007599446| -0.5267546015198892|\n",
      "|-0.08286224131163808|-0.16572448262327616|\n",
      "|-0.38505688002448574| -0.7701137600489715|\n",
      "|-0.10105117176246801|-0.20210234352493603|\n",
      "| 0.33115422310589987|  0.6623084462117997|\n",
      "| 0.04329942581647413| 0.08659885163294825|\n",
      "|-0.44997653600849435| -0.8999530720169887|\n",
      "|  0.3471981374467132|  0.6943962748934264|\n",
      "|  1.4591000886192282|  2.9182001772384565|\n",
      "+--------------------+--------------------+\n",
      "\n"
     ]
    }
   ],
   "source": [
    "df.select('n', df.n*2).show()"
   ]
  },
  {
   "cell_type": "markdown",
   "id": "7a649ffd",
   "metadata": {},
   "source": [
    "### Add a new column named n2 that is the n value multiplied by -1. Show the first 4 rows of your dataframe. You should see the original n value as well as n2."
   ]
  },
  {
   "cell_type": "code",
   "execution_count": 38,
   "id": "73e65fe4",
   "metadata": {},
   "outputs": [],
   "source": [
    "df_new = df.select('n', (df.n*-1).alias('n2'))"
   ]
  },
  {
   "cell_type": "code",
   "execution_count": 39,
   "id": "adf8df3a",
   "metadata": {},
   "outputs": [
    {
     "name": "stdout",
     "output_type": "stream",
     "text": [
      "+-------------------+--------------------+\n",
      "|                  n|                  n2|\n",
      "+-------------------+--------------------+\n",
      "|-0.8850620992868307|  0.8850620992868307|\n",
      "|0.07272674611277782|-0.07272674611277782|\n",
      "|  -0.82751910119974|    0.82751910119974|\n",
      "| -0.591550921883219|   0.591550921883219|\n",
      "+-------------------+--------------------+\n",
      "only showing top 4 rows\n",
      "\n"
     ]
    }
   ],
   "source": [
    "df_new.show(4)"
   ]
  },
  {
   "cell_type": "markdown",
   "id": "cf08dee8",
   "metadata": {},
   "source": [
    "### Add a new column named n3 that is the n value squared. Show the first 5 rows of your dataframe. You should see both n, n2, and n3."
   ]
  },
  {
   "cell_type": "code",
   "execution_count": 41,
   "id": "ca3fa3fa",
   "metadata": {},
   "outputs": [
    {
     "name": "stdout",
     "output_type": "stream",
     "text": [
      "+-------------------+--------------------+--------------------+\n",
      "|                  n|                  n2|                  n3|\n",
      "+-------------------+--------------------+--------------------+\n",
      "|-0.8850620992868307|  0.8850620992868307|  0.7833349195940117|\n",
      "|0.07272674611277782|-0.07272674611277782|0.005289179600152444|\n",
      "|  -0.82751910119974|    0.82751910119974|  0.6847878628504256|\n",
      "| -0.591550921883219|   0.591550921883219| 0.34993249318088626|\n",
      "| -2.186215625579764|   2.186215625579764|   4.779538761529118|\n",
      "+-------------------+--------------------+--------------------+\n",
      "only showing top 5 rows\n",
      "\n"
     ]
    }
   ],
   "source": [
    "df_new.select('*', ((df.n)**2).alias('n3')).show(5)"
   ]
  },
  {
   "cell_type": "markdown",
   "id": "79568eee",
   "metadata": {},
   "source": [
    "### What happens when you run the code below?\n",
    "\n",
    "```df.group + df.abool```"
   ]
  },
  {
   "cell_type": "code",
   "execution_count": 42,
   "id": "ac545191",
   "metadata": {},
   "outputs": [
    {
     "data": {
      "text/plain": [
       "Column<'(group + abool)'>"
      ]
     },
     "execution_count": 42,
     "metadata": {},
     "output_type": "execute_result"
    }
   ],
   "source": [
    "df.group + df.abool"
   ]
  },
  {
   "cell_type": "markdown",
   "id": "41d234bc",
   "metadata": {},
   "source": [
    "### What happens when you run the code below? What is the difference between this and the previous code sample?\n",
    "\n",
    "```df.select(df.group + df.abool)```"
   ]
  },
  {
   "cell_type": "code",
   "execution_count": 45,
   "id": "f3815817",
   "metadata": {},
   "outputs": [
    {
     "ename": "AnalysisException",
     "evalue": "cannot resolve '(CAST(group AS DOUBLE) + abool)' due to data type mismatch: differing types in '(CAST(group AS DOUBLE) + abool)' (double and boolean).;\n'Project [unresolvedalias((cast(group#96 as double) + abool#97), Some(org.apache.spark.sql.Column$$Lambda$2529/0x000000080115c040@560ace4d))]\n+- LogicalRDD [n#95, group#96, abool#97], false\n",
     "output_type": "error",
     "traceback": [
      "\u001b[0;31m---------------------------------------------------------------------------\u001b[0m",
      "\u001b[0;31mAnalysisException\u001b[0m                         Traceback (most recent call last)",
      "\u001b[0;32m<ipython-input-45-392aef8ccead>\u001b[0m in \u001b[0;36m<module>\u001b[0;34m\u001b[0m\n\u001b[0;32m----> 1\u001b[0;31m \u001b[0mdf\u001b[0m\u001b[0;34m.\u001b[0m\u001b[0mselect\u001b[0m\u001b[0;34m(\u001b[0m\u001b[0mdf\u001b[0m\u001b[0;34m.\u001b[0m\u001b[0mgroup\u001b[0m \u001b[0;34m+\u001b[0m \u001b[0mdf\u001b[0m\u001b[0;34m.\u001b[0m\u001b[0mabool\u001b[0m\u001b[0;34m)\u001b[0m\u001b[0;34m\u001b[0m\u001b[0;34m\u001b[0m\u001b[0m\n\u001b[0m",
      "\u001b[0;32m~/.local/lib/python3.8/site-packages/pyspark/sql/dataframe.py\u001b[0m in \u001b[0;36mselect\u001b[0;34m(self, *cols)\u001b[0m\n\u001b[1;32m   1683\u001b[0m         \u001b[0;34m[\u001b[0m\u001b[0mRow\u001b[0m\u001b[0;34m(\u001b[0m\u001b[0mname\u001b[0m\u001b[0;34m=\u001b[0m\u001b[0;34m'Alice'\u001b[0m\u001b[0;34m,\u001b[0m \u001b[0mage\u001b[0m\u001b[0;34m=\u001b[0m\u001b[0;36m12\u001b[0m\u001b[0;34m)\u001b[0m\u001b[0;34m,\u001b[0m \u001b[0mRow\u001b[0m\u001b[0;34m(\u001b[0m\u001b[0mname\u001b[0m\u001b[0;34m=\u001b[0m\u001b[0;34m'Bob'\u001b[0m\u001b[0;34m,\u001b[0m \u001b[0mage\u001b[0m\u001b[0;34m=\u001b[0m\u001b[0;36m15\u001b[0m\u001b[0;34m)\u001b[0m\u001b[0;34m]\u001b[0m\u001b[0;34m\u001b[0m\u001b[0;34m\u001b[0m\u001b[0m\n\u001b[1;32m   1684\u001b[0m         \"\"\"\n\u001b[0;32m-> 1685\u001b[0;31m         \u001b[0mjdf\u001b[0m \u001b[0;34m=\u001b[0m \u001b[0mself\u001b[0m\u001b[0;34m.\u001b[0m\u001b[0m_jdf\u001b[0m\u001b[0;34m.\u001b[0m\u001b[0mselect\u001b[0m\u001b[0;34m(\u001b[0m\u001b[0mself\u001b[0m\u001b[0;34m.\u001b[0m\u001b[0m_jcols\u001b[0m\u001b[0;34m(\u001b[0m\u001b[0;34m*\u001b[0m\u001b[0mcols\u001b[0m\u001b[0;34m)\u001b[0m\u001b[0;34m)\u001b[0m\u001b[0;34m\u001b[0m\u001b[0;34m\u001b[0m\u001b[0m\n\u001b[0m\u001b[1;32m   1686\u001b[0m         \u001b[0;32mreturn\u001b[0m \u001b[0mDataFrame\u001b[0m\u001b[0;34m(\u001b[0m\u001b[0mjdf\u001b[0m\u001b[0;34m,\u001b[0m \u001b[0mself\u001b[0m\u001b[0;34m.\u001b[0m\u001b[0msql_ctx\u001b[0m\u001b[0;34m)\u001b[0m\u001b[0;34m\u001b[0m\u001b[0;34m\u001b[0m\u001b[0m\n\u001b[1;32m   1687\u001b[0m \u001b[0;34m\u001b[0m\u001b[0m\n",
      "\u001b[0;32m~/.local/lib/python3.8/site-packages/py4j/java_gateway.py\u001b[0m in \u001b[0;36m__call__\u001b[0;34m(self, *args)\u001b[0m\n\u001b[1;32m   1307\u001b[0m \u001b[0;34m\u001b[0m\u001b[0m\n\u001b[1;32m   1308\u001b[0m         \u001b[0manswer\u001b[0m \u001b[0;34m=\u001b[0m \u001b[0mself\u001b[0m\u001b[0;34m.\u001b[0m\u001b[0mgateway_client\u001b[0m\u001b[0;34m.\u001b[0m\u001b[0msend_command\u001b[0m\u001b[0;34m(\u001b[0m\u001b[0mcommand\u001b[0m\u001b[0;34m)\u001b[0m\u001b[0;34m\u001b[0m\u001b[0;34m\u001b[0m\u001b[0m\n\u001b[0;32m-> 1309\u001b[0;31m         return_value = get_return_value(\n\u001b[0m\u001b[1;32m   1310\u001b[0m             answer, self.gateway_client, self.target_id, self.name)\n\u001b[1;32m   1311\u001b[0m \u001b[0;34m\u001b[0m\u001b[0m\n",
      "\u001b[0;32m~/.local/lib/python3.8/site-packages/pyspark/sql/utils.py\u001b[0m in \u001b[0;36mdeco\u001b[0;34m(*a, **kw)\u001b[0m\n\u001b[1;32m    115\u001b[0m                 \u001b[0;31m# Hide where the exception came from that shows a non-Pythonic\u001b[0m\u001b[0;34m\u001b[0m\u001b[0;34m\u001b[0m\u001b[0;34m\u001b[0m\u001b[0m\n\u001b[1;32m    116\u001b[0m                 \u001b[0;31m# JVM exception message.\u001b[0m\u001b[0;34m\u001b[0m\u001b[0;34m\u001b[0m\u001b[0;34m\u001b[0m\u001b[0m\n\u001b[0;32m--> 117\u001b[0;31m                 \u001b[0;32mraise\u001b[0m \u001b[0mconverted\u001b[0m \u001b[0;32mfrom\u001b[0m \u001b[0;32mNone\u001b[0m\u001b[0;34m\u001b[0m\u001b[0;34m\u001b[0m\u001b[0m\n\u001b[0m\u001b[1;32m    118\u001b[0m             \u001b[0;32melse\u001b[0m\u001b[0;34m:\u001b[0m\u001b[0;34m\u001b[0m\u001b[0;34m\u001b[0m\u001b[0m\n\u001b[1;32m    119\u001b[0m                 \u001b[0;32mraise\u001b[0m\u001b[0;34m\u001b[0m\u001b[0;34m\u001b[0m\u001b[0m\n",
      "\u001b[0;31mAnalysisException\u001b[0m: cannot resolve '(CAST(group AS DOUBLE) + abool)' due to data type mismatch: differing types in '(CAST(group AS DOUBLE) + abool)' (double and boolean).;\n'Project [unresolvedalias((cast(group#96 as double) + abool#97), Some(org.apache.spark.sql.Column$$Lambda$2529/0x000000080115c040@560ace4d))]\n+- LogicalRDD [n#95, group#96, abool#97], false\n"
     ]
    }
   ],
   "source": [
    "df.select(df.group + df.abool)"
   ]
  },
  {
   "cell_type": "markdown",
   "id": "c0ebdc2b",
   "metadata": {},
   "source": [
    "We get an error when we attempt to combine `group` and `abool` because these columns are different data types. We previously did not get an error because, since Spark is lazy, no calculation was made when we initially added `group` and `abool` together. Spark did not make a calculation until we selected this sum. "
   ]
  },
  {
   "cell_type": "markdown",
   "id": "1ce3975f",
   "metadata": {},
   "source": [
    "### Try adding various other columns together. What are the results of combining the different data types?"
   ]
  },
  {
   "cell_type": "code",
   "execution_count": 46,
   "id": "342f2d1d",
   "metadata": {},
   "outputs": [
    {
     "ename": "AnalysisException",
     "evalue": "cannot resolve '(n + abool)' due to data type mismatch: differing types in '(n + abool)' (double and boolean).;\n'Project [unresolvedalias((n#95 + abool#97), Some(org.apache.spark.sql.Column$$Lambda$2529/0x000000080115c040@560ace4d))]\n+- LogicalRDD [n#95, group#96, abool#97], false\n",
     "output_type": "error",
     "traceback": [
      "\u001b[0;31m---------------------------------------------------------------------------\u001b[0m",
      "\u001b[0;31mAnalysisException\u001b[0m                         Traceback (most recent call last)",
      "\u001b[0;32m<ipython-input-46-0df897f26836>\u001b[0m in \u001b[0;36m<module>\u001b[0;34m\u001b[0m\n\u001b[0;32m----> 1\u001b[0;31m \u001b[0mdf\u001b[0m\u001b[0;34m.\u001b[0m\u001b[0mselect\u001b[0m\u001b[0;34m(\u001b[0m\u001b[0mdf\u001b[0m\u001b[0;34m.\u001b[0m\u001b[0mn\u001b[0m \u001b[0;34m+\u001b[0m \u001b[0mdf\u001b[0m\u001b[0;34m.\u001b[0m\u001b[0mabool\u001b[0m\u001b[0;34m)\u001b[0m\u001b[0;34m\u001b[0m\u001b[0;34m\u001b[0m\u001b[0m\n\u001b[0m",
      "\u001b[0;32m~/.local/lib/python3.8/site-packages/pyspark/sql/dataframe.py\u001b[0m in \u001b[0;36mselect\u001b[0;34m(self, *cols)\u001b[0m\n\u001b[1;32m   1683\u001b[0m         \u001b[0;34m[\u001b[0m\u001b[0mRow\u001b[0m\u001b[0;34m(\u001b[0m\u001b[0mname\u001b[0m\u001b[0;34m=\u001b[0m\u001b[0;34m'Alice'\u001b[0m\u001b[0;34m,\u001b[0m \u001b[0mage\u001b[0m\u001b[0;34m=\u001b[0m\u001b[0;36m12\u001b[0m\u001b[0;34m)\u001b[0m\u001b[0;34m,\u001b[0m \u001b[0mRow\u001b[0m\u001b[0;34m(\u001b[0m\u001b[0mname\u001b[0m\u001b[0;34m=\u001b[0m\u001b[0;34m'Bob'\u001b[0m\u001b[0;34m,\u001b[0m \u001b[0mage\u001b[0m\u001b[0;34m=\u001b[0m\u001b[0;36m15\u001b[0m\u001b[0;34m)\u001b[0m\u001b[0;34m]\u001b[0m\u001b[0;34m\u001b[0m\u001b[0;34m\u001b[0m\u001b[0m\n\u001b[1;32m   1684\u001b[0m         \"\"\"\n\u001b[0;32m-> 1685\u001b[0;31m         \u001b[0mjdf\u001b[0m \u001b[0;34m=\u001b[0m \u001b[0mself\u001b[0m\u001b[0;34m.\u001b[0m\u001b[0m_jdf\u001b[0m\u001b[0;34m.\u001b[0m\u001b[0mselect\u001b[0m\u001b[0;34m(\u001b[0m\u001b[0mself\u001b[0m\u001b[0;34m.\u001b[0m\u001b[0m_jcols\u001b[0m\u001b[0;34m(\u001b[0m\u001b[0;34m*\u001b[0m\u001b[0mcols\u001b[0m\u001b[0;34m)\u001b[0m\u001b[0;34m)\u001b[0m\u001b[0;34m\u001b[0m\u001b[0;34m\u001b[0m\u001b[0m\n\u001b[0m\u001b[1;32m   1686\u001b[0m         \u001b[0;32mreturn\u001b[0m \u001b[0mDataFrame\u001b[0m\u001b[0;34m(\u001b[0m\u001b[0mjdf\u001b[0m\u001b[0;34m,\u001b[0m \u001b[0mself\u001b[0m\u001b[0;34m.\u001b[0m\u001b[0msql_ctx\u001b[0m\u001b[0;34m)\u001b[0m\u001b[0;34m\u001b[0m\u001b[0;34m\u001b[0m\u001b[0m\n\u001b[1;32m   1687\u001b[0m \u001b[0;34m\u001b[0m\u001b[0m\n",
      "\u001b[0;32m~/.local/lib/python3.8/site-packages/py4j/java_gateway.py\u001b[0m in \u001b[0;36m__call__\u001b[0;34m(self, *args)\u001b[0m\n\u001b[1;32m   1307\u001b[0m \u001b[0;34m\u001b[0m\u001b[0m\n\u001b[1;32m   1308\u001b[0m         \u001b[0manswer\u001b[0m \u001b[0;34m=\u001b[0m \u001b[0mself\u001b[0m\u001b[0;34m.\u001b[0m\u001b[0mgateway_client\u001b[0m\u001b[0;34m.\u001b[0m\u001b[0msend_command\u001b[0m\u001b[0;34m(\u001b[0m\u001b[0mcommand\u001b[0m\u001b[0;34m)\u001b[0m\u001b[0;34m\u001b[0m\u001b[0;34m\u001b[0m\u001b[0m\n\u001b[0;32m-> 1309\u001b[0;31m         return_value = get_return_value(\n\u001b[0m\u001b[1;32m   1310\u001b[0m             answer, self.gateway_client, self.target_id, self.name)\n\u001b[1;32m   1311\u001b[0m \u001b[0;34m\u001b[0m\u001b[0m\n",
      "\u001b[0;32m~/.local/lib/python3.8/site-packages/pyspark/sql/utils.py\u001b[0m in \u001b[0;36mdeco\u001b[0;34m(*a, **kw)\u001b[0m\n\u001b[1;32m    115\u001b[0m                 \u001b[0;31m# Hide where the exception came from that shows a non-Pythonic\u001b[0m\u001b[0;34m\u001b[0m\u001b[0;34m\u001b[0m\u001b[0;34m\u001b[0m\u001b[0m\n\u001b[1;32m    116\u001b[0m                 \u001b[0;31m# JVM exception message.\u001b[0m\u001b[0;34m\u001b[0m\u001b[0;34m\u001b[0m\u001b[0;34m\u001b[0m\u001b[0m\n\u001b[0;32m--> 117\u001b[0;31m                 \u001b[0;32mraise\u001b[0m \u001b[0mconverted\u001b[0m \u001b[0;32mfrom\u001b[0m \u001b[0;32mNone\u001b[0m\u001b[0;34m\u001b[0m\u001b[0;34m\u001b[0m\u001b[0m\n\u001b[0m\u001b[1;32m    118\u001b[0m             \u001b[0;32melse\u001b[0m\u001b[0;34m:\u001b[0m\u001b[0;34m\u001b[0m\u001b[0;34m\u001b[0m\u001b[0m\n\u001b[1;32m    119\u001b[0m                 \u001b[0;32mraise\u001b[0m\u001b[0;34m\u001b[0m\u001b[0;34m\u001b[0m\u001b[0m\n",
      "\u001b[0;31mAnalysisException\u001b[0m: cannot resolve '(n + abool)' due to data type mismatch: differing types in '(n + abool)' (double and boolean).;\n'Project [unresolvedalias((n#95 + abool#97), Some(org.apache.spark.sql.Column$$Lambda$2529/0x000000080115c040@560ace4d))]\n+- LogicalRDD [n#95, group#96, abool#97], false\n"
     ]
    }
   ],
   "source": [
    "df.select(df.n + df.abool)"
   ]
  },
  {
   "cell_type": "code",
   "execution_count": 48,
   "id": "e43cdc01",
   "metadata": {},
   "outputs": [
    {
     "name": "stdout",
     "output_type": "stream",
     "text": [
      "+-----------+\n",
      "|(n + group)|\n",
      "+-----------+\n",
      "|       null|\n",
      "|       null|\n",
      "|       null|\n",
      "|       null|\n",
      "|       null|\n",
      "|       null|\n",
      "|       null|\n",
      "|       null|\n",
      "|       null|\n",
      "|       null|\n",
      "|       null|\n",
      "|       null|\n",
      "|       null|\n",
      "|       null|\n",
      "|       null|\n",
      "|       null|\n",
      "|       null|\n",
      "|       null|\n",
      "|       null|\n",
      "|       null|\n",
      "+-----------+\n",
      "\n"
     ]
    }
   ],
   "source": [
    "df.select(df.n + df.group).show()"
   ]
  },
  {
   "cell_type": "code",
   "execution_count": 54,
   "id": "d754447c",
   "metadata": {},
   "outputs": [
    {
     "data": {
      "text/plain": [
       "<bound method DataFrame.describe of DataFrame[n: double, group: string, abool: boolean]>"
      ]
     },
     "execution_count": 54,
     "metadata": {},
     "output_type": "execute_result"
    }
   ],
   "source": [
    "df.describe"
   ]
  },
  {
   "cell_type": "markdown",
   "id": "94f40134",
   "metadata": {},
   "source": [
    "We cannot add a string and a boolean or a string and a double, but we can add a double and a string. "
   ]
  },
  {
   "cell_type": "markdown",
   "id": "2785b247",
   "metadata": {},
   "source": [
    "## 3. Type casting"
   ]
  },
  {
   "cell_type": "markdown",
   "id": "38203a08",
   "metadata": {},
   "source": [
    "### Use the starter code above to re-create a spark dataframe."
   ]
  },
  {
   "cell_type": "code",
   "execution_count": 56,
   "id": "e3766cca",
   "metadata": {},
   "outputs": [],
   "source": [
    "df = spark.createDataFrame(pd.DataFrame({\n",
    "    \"n\": np.random.randn(20),\n",
    "    \"group\": np.random.choice(list(\"xyz\"), 20),\n",
    "    \"abool\": np.random.choice([True, False], 20),\n",
    "}))"
   ]
  },
  {
   "cell_type": "markdown",
   "id": "7440eda1",
   "metadata": {},
   "source": [
    "### Use .printSchema to view the datatypes in your dataframe."
   ]
  },
  {
   "cell_type": "code",
   "execution_count": 60,
   "id": "f8ad93ec",
   "metadata": {},
   "outputs": [
    {
     "name": "stdout",
     "output_type": "stream",
     "text": [
      "root\n",
      " |-- n: double (nullable = true)\n",
      " |-- group: string (nullable = true)\n",
      " |-- abool: boolean (nullable = true)\n",
      "\n"
     ]
    }
   ],
   "source": [
    "df.printSchema()"
   ]
  },
  {
   "cell_type": "markdown",
   "id": "14c50ef5",
   "metadata": {},
   "source": [
    "### Use .dtypes to view the datatypes in your dataframe."
   ]
  },
  {
   "cell_type": "code",
   "execution_count": 62,
   "id": "991743f2",
   "metadata": {},
   "outputs": [
    {
     "data": {
      "text/plain": [
       "[('n', 'double'), ('group', 'string'), ('abool', 'boolean')]"
      ]
     },
     "execution_count": 62,
     "metadata": {},
     "output_type": "execute_result"
    }
   ],
   "source": [
    "df.dtypes"
   ]
  },
  {
   "cell_type": "markdown",
   "id": "476c2ad5",
   "metadata": {},
   "source": [
    "### What is the difference between the two code samples below?\n",
    "\n",
    "```df.abool.cast('int')```\n",
    "\n",
    "```df.select(df.abool.cast('int')).show()```\n"
   ]
  },
  {
   "cell_type": "code",
   "execution_count": 72,
   "id": "d743d3eb",
   "metadata": {},
   "outputs": [
    {
     "data": {
      "text/plain": [
       "Column<'CAST(abool AS INT)'>"
      ]
     },
     "execution_count": 72,
     "metadata": {},
     "output_type": "execute_result"
    }
   ],
   "source": [
    "df.abool.cast('int')"
   ]
  },
  {
   "cell_type": "code",
   "execution_count": 66,
   "id": "01af4971",
   "metadata": {},
   "outputs": [
    {
     "name": "stdout",
     "output_type": "stream",
     "text": [
      "+-----+\n",
      "|abool|\n",
      "+-----+\n",
      "|    0|\n",
      "|    1|\n",
      "|    0|\n",
      "|    0|\n",
      "|    1|\n",
      "|    1|\n",
      "|    1|\n",
      "|    1|\n",
      "|    0|\n",
      "|    1|\n",
      "|    0|\n",
      "|    1|\n",
      "|    1|\n",
      "|    0|\n",
      "|    1|\n",
      "|    0|\n",
      "|    0|\n",
      "|    1|\n",
      "|    0|\n",
      "|    1|\n",
      "+-----+\n",
      "\n"
     ]
    }
   ],
   "source": [
    "df.select(df.abool.cast('int')).show()"
   ]
  },
  {
   "cell_type": "markdown",
   "id": "0f3f6009",
   "metadata": {},
   "source": [
    "The first code represents a substitution `True` and `False` for 1 and 0, but without actually making any calculation, since Spark is lazy.\n",
    "\n",
    "The second code select the `abool` column, converts the `True` and `False` to 1 and 0, then prints the first 20 rows of the DataFrame."
   ]
  },
  {
   "cell_type": "markdown",
   "id": "9abf4246",
   "metadata": {},
   "source": [
    "### Use .select and .cast to convert the abool column to an integer type. View the results"
   ]
  },
  {
   "cell_type": "code",
   "execution_count": 73,
   "id": "77bc8a2a",
   "metadata": {},
   "outputs": [
    {
     "name": "stdout",
     "output_type": "stream",
     "text": [
      "+-----+\n",
      "|abool|\n",
      "+-----+\n",
      "|    0|\n",
      "|    1|\n",
      "|    0|\n",
      "|    0|\n",
      "|    1|\n",
      "|    1|\n",
      "|    1|\n",
      "|    1|\n",
      "|    0|\n",
      "|    1|\n",
      "|    0|\n",
      "|    1|\n",
      "|    1|\n",
      "|    0|\n",
      "|    1|\n",
      "|    0|\n",
      "|    0|\n",
      "|    1|\n",
      "|    0|\n",
      "|    1|\n",
      "+-----+\n",
      "\n"
     ]
    }
   ],
   "source": [
    "df.select(df.abool.cast('int')).show()"
   ]
  },
  {
   "cell_type": "markdown",
   "id": "f5a6aeaf",
   "metadata": {},
   "source": [
    "### Convert the group column to a integer data type and view the results. What happens?"
   ]
  },
  {
   "cell_type": "code",
   "execution_count": 74,
   "id": "8a676785",
   "metadata": {},
   "outputs": [
    {
     "name": "stdout",
     "output_type": "stream",
     "text": [
      "+-----+\n",
      "|group|\n",
      "+-----+\n",
      "| null|\n",
      "| null|\n",
      "| null|\n",
      "| null|\n",
      "| null|\n",
      "| null|\n",
      "| null|\n",
      "| null|\n",
      "| null|\n",
      "| null|\n",
      "| null|\n",
      "| null|\n",
      "| null|\n",
      "| null|\n",
      "| null|\n",
      "| null|\n",
      "| null|\n",
      "| null|\n",
      "| null|\n",
      "| null|\n",
      "+-----+\n",
      "\n"
     ]
    }
   ],
   "source": [
    "df.select(df.group.cast('int')).show()"
   ]
  },
  {
   "cell_type": "markdown",
   "id": "06c30f97",
   "metadata": {},
   "source": [
    "The DataFrame returns all null values."
   ]
  },
  {
   "cell_type": "markdown",
   "id": "85351c33",
   "metadata": {},
   "source": [
    "### Convert the n column to a integer data type and view the results. What happens?"
   ]
  },
  {
   "cell_type": "code",
   "execution_count": 80,
   "id": "f4d7e801",
   "metadata": {},
   "outputs": [
    {
     "name": "stdout",
     "output_type": "stream",
     "text": [
      "+--------------------+\n",
      "|                   n|\n",
      "+--------------------+\n",
      "| -0.8850620992868307|\n",
      "| 0.07272674611277782|\n",
      "|   -0.82751910119974|\n",
      "|  -0.591550921883219|\n",
      "|  -2.186215625579764|\n",
      "| -1.4304503608169532|\n",
      "|0.001182616633274...|\n",
      "|-0.15241870550020373|\n",
      "|  1.4418010391482912|\n",
      "|-0.18492174250837645|\n",
      "| -0.2298977614525365|\n",
      "| -0.2633773007599446|\n",
      "|-0.08286224131163808|\n",
      "|-0.38505688002448574|\n",
      "|-0.10105117176246801|\n",
      "| 0.33115422310589987|\n",
      "| 0.04329942581647413|\n",
      "|-0.44997653600849435|\n",
      "|  0.3471981374467132|\n",
      "|  1.4591000886192282|\n",
      "+--------------------+\n",
      "\n"
     ]
    }
   ],
   "source": [
    "df.select(df.n).show()"
   ]
  },
  {
   "cell_type": "code",
   "execution_count": 78,
   "id": "aa61fa1f",
   "metadata": {},
   "outputs": [
    {
     "name": "stdout",
     "output_type": "stream",
     "text": [
      "+---+\n",
      "|  n|\n",
      "+---+\n",
      "|  0|\n",
      "|  0|\n",
      "|  0|\n",
      "|  0|\n",
      "| -2|\n",
      "| -1|\n",
      "|  0|\n",
      "|  0|\n",
      "|  1|\n",
      "|  0|\n",
      "|  0|\n",
      "|  0|\n",
      "|  0|\n",
      "|  0|\n",
      "|  0|\n",
      "|  0|\n",
      "|  0|\n",
      "|  0|\n",
      "|  0|\n",
      "|  1|\n",
      "+---+\n",
      "\n"
     ]
    }
   ],
   "source": [
    "df.select(df.n.cast('int')).show()"
   ]
  },
  {
   "cell_type": "markdown",
   "id": "8ad17044",
   "metadata": {},
   "source": [
    "The code rounds each `n` value to the nearest integer."
   ]
  },
  {
   "cell_type": "markdown",
   "id": "91d85388",
   "metadata": {},
   "source": [
    "### Convert the abool column to a string data type and view the results. What happens?"
   ]
  },
  {
   "cell_type": "code",
   "execution_count": 81,
   "id": "50ea1e1c",
   "metadata": {},
   "outputs": [
    {
     "name": "stdout",
     "output_type": "stream",
     "text": [
      "+-----+\n",
      "|abool|\n",
      "+-----+\n",
      "|false|\n",
      "| true|\n",
      "|false|\n",
      "|false|\n",
      "| true|\n",
      "| true|\n",
      "| true|\n",
      "| true|\n",
      "|false|\n",
      "| true|\n",
      "|false|\n",
      "| true|\n",
      "| true|\n",
      "|false|\n",
      "| true|\n",
      "|false|\n",
      "|false|\n",
      "| true|\n",
      "|false|\n",
      "| true|\n",
      "+-----+\n",
      "\n"
     ]
    }
   ],
   "source": [
    "df.select(df.abool).show()"
   ]
  },
  {
   "cell_type": "code",
   "execution_count": 83,
   "id": "3263c09b",
   "metadata": {},
   "outputs": [
    {
     "ename": "ParseException",
     "evalue": "\nDataType str is not supported.(line 1, pos 0)\n\n== SQL ==\nstr\n^^^\n",
     "output_type": "error",
     "traceback": [
      "\u001b[0;31m---------------------------------------------------------------------------\u001b[0m",
      "\u001b[0;31mParseException\u001b[0m                            Traceback (most recent call last)",
      "\u001b[0;32m<ipython-input-83-599d0c2aa187>\u001b[0m in \u001b[0;36m<module>\u001b[0;34m\u001b[0m\n\u001b[0;32m----> 1\u001b[0;31m \u001b[0mdf\u001b[0m\u001b[0;34m.\u001b[0m\u001b[0mselect\u001b[0m\u001b[0;34m(\u001b[0m\u001b[0mdf\u001b[0m\u001b[0;34m.\u001b[0m\u001b[0mabool\u001b[0m\u001b[0;34m.\u001b[0m\u001b[0mcast\u001b[0m\u001b[0;34m(\u001b[0m\u001b[0;34m'str'\u001b[0m\u001b[0;34m)\u001b[0m\u001b[0;34m)\u001b[0m\u001b[0;34m.\u001b[0m\u001b[0mshow\u001b[0m\u001b[0;34m(\u001b[0m\u001b[0;34m)\u001b[0m\u001b[0;34m\u001b[0m\u001b[0;34m\u001b[0m\u001b[0m\n\u001b[0m",
      "\u001b[0;32m~/.local/lib/python3.8/site-packages/pyspark/sql/column.py\u001b[0m in \u001b[0;36mcast\u001b[0;34m(self, dataType)\u001b[0m\n\u001b[1;32m    772\u001b[0m         \"\"\"\n\u001b[1;32m    773\u001b[0m         \u001b[0;32mif\u001b[0m \u001b[0misinstance\u001b[0m\u001b[0;34m(\u001b[0m\u001b[0mdataType\u001b[0m\u001b[0;34m,\u001b[0m \u001b[0mstr\u001b[0m\u001b[0;34m)\u001b[0m\u001b[0;34m:\u001b[0m\u001b[0;34m\u001b[0m\u001b[0;34m\u001b[0m\u001b[0m\n\u001b[0;32m--> 774\u001b[0;31m             \u001b[0mjc\u001b[0m \u001b[0;34m=\u001b[0m \u001b[0mself\u001b[0m\u001b[0;34m.\u001b[0m\u001b[0m_jc\u001b[0m\u001b[0;34m.\u001b[0m\u001b[0mcast\u001b[0m\u001b[0;34m(\u001b[0m\u001b[0mdataType\u001b[0m\u001b[0;34m)\u001b[0m\u001b[0;34m\u001b[0m\u001b[0;34m\u001b[0m\u001b[0m\n\u001b[0m\u001b[1;32m    775\u001b[0m         \u001b[0;32melif\u001b[0m \u001b[0misinstance\u001b[0m\u001b[0;34m(\u001b[0m\u001b[0mdataType\u001b[0m\u001b[0;34m,\u001b[0m \u001b[0mDataType\u001b[0m\u001b[0;34m)\u001b[0m\u001b[0;34m:\u001b[0m\u001b[0;34m\u001b[0m\u001b[0;34m\u001b[0m\u001b[0m\n\u001b[1;32m    776\u001b[0m             \u001b[0;32mfrom\u001b[0m \u001b[0mpyspark\u001b[0m\u001b[0;34m.\u001b[0m\u001b[0msql\u001b[0m \u001b[0;32mimport\u001b[0m \u001b[0mSparkSession\u001b[0m\u001b[0;34m\u001b[0m\u001b[0;34m\u001b[0m\u001b[0m\n",
      "\u001b[0;32m~/.local/lib/python3.8/site-packages/py4j/java_gateway.py\u001b[0m in \u001b[0;36m__call__\u001b[0;34m(self, *args)\u001b[0m\n\u001b[1;32m   1307\u001b[0m \u001b[0;34m\u001b[0m\u001b[0m\n\u001b[1;32m   1308\u001b[0m         \u001b[0manswer\u001b[0m \u001b[0;34m=\u001b[0m \u001b[0mself\u001b[0m\u001b[0;34m.\u001b[0m\u001b[0mgateway_client\u001b[0m\u001b[0;34m.\u001b[0m\u001b[0msend_command\u001b[0m\u001b[0;34m(\u001b[0m\u001b[0mcommand\u001b[0m\u001b[0;34m)\u001b[0m\u001b[0;34m\u001b[0m\u001b[0;34m\u001b[0m\u001b[0m\n\u001b[0;32m-> 1309\u001b[0;31m         return_value = get_return_value(\n\u001b[0m\u001b[1;32m   1310\u001b[0m             answer, self.gateway_client, self.target_id, self.name)\n\u001b[1;32m   1311\u001b[0m \u001b[0;34m\u001b[0m\u001b[0m\n",
      "\u001b[0;32m~/.local/lib/python3.8/site-packages/pyspark/sql/utils.py\u001b[0m in \u001b[0;36mdeco\u001b[0;34m(*a, **kw)\u001b[0m\n\u001b[1;32m    115\u001b[0m                 \u001b[0;31m# Hide where the exception came from that shows a non-Pythonic\u001b[0m\u001b[0;34m\u001b[0m\u001b[0;34m\u001b[0m\u001b[0;34m\u001b[0m\u001b[0m\n\u001b[1;32m    116\u001b[0m                 \u001b[0;31m# JVM exception message.\u001b[0m\u001b[0;34m\u001b[0m\u001b[0;34m\u001b[0m\u001b[0;34m\u001b[0m\u001b[0m\n\u001b[0;32m--> 117\u001b[0;31m                 \u001b[0;32mraise\u001b[0m \u001b[0mconverted\u001b[0m \u001b[0;32mfrom\u001b[0m \u001b[0;32mNone\u001b[0m\u001b[0;34m\u001b[0m\u001b[0;34m\u001b[0m\u001b[0m\n\u001b[0m\u001b[1;32m    118\u001b[0m             \u001b[0;32melse\u001b[0m\u001b[0;34m:\u001b[0m\u001b[0;34m\u001b[0m\u001b[0;34m\u001b[0m\u001b[0m\n\u001b[1;32m    119\u001b[0m                 \u001b[0;32mraise\u001b[0m\u001b[0;34m\u001b[0m\u001b[0;34m\u001b[0m\u001b[0m\n",
      "\u001b[0;31mParseException\u001b[0m: \nDataType str is not supported.(line 1, pos 0)\n\n== SQL ==\nstr\n^^^\n"
     ]
    }
   ],
   "source": [
    "df.select(df.abool.cast('str')).show()"
   ]
  },
  {
   "cell_type": "markdown",
   "id": "e6f2ef7f",
   "metadata": {},
   "source": [
    "We receive an error because we cannot convert a Boolean value to a string."
   ]
  },
  {
   "cell_type": "markdown",
   "id": "f4e7b6dd",
   "metadata": {},
   "source": [
    "## 4. Built-in Functions"
   ]
  },
  {
   "cell_type": "markdown",
   "id": "29d1736c",
   "metadata": {},
   "source": [
    "### Use the starter code above to re-create a spark dataframe."
   ]
  },
  {
   "cell_type": "code",
   "execution_count": 96,
   "id": "420c9b0e",
   "metadata": {},
   "outputs": [],
   "source": [
    "df = spark.createDataFrame(pd.DataFrame({\n",
    "    \"n\": np.random.randn(20),\n",
    "    \"group\": np.random.choice(list(\"xyz\"), 20),\n",
    "    \"abool\": np.random.choice([True, False], 20),\n",
    "}))"
   ]
  },
  {
   "cell_type": "markdown",
   "id": "e675291a",
   "metadata": {},
   "source": [
    "### Import the necessary functions from ```pyspark.sql.functions```\n"
   ]
  },
  {
   "cell_type": "code",
   "execution_count": 131,
   "id": "2bf5e400",
   "metadata": {},
   "outputs": [],
   "source": [
    "from  pyspark.sql.functions import  asc, desc, mean, min, max, concat, lit, round"
   ]
  },
  {
   "cell_type": "markdown",
   "id": "03e8efd8",
   "metadata": {},
   "source": [
    "### Find the highest n value."
   ]
  },
  {
   "cell_type": "code",
   "execution_count": 111,
   "id": "425020d6",
   "metadata": {},
   "outputs": [
    {
     "name": "stdout",
     "output_type": "stream",
     "text": [
      "+-----------------+-----+-----+\n",
      "|                n|group|abool|\n",
      "+-----------------+-----+-----+\n",
      "|1.574465016668651|    x| true|\n",
      "+-----------------+-----+-----+\n",
      "only showing top 1 row\n",
      "\n"
     ]
    }
   ],
   "source": [
    "df.orderBy(desc('n')).show(1)"
   ]
  },
  {
   "cell_type": "code",
   "execution_count": 121,
   "id": "34eeac87",
   "metadata": {},
   "outputs": [
    {
     "name": "stdout",
     "output_type": "stream",
     "text": [
      "+-----------------+\n",
      "|           max(n)|\n",
      "+-----------------+\n",
      "|1.574465016668651|\n",
      "+-----------------+\n",
      "\n"
     ]
    }
   ],
   "source": [
    "df.select(max(df.n)).show()"
   ]
  },
  {
   "cell_type": "markdown",
   "id": "5e74f410",
   "metadata": {},
   "source": [
    "### Find the lowest n value."
   ]
  },
  {
   "cell_type": "code",
   "execution_count": 112,
   "id": "187cf339",
   "metadata": {},
   "outputs": [
    {
     "name": "stdout",
     "output_type": "stream",
     "text": [
      "+-------------------+-----+-----+\n",
      "|                  n|group|abool|\n",
      "+-------------------+-----+-----+\n",
      "|-1.7570352170643477|    z|false|\n",
      "+-------------------+-----+-----+\n",
      "only showing top 1 row\n",
      "\n"
     ]
    }
   ],
   "source": [
    "df.orderBy(asc('n')).show(1)"
   ]
  },
  {
   "cell_type": "code",
   "execution_count": 122,
   "id": "578caf66",
   "metadata": {},
   "outputs": [
    {
     "name": "stdout",
     "output_type": "stream",
     "text": [
      "+-------------------+\n",
      "|             min(n)|\n",
      "+-------------------+\n",
      "|-1.7570352170643477|\n",
      "+-------------------+\n",
      "\n"
     ]
    }
   ],
   "source": [
    "df.select(min(df.n)).show()"
   ]
  },
  {
   "cell_type": "markdown",
   "id": "07a5d5d5",
   "metadata": {},
   "source": [
    "### Find the average n value."
   ]
  },
  {
   "cell_type": "code",
   "execution_count": 119,
   "id": "8518769e",
   "metadata": {},
   "outputs": [
    {
     "name": "stdout",
     "output_type": "stream",
     "text": [
      "+------------------+\n",
      "|            avg(n)|\n",
      "+------------------+\n",
      "|0.0281297980344428|\n",
      "+------------------+\n",
      "\n"
     ]
    }
   ],
   "source": [
    "df.select(mean(df.n)).show()"
   ]
  },
  {
   "cell_type": "markdown",
   "id": "fdf506e9",
   "metadata": {},
   "source": [
    "### Use concat to change the group column to say, e.g. \"Group: x\" or \"Group: y\""
   ]
  },
  {
   "cell_type": "code",
   "execution_count": 128,
   "id": "ad461721",
   "metadata": {},
   "outputs": [
    {
     "name": "stdout",
     "output_type": "stream",
     "text": [
      "+--------------------+---------------------+-----+\n",
      "|                   n|concat(Group , group)|abool|\n",
      "+--------------------+---------------------+-----+\n",
      "|  0.5345941466677115|              Group x| true|\n",
      "|  0.8231227651701564|              Group x|false|\n",
      "|  0.8862891040333676|              Group x|false|\n",
      "| 0.17266171218872037|              Group z| true|\n",
      "|-0.21312889268996238|              Group y|false|\n",
      "|0.027641567510190198|              Group z| true|\n",
      "|  -1.073052771312975|              Group z|false|\n",
      "|  1.2474002187187725|              Group y| true|\n",
      "|-0.29344146465064336|              Group x|false|\n",
      "| -0.2611042518734936|              Group x|false|\n",
      "| -1.2278338632475168|              Group y| true|\n",
      "|  1.0594556661999763|              Group y|false|\n",
      "|  0.6269471789396875|              Group x|false|\n",
      "| 0.16358009631961862|              Group y|false|\n",
      "| -0.2961148127835557|              Group y|false|\n",
      "|-0.23127394469706597|              Group y| true|\n",
      "|   1.574465016668651|              Group x| true|\n",
      "| -0.8725336922712517|              Group x| true|\n",
      "| -1.7570352170643477|              Group z|false|\n",
      "| -0.3280426011371834|              Group z|false|\n",
      "+--------------------+---------------------+-----+\n",
      "\n"
     ]
    }
   ],
   "source": [
    "df.select('n', concat(lit('Group '), 'group'), 'abool').show()"
   ]
  },
  {
   "cell_type": "markdown",
   "id": "b9dd77d9",
   "metadata": {},
   "source": [
    "### Use concat to combine the n and group columns to produce results that look like this: \"x: -1.432\" or \"z: 2.352\""
   ]
  },
  {
   "cell_type": "code",
   "execution_count": 132,
   "id": "de9abcca",
   "metadata": {},
   "outputs": [
    {
     "name": "stdout",
     "output_type": "stream",
     "text": [
      "+------------------------------+-----+\n",
      "|concat(group, : , round(n, 3))|abool|\n",
      "+------------------------------+-----+\n",
      "|                      x: 0.535| true|\n",
      "|                      x: 0.823|false|\n",
      "|                      x: 0.886|false|\n",
      "|                      z: 0.173| true|\n",
      "|                     y: -0.213|false|\n",
      "|                      z: 0.028| true|\n",
      "|                     z: -1.073|false|\n",
      "|                      y: 1.247| true|\n",
      "|                     x: -0.293|false|\n",
      "|                     x: -0.261|false|\n",
      "|                     y: -1.228| true|\n",
      "|                      y: 1.059|false|\n",
      "|                      x: 0.627|false|\n",
      "|                      y: 0.164|false|\n",
      "|                     y: -0.296|false|\n",
      "|                     y: -0.231| true|\n",
      "|                      x: 1.574| true|\n",
      "|                     x: -0.873| true|\n",
      "|                     z: -1.757|false|\n",
      "|                     z: -0.328|false|\n",
      "+------------------------------+-----+\n",
      "\n"
     ]
    }
   ],
   "source": [
    "df.select(concat('group', lit(\": \"), round('n', 3)), 'abool').show()"
   ]
  },
  {
   "cell_type": "markdown",
   "id": "d3b17948",
   "metadata": {},
   "source": [
    "## 5. When / Otherwise"
   ]
  },
  {
   "cell_type": "code",
   "execution_count": 145,
   "id": "68fefc35",
   "metadata": {},
   "outputs": [],
   "source": [
    "from pyspark.sql.functions import when"
   ]
  },
  {
   "cell_type": "markdown",
   "id": "4ff5ed9a",
   "metadata": {},
   "source": [
    "### Use the starter code above to re-create a spark dataframe."
   ]
  },
  {
   "cell_type": "code",
   "execution_count": 133,
   "id": "ab398cb7",
   "metadata": {},
   "outputs": [],
   "source": [
    "df = spark.createDataFrame(pd.DataFrame({\n",
    "    \"n\": np.random.randn(20),\n",
    "    \"group\": np.random.choice(list(\"xyz\"), 20),\n",
    "    \"abool\": np.random.choice([True, False], 20),\n",
    "}))"
   ]
  },
  {
   "cell_type": "markdown",
   "id": "071d6b1f",
   "metadata": {},
   "source": [
    "### Use when and .otherwise to create a column that contains the text \"It is true\" when abool is true and \"It is false\"\" when abool is false."
   ]
  },
  {
   "cell_type": "code",
   "execution_count": 139,
   "id": "74ba8817",
   "metadata": {},
   "outputs": [
    {
     "name": "stdout",
     "output_type": "stream",
     "text": [
      "+--------------------+-----+-----+--------------+\n",
      "|                   n|group|abool|True vs. False|\n",
      "+--------------------+-----+-----+--------------+\n",
      "|  1.2636494824990419|    z| true|    It is true|\n",
      "|  1.5708990002014271|    y|false|   It is false|\n",
      "| -1.2615486912059428|    x|false|   It is false|\n",
      "|-0.07508917570719996|    y| true|    It is true|\n",
      "|  0.8501070283110412|    z|false|   It is false|\n",
      "| -0.9150316963547941|    x| true|    It is true|\n",
      "| -0.8673479540502249|    y| true|    It is true|\n",
      "|  0.7731666960765334|    z|false|   It is false|\n",
      "| -0.7749046025022026|    y|false|   It is false|\n",
      "|  1.0112322458862237|    x|false|   It is false|\n",
      "|  0.9416459862960309|    x|false|   It is false|\n",
      "| -0.7699411266400571|    z|false|   It is false|\n",
      "| -1.1303179237441572|    x|false|   It is false|\n",
      "|  0.9254890406588132|    x|false|   It is false|\n",
      "|  1.2732503628768688|    y| true|    It is true|\n",
      "|-0.04059007575872...|    x| true|    It is true|\n",
      "|  0.9105807193557125|    y| true|    It is true|\n",
      "| -1.6774958544832872|    z| true|    It is true|\n",
      "| -0.5484703109458559|    y|false|   It is false|\n",
      "| -0.9795224677574916|    z|false|   It is false|\n",
      "+--------------------+-----+-----+--------------+\n",
      "\n"
     ]
    }
   ],
   "source": [
    "df.select('*', when(df.abool == \"true\", 'It is true').otherwise('It is false').alias('True vs. False')).show()"
   ]
  },
  {
   "cell_type": "markdown",
   "id": "44b05788",
   "metadata": {},
   "source": [
    "### Create a column that contains 0 if n is less than 0, otherwise, the original n value."
   ]
  },
  {
   "cell_type": "code",
   "execution_count": 140,
   "id": "038b7c5a",
   "metadata": {},
   "outputs": [
    {
     "name": "stdout",
     "output_type": "stream",
     "text": [
      "+--------------------+-----+-----+------------------+\n",
      "|                   n|group|abool|      No negatives|\n",
      "+--------------------+-----+-----+------------------+\n",
      "|  1.2636494824990419|    z| true|1.2636494824990419|\n",
      "|  1.5708990002014271|    y|false|1.5708990002014271|\n",
      "| -1.2615486912059428|    x|false|               0.0|\n",
      "|-0.07508917570719996|    y| true|               0.0|\n",
      "|  0.8501070283110412|    z|false|0.8501070283110412|\n",
      "| -0.9150316963547941|    x| true|               0.0|\n",
      "| -0.8673479540502249|    y| true|               0.0|\n",
      "|  0.7731666960765334|    z|false|0.7731666960765334|\n",
      "| -0.7749046025022026|    y|false|               0.0|\n",
      "|  1.0112322458862237|    x|false|1.0112322458862237|\n",
      "|  0.9416459862960309|    x|false|0.9416459862960309|\n",
      "| -0.7699411266400571|    z|false|               0.0|\n",
      "| -1.1303179237441572|    x|false|               0.0|\n",
      "|  0.9254890406588132|    x|false|0.9254890406588132|\n",
      "|  1.2732503628768688|    y| true|1.2732503628768688|\n",
      "|-0.04059007575872...|    x| true|               0.0|\n",
      "|  0.9105807193557125|    y| true|0.9105807193557125|\n",
      "| -1.6774958544832872|    z| true|               0.0|\n",
      "| -0.5484703109458559|    y|false|               0.0|\n",
      "| -0.9795224677574916|    z|false|               0.0|\n",
      "+--------------------+-----+-----+------------------+\n",
      "\n"
     ]
    }
   ],
   "source": [
    "df.select('*', when(df.n > 0, df.n).otherwise(0).alias('No negatives')).show()"
   ]
  },
  {
   "cell_type": "markdown",
   "id": "2fd2ddac",
   "metadata": {},
   "source": [
    "## 6. Filter / Where"
   ]
  },
  {
   "cell_type": "code",
   "execution_count": 147,
   "id": "ee062cc9",
   "metadata": {},
   "outputs": [],
   "source": [
    "from pyspark.sql.functions import filter"
   ]
  },
  {
   "cell_type": "markdown",
   "id": "1c7b9195",
   "metadata": {},
   "source": [
    "### Use the starter code above to re-create a spark dataframe."
   ]
  },
  {
   "cell_type": "code",
   "execution_count": 141,
   "id": "1a067c1b",
   "metadata": {},
   "outputs": [],
   "source": [
    "df = spark.createDataFrame(pd.DataFrame({\n",
    "    \"n\": np.random.randn(20),\n",
    "    \"group\": np.random.choice(list(\"xyz\"), 20),\n",
    "    \"abool\": np.random.choice([True, False], 20),\n",
    "}))"
   ]
  },
  {
   "cell_type": "markdown",
   "id": "8fa0f646",
   "metadata": {},
   "source": [
    "### Use .filter or .where to select just the rows where the group is y and view the results."
   ]
  },
  {
   "cell_type": "code",
   "execution_count": 150,
   "id": "a6702eb9",
   "metadata": {},
   "outputs": [
    {
     "name": "stdout",
     "output_type": "stream",
     "text": [
      "+--------------------+-----+-----+\n",
      "|                   n|group|abool|\n",
      "+--------------------+-----+-----+\n",
      "| -1.6642564360602479|    y|false|\n",
      "| -0.1217464334245328|    y|false|\n",
      "| 0.01997092245414585|    y| true|\n",
      "|0.041447402165011596|    y| true|\n",
      "| -1.0669628403806435|    y|false|\n",
      "| -0.3848490502028002|    y|false|\n",
      "+--------------------+-----+-----+\n",
      "\n"
     ]
    }
   ],
   "source": [
    "df.where(df.group == 'y').show()"
   ]
  },
  {
   "cell_type": "code",
   "execution_count": 151,
   "id": "97f9459a",
   "metadata": {},
   "outputs": [
    {
     "name": "stdout",
     "output_type": "stream",
     "text": [
      "+--------------------+-----+-----+\n",
      "|                   n|group|abool|\n",
      "+--------------------+-----+-----+\n",
      "| -1.6642564360602479|    y|false|\n",
      "| -0.1217464334245328|    y|false|\n",
      "| 0.01997092245414585|    y| true|\n",
      "|0.041447402165011596|    y| true|\n",
      "| -1.0669628403806435|    y|false|\n",
      "| -0.3848490502028002|    y|false|\n",
      "+--------------------+-----+-----+\n",
      "\n"
     ]
    }
   ],
   "source": [
    "df.filter(df.group == 'y').show()"
   ]
  },
  {
   "cell_type": "markdown",
   "id": "90c9c7d2",
   "metadata": {},
   "source": [
    "### Select just the columns where the abool column is false and view the results."
   ]
  },
  {
   "cell_type": "code",
   "execution_count": 153,
   "id": "35dd93f7",
   "metadata": {},
   "outputs": [
    {
     "name": "stdout",
     "output_type": "stream",
     "text": [
      "+-------------------+-----+-----+\n",
      "|                  n|group|abool|\n",
      "+-------------------+-----+-----+\n",
      "| 0.2572490050399525|    z|false|\n",
      "|-1.6642564360602479|    y|false|\n",
      "|-0.1217464334245328|    y|false|\n",
      "| 0.9552466924396553|    x|false|\n",
      "|-1.0669628403806435|    y|false|\n",
      "|-1.4141544662915098|    z|false|\n",
      "|0.12673002941390707|    x|false|\n",
      "|-0.3848490502028002|    y|false|\n",
      "+-------------------+-----+-----+\n",
      "\n"
     ]
    }
   ],
   "source": [
    "df.where(df.abool == \"false\").show()"
   ]
  },
  {
   "cell_type": "markdown",
   "id": "5e0b1918",
   "metadata": {},
   "source": [
    "### Find the columns where the group column is not y."
   ]
  },
  {
   "cell_type": "code",
   "execution_count": 154,
   "id": "ed9ed424",
   "metadata": {},
   "outputs": [
    {
     "name": "stdout",
     "output_type": "stream",
     "text": [
      "+--------------------+-----+-----+\n",
      "|                   n|group|abool|\n",
      "+--------------------+-----+-----+\n",
      "|  1.2690580976875576|    x| true|\n",
      "|  0.2572490050399525|    z|false|\n",
      "|-0.44151223119024857|    x| true|\n",
      "|  0.9552466924396553|    x|false|\n",
      "|  0.8628168935353443|    z| true|\n",
      "|  0.7435452461317569|    z| true|\n",
      "| -0.6625811650314397|    x| true|\n",
      "| -0.3051810275934747|    z| true|\n",
      "|  3.4011057189806557|    z| true|\n",
      "|  0.5253295997343811|    z| true|\n",
      "| -1.2768778466596493|    x| true|\n",
      "| -1.4141544662915098|    z|false|\n",
      "| 0.12673002941390707|    x|false|\n",
      "| -1.5509569211976624|    x| true|\n",
      "+--------------------+-----+-----+\n",
      "\n"
     ]
    }
   ],
   "source": [
    "df.where(df.group != \"y\").show()"
   ]
  },
  {
   "cell_type": "markdown",
   "id": "149e512b",
   "metadata": {},
   "source": [
    "### Find the columns where n is positive."
   ]
  },
  {
   "cell_type": "code",
   "execution_count": 156,
   "id": "70e3b1e1",
   "metadata": {},
   "outputs": [
    {
     "name": "stdout",
     "output_type": "stream",
     "text": [
      "+--------------------+-----+-----+\n",
      "|                   n|group|abool|\n",
      "+--------------------+-----+-----+\n",
      "|  1.2690580976875576|    x| true|\n",
      "|  0.2572490050399525|    z|false|\n",
      "|  0.9552466924396553|    x|false|\n",
      "| 0.01997092245414585|    y| true|\n",
      "|  0.8628168935353443|    z| true|\n",
      "|  0.7435452461317569|    z| true|\n",
      "|0.041447402165011596|    y| true|\n",
      "|  3.4011057189806557|    z| true|\n",
      "|  0.5253295997343811|    z| true|\n",
      "| 0.12673002941390707|    x|false|\n",
      "+--------------------+-----+-----+\n",
      "\n"
     ]
    }
   ],
   "source": [
    "df.where(df.n > 0).show()"
   ]
  },
  {
   "cell_type": "markdown",
   "id": "cbab0846",
   "metadata": {},
   "source": [
    "### Find the columns where abool is true and the group column is z."
   ]
  },
  {
   "cell_type": "code",
   "execution_count": 161,
   "id": "0fd76d84",
   "metadata": {},
   "outputs": [
    {
     "name": "stdout",
     "output_type": "stream",
     "text": [
      "+-------------------+-----+-----+\n",
      "|                  n|group|abool|\n",
      "+-------------------+-----+-----+\n",
      "| 0.8628168935353443|    z| true|\n",
      "| 0.7435452461317569|    z| true|\n",
      "|-0.3051810275934747|    z| true|\n",
      "| 3.4011057189806557|    z| true|\n",
      "| 0.5253295997343811|    z| true|\n",
      "+-------------------+-----+-----+\n",
      "\n"
     ]
    }
   ],
   "source": [
    "df.where((df.abool == \"true\") & (df.group == \"z\")).show()"
   ]
  },
  {
   "cell_type": "markdown",
   "id": "cae8568b",
   "metadata": {},
   "source": [
    "### Find the columns where abool is true or the group column is z."
   ]
  },
  {
   "cell_type": "code",
   "execution_count": 162,
   "id": "be17dd70",
   "metadata": {},
   "outputs": [
    {
     "name": "stdout",
     "output_type": "stream",
     "text": [
      "+--------------------+-----+-----+\n",
      "|                   n|group|abool|\n",
      "+--------------------+-----+-----+\n",
      "|  1.2690580976875576|    x| true|\n",
      "|  0.2572490050399525|    z|false|\n",
      "|-0.44151223119024857|    x| true|\n",
      "| 0.01997092245414585|    y| true|\n",
      "|  0.8628168935353443|    z| true|\n",
      "|  0.7435452461317569|    z| true|\n",
      "| -0.6625811650314397|    x| true|\n",
      "| -0.3051810275934747|    z| true|\n",
      "|0.041447402165011596|    y| true|\n",
      "|  3.4011057189806557|    z| true|\n",
      "|  0.5253295997343811|    z| true|\n",
      "| -1.2768778466596493|    x| true|\n",
      "| -1.4141544662915098|    z|false|\n",
      "| -1.5509569211976624|    x| true|\n",
      "+--------------------+-----+-----+\n",
      "\n"
     ]
    }
   ],
   "source": [
    "df.where((df.abool == \"true\") | (df.group == \"z\")).show()"
   ]
  },
  {
   "cell_type": "markdown",
   "id": "3740d627",
   "metadata": {},
   "source": [
    "### Find the columns where abool is false and n is less than 1"
   ]
  },
  {
   "cell_type": "code",
   "execution_count": 163,
   "id": "1091d6c0",
   "metadata": {},
   "outputs": [
    {
     "name": "stdout",
     "output_type": "stream",
     "text": [
      "+-------------------+-----+-----+\n",
      "|                  n|group|abool|\n",
      "+-------------------+-----+-----+\n",
      "| 0.2572490050399525|    z|false|\n",
      "|-1.6642564360602479|    y|false|\n",
      "|-0.1217464334245328|    y|false|\n",
      "| 0.9552466924396553|    x|false|\n",
      "|-1.0669628403806435|    y|false|\n",
      "|-1.4141544662915098|    z|false|\n",
      "|0.12673002941390707|    x|false|\n",
      "|-0.3848490502028002|    y|false|\n",
      "+-------------------+-----+-----+\n",
      "\n"
     ]
    }
   ],
   "source": [
    "df.where((df.abool == \"false\") & (df.n < 1)).show()"
   ]
  },
  {
   "cell_type": "markdown",
   "id": "ac3a0896",
   "metadata": {},
   "source": [
    "### Find the columns where abool is false or n is less than 1"
   ]
  },
  {
   "cell_type": "code",
   "execution_count": 164,
   "id": "3b7b92c4",
   "metadata": {},
   "outputs": [
    {
     "name": "stdout",
     "output_type": "stream",
     "text": [
      "+--------------------+-----+-----+\n",
      "|                   n|group|abool|\n",
      "+--------------------+-----+-----+\n",
      "|  0.2572490050399525|    z|false|\n",
      "| -1.6642564360602479|    y|false|\n",
      "| -0.1217464334245328|    y|false|\n",
      "|-0.44151223119024857|    x| true|\n",
      "|  0.9552466924396553|    x|false|\n",
      "| 0.01997092245414585|    y| true|\n",
      "|  0.8628168935353443|    z| true|\n",
      "|  0.7435452461317569|    z| true|\n",
      "| -0.6625811650314397|    x| true|\n",
      "| -0.3051810275934747|    z| true|\n",
      "|0.041447402165011596|    y| true|\n",
      "| -1.0669628403806435|    y|false|\n",
      "|  0.5253295997343811|    z| true|\n",
      "| -1.2768778466596493|    x| true|\n",
      "| -1.4141544662915098|    z|false|\n",
      "| 0.12673002941390707|    x|false|\n",
      "| -0.3848490502028002|    y|false|\n",
      "| -1.5509569211976624|    x| true|\n",
      "+--------------------+-----+-----+\n",
      "\n"
     ]
    }
   ],
   "source": [
    "df.where((df.abool == \"false\") | (df.n < 1)).show()"
   ]
  },
  {
   "cell_type": "markdown",
   "id": "45477f33",
   "metadata": {},
   "source": [
    "## 7. Sorting"
   ]
  },
  {
   "cell_type": "markdown",
   "id": "b60dd422",
   "metadata": {},
   "source": [
    "### Use the starter code above to re-create a spark dataframe."
   ]
  },
  {
   "cell_type": "code",
   "execution_count": 165,
   "id": "8a7918fc",
   "metadata": {},
   "outputs": [],
   "source": [
    "df = spark.createDataFrame(pd.DataFrame({\n",
    "    \"n\": np.random.randn(20),\n",
    "    \"group\": np.random.choice(list(\"xyz\"), 20),\n",
    "    \"abool\": np.random.choice([True, False], 20),\n",
    "}))"
   ]
  },
  {
   "cell_type": "markdown",
   "id": "88089de1",
   "metadata": {},
   "source": [
    "### Sort by the n value."
   ]
  },
  {
   "cell_type": "code",
   "execution_count": 168,
   "id": "2eed406d",
   "metadata": {},
   "outputs": [
    {
     "name": "stdout",
     "output_type": "stream",
     "text": [
      "+--------------------+-----+-----+\n",
      "|                   n|group|abool|\n",
      "+--------------------+-----+-----+\n",
      "| -1.9323560015091858|    z| true|\n",
      "| -1.5232135953524801|    z|false|\n",
      "| -1.4634777566193453|    x|false|\n",
      "|   -1.41124263188717|    z| true|\n",
      "|  -1.257253734973249|    y| true|\n",
      "| -1.0790126956031663|    z|false|\n",
      "| -0.7320583853311774|    z| true|\n",
      "| -0.5334945027167617|    x|false|\n",
      "| -0.5136792046662925|    y|false|\n",
      "|-0.22467908543381457|    z|false|\n",
      "|-0.17830606215500272|    y|false|\n",
      "|-0.15579970816999872|    y| true|\n",
      "|-0.10321862725194576|    z| true|\n",
      "|-0.01842180913757...|    y| true|\n",
      "| 0.10767464455391365|    z| true|\n",
      "|  0.5751509658063075|    x| true|\n",
      "|  0.6558615323233493|    z| true|\n",
      "|  0.9399792195744116|    x| true|\n",
      "|  0.9506069961060607|    x|false|\n",
      "|  1.2047437309657716|    z|false|\n",
      "+--------------------+-----+-----+\n",
      "\n"
     ]
    }
   ],
   "source": [
    "df.sort('n').show()"
   ]
  },
  {
   "cell_type": "markdown",
   "id": "8d0cdf2f",
   "metadata": {},
   "source": [
    "### Sort by the group value, both ascending and descending.\n",
    "\n"
   ]
  },
  {
   "cell_type": "code",
   "execution_count": 170,
   "id": "af25a176",
   "metadata": {},
   "outputs": [
    {
     "name": "stdout",
     "output_type": "stream",
     "text": [
      "+--------------------+-----+-----+\n",
      "|                   n|group|abool|\n",
      "+--------------------+-----+-----+\n",
      "|  0.9506069961060607|    x|false|\n",
      "|  0.5751509658063075|    x| true|\n",
      "|  0.9399792195744116|    x| true|\n",
      "| -1.4634777566193453|    x|false|\n",
      "| -0.5334945027167617|    x|false|\n",
      "|-0.17830606215500272|    y|false|\n",
      "|  -1.257253734973249|    y| true|\n",
      "|-0.15579970816999872|    y| true|\n",
      "|-0.01842180913757...|    y| true|\n",
      "| -0.5136792046662925|    y|false|\n",
      "| -1.9323560015091858|    z| true|\n",
      "|  1.2047437309657716|    z|false|\n",
      "|   -1.41124263188717|    z| true|\n",
      "| -1.5232135953524801|    z|false|\n",
      "| -0.7320583853311774|    z| true|\n",
      "|-0.10321862725194576|    z| true|\n",
      "|  0.6558615323233493|    z| true|\n",
      "| -1.0790126956031663|    z|false|\n",
      "| 0.10767464455391365|    z| true|\n",
      "|-0.22467908543381457|    z|false|\n",
      "+--------------------+-----+-----+\n",
      "\n"
     ]
    }
   ],
   "source": [
    "df.orderBy(asc('group')).show()"
   ]
  },
  {
   "cell_type": "code",
   "execution_count": 171,
   "id": "42481676",
   "metadata": {},
   "outputs": [
    {
     "name": "stdout",
     "output_type": "stream",
     "text": [
      "+--------------------+-----+-----+\n",
      "|                   n|group|abool|\n",
      "+--------------------+-----+-----+\n",
      "| -1.0790126956031663|    z|false|\n",
      "|  1.2047437309657716|    z|false|\n",
      "|-0.10321862725194576|    z| true|\n",
      "| 0.10767464455391365|    z| true|\n",
      "| -1.5232135953524801|    z|false|\n",
      "| -0.7320583853311774|    z| true|\n",
      "| -1.9323560015091858|    z| true|\n",
      "|   -1.41124263188717|    z| true|\n",
      "|  0.6558615323233493|    z| true|\n",
      "|-0.22467908543381457|    z|false|\n",
      "|-0.15579970816999872|    y| true|\n",
      "| -0.5136792046662925|    y|false|\n",
      "|-0.17830606215500272|    y|false|\n",
      "|  -1.257253734973249|    y| true|\n",
      "|-0.01842180913757...|    y| true|\n",
      "|  0.9399792195744116|    x| true|\n",
      "|  0.9506069961060607|    x|false|\n",
      "| -1.4634777566193453|    x|false|\n",
      "|  0.5751509658063075|    x| true|\n",
      "| -0.5334945027167617|    x|false|\n",
      "+--------------------+-----+-----+\n",
      "\n"
     ]
    }
   ],
   "source": [
    "df.orderBy(desc('group')).show()"
   ]
  },
  {
   "cell_type": "markdown",
   "id": "b6d1a58e",
   "metadata": {},
   "source": [
    "### Sort by the group value first, then, within each group, sort by n value."
   ]
  },
  {
   "cell_type": "code",
   "execution_count": 173,
   "id": "1e6c276f",
   "metadata": {},
   "outputs": [
    {
     "name": "stdout",
     "output_type": "stream",
     "text": [
      "+--------------------+-----+-----+\n",
      "|                   n|group|abool|\n",
      "+--------------------+-----+-----+\n",
      "| -1.4634777566193453|    x|false|\n",
      "| -0.5334945027167617|    x|false|\n",
      "|  0.5751509658063075|    x| true|\n",
      "|  0.9399792195744116|    x| true|\n",
      "|  0.9506069961060607|    x|false|\n",
      "|  -1.257253734973249|    y| true|\n",
      "| -0.5136792046662925|    y|false|\n",
      "|-0.17830606215500272|    y|false|\n",
      "|-0.15579970816999872|    y| true|\n",
      "|-0.01842180913757...|    y| true|\n",
      "| -1.9323560015091858|    z| true|\n",
      "| -1.5232135953524801|    z|false|\n",
      "|   -1.41124263188717|    z| true|\n",
      "| -1.0790126956031663|    z|false|\n",
      "| -0.7320583853311774|    z| true|\n",
      "|-0.22467908543381457|    z|false|\n",
      "|-0.10321862725194576|    z| true|\n",
      "| 0.10767464455391365|    z| true|\n",
      "|  0.6558615323233493|    z| true|\n",
      "|  1.2047437309657716|    z|false|\n",
      "+--------------------+-----+-----+\n",
      "\n"
     ]
    }
   ],
   "source": [
    "df.sort('group', 'n').show()"
   ]
  },
  {
   "cell_type": "markdown",
   "id": "18e3b453",
   "metadata": {},
   "source": [
    "### Sort by abool, group, and n. Does it matter in what order you specify the columns when sorting?"
   ]
  },
  {
   "cell_type": "code",
   "execution_count": 174,
   "id": "a090210c",
   "metadata": {},
   "outputs": [
    {
     "name": "stdout",
     "output_type": "stream",
     "text": [
      "+--------------------+-----+-----+\n",
      "|                   n|group|abool|\n",
      "+--------------------+-----+-----+\n",
      "| -1.4634777566193453|    x|false|\n",
      "| -0.5334945027167617|    x|false|\n",
      "|  0.9506069961060607|    x|false|\n",
      "| -0.5136792046662925|    y|false|\n",
      "|-0.17830606215500272|    y|false|\n",
      "| -1.5232135953524801|    z|false|\n",
      "| -1.0790126956031663|    z|false|\n",
      "|-0.22467908543381457|    z|false|\n",
      "|  1.2047437309657716|    z|false|\n",
      "|  0.5751509658063075|    x| true|\n",
      "|  0.9399792195744116|    x| true|\n",
      "|  -1.257253734973249|    y| true|\n",
      "|-0.15579970816999872|    y| true|\n",
      "|-0.01842180913757...|    y| true|\n",
      "| -1.9323560015091858|    z| true|\n",
      "|   -1.41124263188717|    z| true|\n",
      "| -0.7320583853311774|    z| true|\n",
      "|-0.10321862725194576|    z| true|\n",
      "| 0.10767464455391365|    z| true|\n",
      "|  0.6558615323233493|    z| true|\n",
      "+--------------------+-----+-----+\n",
      "\n"
     ]
    }
   ],
   "source": [
    "df.sort('abool', 'group', 'n').show()"
   ]
  },
  {
   "cell_type": "code",
   "execution_count": 175,
   "id": "e69a1fa8",
   "metadata": {},
   "outputs": [
    {
     "name": "stdout",
     "output_type": "stream",
     "text": [
      "+--------------------+-----+-----+\n",
      "|                   n|group|abool|\n",
      "+--------------------+-----+-----+\n",
      "| -1.4634777566193453|    x|false|\n",
      "| -0.5334945027167617|    x|false|\n",
      "|  0.5751509658063075|    x| true|\n",
      "|  0.9399792195744116|    x| true|\n",
      "|  0.9506069961060607|    x|false|\n",
      "|  -1.257253734973249|    y| true|\n",
      "| -0.5136792046662925|    y|false|\n",
      "|-0.17830606215500272|    y|false|\n",
      "|-0.15579970816999872|    y| true|\n",
      "|-0.01842180913757...|    y| true|\n",
      "| -1.9323560015091858|    z| true|\n",
      "| -1.5232135953524801|    z|false|\n",
      "|   -1.41124263188717|    z| true|\n",
      "| -1.0790126956031663|    z|false|\n",
      "| -0.7320583853311774|    z| true|\n",
      "|-0.22467908543381457|    z|false|\n",
      "|-0.10321862725194576|    z| true|\n",
      "| 0.10767464455391365|    z| true|\n",
      "|  0.6558615323233493|    z| true|\n",
      "|  1.2047437309657716|    z|false|\n",
      "+--------------------+-----+-----+\n",
      "\n"
     ]
    }
   ],
   "source": [
    "df.sort('group', 'n', 'abool').show()"
   ]
  },
  {
   "cell_type": "code",
   "execution_count": 176,
   "id": "2e6a64f0",
   "metadata": {},
   "outputs": [
    {
     "name": "stdout",
     "output_type": "stream",
     "text": [
      "+--------------------+-----+-----+\n",
      "|                   n|group|abool|\n",
      "+--------------------+-----+-----+\n",
      "| -1.4634777566193453|    x|false|\n",
      "| -0.5334945027167617|    x|false|\n",
      "|  0.9506069961060607|    x|false|\n",
      "|  0.5751509658063075|    x| true|\n",
      "|  0.9399792195744116|    x| true|\n",
      "| -0.5136792046662925|    y|false|\n",
      "|-0.17830606215500272|    y|false|\n",
      "|  -1.257253734973249|    y| true|\n",
      "|-0.15579970816999872|    y| true|\n",
      "|-0.01842180913757...|    y| true|\n",
      "| -1.5232135953524801|    z|false|\n",
      "| -1.0790126956031663|    z|false|\n",
      "|-0.22467908543381457|    z|false|\n",
      "|  1.2047437309657716|    z|false|\n",
      "| -1.9323560015091858|    z| true|\n",
      "|   -1.41124263188717|    z| true|\n",
      "| -0.7320583853311774|    z| true|\n",
      "|-0.10321862725194576|    z| true|\n",
      "| 0.10767464455391365|    z| true|\n",
      "|  0.6558615323233493|    z| true|\n",
      "+--------------------+-----+-----+\n",
      "\n"
     ]
    }
   ],
   "source": [
    "df.sort('group', 'abool', 'n').show()"
   ]
  },
  {
   "cell_type": "code",
   "execution_count": 177,
   "id": "75587ce5",
   "metadata": {},
   "outputs": [
    {
     "name": "stdout",
     "output_type": "stream",
     "text": [
      "+--------------------+-----+-----+\n",
      "|                   n|group|abool|\n",
      "+--------------------+-----+-----+\n",
      "| -1.5232135953524801|    z|false|\n",
      "| -1.4634777566193453|    x|false|\n",
      "| -1.0790126956031663|    z|false|\n",
      "| -0.5334945027167617|    x|false|\n",
      "| -0.5136792046662925|    y|false|\n",
      "|-0.22467908543381457|    z|false|\n",
      "|-0.17830606215500272|    y|false|\n",
      "|  0.9506069961060607|    x|false|\n",
      "|  1.2047437309657716|    z|false|\n",
      "| -1.9323560015091858|    z| true|\n",
      "|   -1.41124263188717|    z| true|\n",
      "|  -1.257253734973249|    y| true|\n",
      "| -0.7320583853311774|    z| true|\n",
      "|-0.15579970816999872|    y| true|\n",
      "|-0.10321862725194576|    z| true|\n",
      "|-0.01842180913757...|    y| true|\n",
      "| 0.10767464455391365|    z| true|\n",
      "|  0.5751509658063075|    x| true|\n",
      "|  0.6558615323233493|    z| true|\n",
      "|  0.9399792195744116|    x| true|\n",
      "+--------------------+-----+-----+\n",
      "\n"
     ]
    }
   ],
   "source": [
    "df.sort('abool', 'n', 'group').show()"
   ]
  },
  {
   "cell_type": "markdown",
   "id": "089b96f4",
   "metadata": {},
   "source": [
    "Yes the order we specify columns makes a difference in the sorting. "
   ]
  },
  {
   "cell_type": "markdown",
   "id": "eff0a2cd",
   "metadata": {},
   "source": [
    "## 8. Spark SQL"
   ]
  },
  {
   "cell_type": "markdown",
   "id": "09d51c35",
   "metadata": {},
   "source": [
    "### Use the starter code above to re-create a spark dataframe."
   ]
  },
  {
   "cell_type": "code",
   "execution_count": 191,
   "id": "3fb1e8f5",
   "metadata": {},
   "outputs": [],
   "source": [
    "df = spark.createDataFrame(pd.DataFrame({\n",
    "    \"n\": np.random.randn(20),\n",
    "    \"group\": np.random.choice(list(\"xyz\"), 20),\n",
    "    \"abool\": np.random.choice([True, False], 20),\n",
    "}))"
   ]
  },
  {
   "cell_type": "markdown",
   "id": "9956e5c3",
   "metadata": {},
   "source": [
    "### Turn your dataframe into a table that can be queried with spark SQL. Name the table my_df. Answer the rest of the questions in this section with a spark sql query (spark.sql) against my_df. After each step, view the first 7 records from the dataframe."
   ]
  },
  {
   "cell_type": "code",
   "execution_count": 196,
   "id": "53a22142",
   "metadata": {},
   "outputs": [],
   "source": [
    "df.createOrReplaceTempView(\"my_df\")"
   ]
  },
  {
   "cell_type": "markdown",
   "id": "13683fbd",
   "metadata": {},
   "source": [
    "### Write a query that shows all of the columns from your dataframe."
   ]
  },
  {
   "cell_type": "code",
   "execution_count": 199,
   "id": "a7174b34",
   "metadata": {},
   "outputs": [
    {
     "name": "stdout",
     "output_type": "stream",
     "text": [
      "+--------------------+-----+-----+\n",
      "|                   n|group|abool|\n",
      "+--------------------+-----+-----+\n",
      "|  1.4686310220144754|    y|false|\n",
      "|  -1.046785188546139|    x| true|\n",
      "|  0.9366074560857586|    x|false|\n",
      "| -1.9945534953906834|    x|false|\n",
      "|  -0.770096628647285|    x| true|\n",
      "|-0.20608861024238959|    x|false|\n",
      "| -0.4925907278741742|    x| true|\n",
      "+--------------------+-----+-----+\n",
      "only showing top 7 rows\n",
      "\n"
     ]
    }
   ],
   "source": [
    "spark.sql(\n",
    "    \"\"\"\n",
    "SELECT *\n",
    "FROM my_df\n",
    "\"\"\"\n",
    ").show(7)"
   ]
  },
  {
   "cell_type": "markdown",
   "id": "d08df710",
   "metadata": {},
   "source": [
    "### Write a query that shows just the n and abool columns from the dataframe."
   ]
  },
  {
   "cell_type": "code",
   "execution_count": 200,
   "id": "a89d0ec9",
   "metadata": {},
   "outputs": [
    {
     "name": "stdout",
     "output_type": "stream",
     "text": [
      "+--------------------+-----+\n",
      "|                   n|abool|\n",
      "+--------------------+-----+\n",
      "|  1.4686310220144754|false|\n",
      "|  -1.046785188546139| true|\n",
      "|  0.9366074560857586|false|\n",
      "| -1.9945534953906834|false|\n",
      "|  -0.770096628647285| true|\n",
      "|-0.20608861024238959|false|\n",
      "| -0.4925907278741742| true|\n",
      "+--------------------+-----+\n",
      "only showing top 7 rows\n",
      "\n"
     ]
    }
   ],
   "source": [
    "spark.sql(\n",
    "    \"\"\"\n",
    "SELECT n, abool\n",
    "FROM my_df\n",
    "\"\"\"\n",
    ").show(7)"
   ]
  },
  {
   "cell_type": "markdown",
   "id": "fc8053af",
   "metadata": {},
   "source": [
    "### Write a query that shows just the n and group columns. Rename the group column to g."
   ]
  },
  {
   "cell_type": "code",
   "execution_count": 201,
   "id": "726723b1",
   "metadata": {},
   "outputs": [
    {
     "name": "stdout",
     "output_type": "stream",
     "text": [
      "+--------------------+---+\n",
      "|                   n|  g|\n",
      "+--------------------+---+\n",
      "|  1.4686310220144754|  y|\n",
      "|  -1.046785188546139|  x|\n",
      "|  0.9366074560857586|  x|\n",
      "| -1.9945534953906834|  x|\n",
      "|  -0.770096628647285|  x|\n",
      "|-0.20608861024238959|  x|\n",
      "| -0.4925907278741742|  x|\n",
      "+--------------------+---+\n",
      "only showing top 7 rows\n",
      "\n"
     ]
    }
   ],
   "source": [
    "spark.sql(\n",
    "    \"\"\"\n",
    "SELECT n, group AS g\n",
    "FROM my_df\n",
    "\"\"\"\n",
    ").show(7)"
   ]
  },
  {
   "cell_type": "markdown",
   "id": "3512e230",
   "metadata": {},
   "source": [
    "### Write a query that selects n, and creates two new columns: n2, the original n values halved, and n3: the original n values minus 1."
   ]
  },
  {
   "cell_type": "code",
   "execution_count": 202,
   "id": "c5063192",
   "metadata": {},
   "outputs": [
    {
     "name": "stdout",
     "output_type": "stream",
     "text": [
      "+--------------------+--------------------+--------------------+\n",
      "|                   n|                  n2|                  n3|\n",
      "+--------------------+--------------------+--------------------+\n",
      "|  1.4686310220144754|  0.7343155110072377|  0.4686310220144754|\n",
      "|  -1.046785188546139| -0.5233925942730695|  -2.046785188546139|\n",
      "|  0.9366074560857586|  0.4683037280428793|-0.06339254391424143|\n",
      "| -1.9945534953906834| -0.9972767476953417| -2.9945534953906834|\n",
      "|  -0.770096628647285| -0.3850483143236425|  -1.770096628647285|\n",
      "|-0.20608861024238959|-0.10304430512119479| -1.2060886102423896|\n",
      "| -0.4925907278741742| -0.2462953639370871| -1.4925907278741741|\n",
      "+--------------------+--------------------+--------------------+\n",
      "only showing top 7 rows\n",
      "\n"
     ]
    }
   ],
   "source": [
    "spark.sql(\n",
    "    \"\"\"\n",
    "SELECT n, (n/2) AS n2, (n - 1) AS n3\n",
    "FROM my_df\n",
    "\"\"\"\n",
    ").show(7)"
   ]
  },
  {
   "cell_type": "markdown",
   "id": "d5ec82dd",
   "metadata": {},
   "source": [
    "### What happens if you make a SQL syntax error in your query?"
   ]
  },
  {
   "cell_type": "code",
   "execution_count": 203,
   "id": "7e9c8f43",
   "metadata": {},
   "outputs": [
    {
     "ename": "AnalysisException",
     "evalue": "Undefined function: 'n'. This function is neither a registered temporary function nor a permanent function registered in the database 'default'.; line 2 pos 7",
     "output_type": "error",
     "traceback": [
      "\u001b[0;31m---------------------------------------------------------------------------\u001b[0m",
      "\u001b[0;31mAnalysisException\u001b[0m                         Traceback (most recent call last)",
      "\u001b[0;32m<ipython-input-203-7e35f24a36a0>\u001b[0m in \u001b[0;36m<module>\u001b[0;34m\u001b[0m\n\u001b[0;32m----> 1\u001b[0;31m spark.sql(\n\u001b[0m\u001b[1;32m      2\u001b[0m     \"\"\"\n\u001b[1;32m      3\u001b[0m \u001b[0mSELECT\u001b[0m \u001b[0mn\u001b[0m \u001b[0;34m(\u001b[0m\u001b[0mn\u001b[0m\u001b[0;34m/\u001b[0m\u001b[0;36m2\u001b[0m\u001b[0;34m)\u001b[0m \u001b[0mAS\u001b[0m \u001b[0mn2\u001b[0m\u001b[0;34m,\u001b[0m \u001b[0;34m(\u001b[0m\u001b[0mn\u001b[0m \u001b[0;34m-\u001b[0m \u001b[0;36m1\u001b[0m\u001b[0;34m)\u001b[0m \u001b[0mAS\u001b[0m \u001b[0mn3\u001b[0m\u001b[0;34m\u001b[0m\u001b[0;34m\u001b[0m\u001b[0m\n\u001b[1;32m      4\u001b[0m \u001b[0mFROM\u001b[0m \u001b[0mmy_df\u001b[0m\u001b[0;34m\u001b[0m\u001b[0;34m\u001b[0m\u001b[0m\n\u001b[1;32m      5\u001b[0m \"\"\"\n",
      "\u001b[0;32m~/.local/lib/python3.8/site-packages/pyspark/sql/session.py\u001b[0m in \u001b[0;36msql\u001b[0;34m(self, sqlQuery)\u001b[0m\n\u001b[1;32m    721\u001b[0m         \u001b[0;34m[\u001b[0m\u001b[0mRow\u001b[0m\u001b[0;34m(\u001b[0m\u001b[0mf1\u001b[0m\u001b[0;34m=\u001b[0m\u001b[0;36m1\u001b[0m\u001b[0;34m,\u001b[0m \u001b[0mf2\u001b[0m\u001b[0;34m=\u001b[0m\u001b[0;34m'row1'\u001b[0m\u001b[0;34m)\u001b[0m\u001b[0;34m,\u001b[0m \u001b[0mRow\u001b[0m\u001b[0;34m(\u001b[0m\u001b[0mf1\u001b[0m\u001b[0;34m=\u001b[0m\u001b[0;36m2\u001b[0m\u001b[0;34m,\u001b[0m \u001b[0mf2\u001b[0m\u001b[0;34m=\u001b[0m\u001b[0;34m'row2'\u001b[0m\u001b[0;34m)\u001b[0m\u001b[0;34m,\u001b[0m \u001b[0mRow\u001b[0m\u001b[0;34m(\u001b[0m\u001b[0mf1\u001b[0m\u001b[0;34m=\u001b[0m\u001b[0;36m3\u001b[0m\u001b[0;34m,\u001b[0m \u001b[0mf2\u001b[0m\u001b[0;34m=\u001b[0m\u001b[0;34m'row3'\u001b[0m\u001b[0;34m)\u001b[0m\u001b[0;34m]\u001b[0m\u001b[0;34m\u001b[0m\u001b[0;34m\u001b[0m\u001b[0m\n\u001b[1;32m    722\u001b[0m         \"\"\"\n\u001b[0;32m--> 723\u001b[0;31m         \u001b[0;32mreturn\u001b[0m \u001b[0mDataFrame\u001b[0m\u001b[0;34m(\u001b[0m\u001b[0mself\u001b[0m\u001b[0;34m.\u001b[0m\u001b[0m_jsparkSession\u001b[0m\u001b[0;34m.\u001b[0m\u001b[0msql\u001b[0m\u001b[0;34m(\u001b[0m\u001b[0msqlQuery\u001b[0m\u001b[0;34m)\u001b[0m\u001b[0;34m,\u001b[0m \u001b[0mself\u001b[0m\u001b[0;34m.\u001b[0m\u001b[0m_wrapped\u001b[0m\u001b[0;34m)\u001b[0m\u001b[0;34m\u001b[0m\u001b[0;34m\u001b[0m\u001b[0m\n\u001b[0m\u001b[1;32m    724\u001b[0m \u001b[0;34m\u001b[0m\u001b[0m\n\u001b[1;32m    725\u001b[0m     \u001b[0;32mdef\u001b[0m \u001b[0mtable\u001b[0m\u001b[0;34m(\u001b[0m\u001b[0mself\u001b[0m\u001b[0;34m,\u001b[0m \u001b[0mtableName\u001b[0m\u001b[0;34m)\u001b[0m\u001b[0;34m:\u001b[0m\u001b[0;34m\u001b[0m\u001b[0;34m\u001b[0m\u001b[0m\n",
      "\u001b[0;32m~/.local/lib/python3.8/site-packages/py4j/java_gateway.py\u001b[0m in \u001b[0;36m__call__\u001b[0;34m(self, *args)\u001b[0m\n\u001b[1;32m   1307\u001b[0m \u001b[0;34m\u001b[0m\u001b[0m\n\u001b[1;32m   1308\u001b[0m         \u001b[0manswer\u001b[0m \u001b[0;34m=\u001b[0m \u001b[0mself\u001b[0m\u001b[0;34m.\u001b[0m\u001b[0mgateway_client\u001b[0m\u001b[0;34m.\u001b[0m\u001b[0msend_command\u001b[0m\u001b[0;34m(\u001b[0m\u001b[0mcommand\u001b[0m\u001b[0;34m)\u001b[0m\u001b[0;34m\u001b[0m\u001b[0;34m\u001b[0m\u001b[0m\n\u001b[0;32m-> 1309\u001b[0;31m         return_value = get_return_value(\n\u001b[0m\u001b[1;32m   1310\u001b[0m             answer, self.gateway_client, self.target_id, self.name)\n\u001b[1;32m   1311\u001b[0m \u001b[0;34m\u001b[0m\u001b[0m\n",
      "\u001b[0;32m~/.local/lib/python3.8/site-packages/pyspark/sql/utils.py\u001b[0m in \u001b[0;36mdeco\u001b[0;34m(*a, **kw)\u001b[0m\n\u001b[1;32m    115\u001b[0m                 \u001b[0;31m# Hide where the exception came from that shows a non-Pythonic\u001b[0m\u001b[0;34m\u001b[0m\u001b[0;34m\u001b[0m\u001b[0;34m\u001b[0m\u001b[0m\n\u001b[1;32m    116\u001b[0m                 \u001b[0;31m# JVM exception message.\u001b[0m\u001b[0;34m\u001b[0m\u001b[0;34m\u001b[0m\u001b[0;34m\u001b[0m\u001b[0m\n\u001b[0;32m--> 117\u001b[0;31m                 \u001b[0;32mraise\u001b[0m \u001b[0mconverted\u001b[0m \u001b[0;32mfrom\u001b[0m \u001b[0;32mNone\u001b[0m\u001b[0;34m\u001b[0m\u001b[0;34m\u001b[0m\u001b[0m\n\u001b[0m\u001b[1;32m    118\u001b[0m             \u001b[0;32melse\u001b[0m\u001b[0;34m:\u001b[0m\u001b[0;34m\u001b[0m\u001b[0;34m\u001b[0m\u001b[0m\n\u001b[1;32m    119\u001b[0m                 \u001b[0;32mraise\u001b[0m\u001b[0;34m\u001b[0m\u001b[0;34m\u001b[0m\u001b[0m\n",
      "\u001b[0;31mAnalysisException\u001b[0m: Undefined function: 'n'. This function is neither a registered temporary function nor a permanent function registered in the database 'default'.; line 2 pos 7"
     ]
    }
   ],
   "source": [
    "spark.sql(\n",
    "    \"\"\"\n",
    "SELECT n (n/2) AS n2, (n - 1) AS n3\n",
    "FROM my_df\n",
    "\"\"\"\n",
    ").show(7)"
   ]
  },
  {
   "cell_type": "markdown",
   "id": "313049c4",
   "metadata": {},
   "source": [
    "## 9. Aggregating"
   ]
  },
  {
   "cell_type": "markdown",
   "id": "8ed6e118",
   "metadata": {},
   "source": [
    "### What is the average n value for each group in the group column?"
   ]
  },
  {
   "cell_type": "code",
   "execution_count": 207,
   "id": "2a7329ee",
   "metadata": {},
   "outputs": [
    {
     "name": "stdout",
     "output_type": "stream",
     "text": [
      "+-----+-------------------+\n",
      "|group|             avg(n)|\n",
      "+-----+-------------------+\n",
      "|    y|0.42562884014430813|\n",
      "|    x|-0.4649587098028935|\n",
      "|    z|0.00444993239322974|\n",
      "+-----+-------------------+\n",
      "\n"
     ]
    }
   ],
   "source": [
    "df.groupby('group').mean('n').show()"
   ]
  },
  {
   "cell_type": "markdown",
   "id": "cd82bdcd",
   "metadata": {},
   "source": [
    "### What is the maximum n value for each group in the group column?"
   ]
  },
  {
   "cell_type": "code",
   "execution_count": 208,
   "id": "015858c6",
   "metadata": {},
   "outputs": [
    {
     "name": "stdout",
     "output_type": "stream",
     "text": [
      "+-----+------------------+\n",
      "|group|            max(n)|\n",
      "+-----+------------------+\n",
      "|    y|1.4686310220144754|\n",
      "|    x| 1.120789945716334|\n",
      "|    z|0.9292707452628507|\n",
      "+-----+------------------+\n",
      "\n"
     ]
    }
   ],
   "source": [
    "df.groupby('group').max('n').show()"
   ]
  },
  {
   "cell_type": "markdown",
   "id": "0b4577e1",
   "metadata": {},
   "source": [
    "### What is the minimum n value by abool?"
   ]
  },
  {
   "cell_type": "code",
   "execution_count": 209,
   "id": "a5f216ce",
   "metadata": {},
   "outputs": [
    {
     "name": "stdout",
     "output_type": "stream",
     "text": [
      "+-----+-------------------+\n",
      "|abool|             min(n)|\n",
      "+-----+-------------------+\n",
      "|false|-1.9945534953906834|\n",
      "| true|  -2.26038233288238|\n",
      "+-----+-------------------+\n",
      "\n"
     ]
    }
   ],
   "source": [
    "df.groupby('abool').min('n').show()"
   ]
  },
  {
   "cell_type": "markdown",
   "id": "2803e990",
   "metadata": {},
   "source": [
    "### What is the average n value for each unique combination of the group and abool column?"
   ]
  },
  {
   "cell_type": "code",
   "execution_count": 210,
   "id": "a0d0f85a",
   "metadata": {},
   "outputs": [
    {
     "name": "stdout",
     "output_type": "stream",
     "text": [
      "+-----+-----+--------------------+\n",
      "|group|abool|              avg(n)|\n",
      "+-----+-----+--------------------+\n",
      "|    y|false| 0.46301542392624856|\n",
      "|    x|false|-0.18389086399809915|\n",
      "|    x| true| -0.6898129864467288|\n",
      "|    z|false| 0.46535752682864473|\n",
      "|    z| true| -0.6100935268539903|\n",
      "|    y| true|  0.3134690887984868|\n",
      "+-----+-----+--------------------+\n",
      "\n"
     ]
    }
   ],
   "source": [
    "df.groupby('group', 'abool').mean('n').show()"
   ]
  }
 ],
 "metadata": {
  "kernelspec": {
   "display_name": "Python 3",
   "language": "python",
   "name": "python3"
  },
  "language_info": {
   "codemirror_mode": {
    "name": "ipython",
    "version": 3
   },
   "file_extension": ".py",
   "mimetype": "text/x-python",
   "name": "python",
   "nbconvert_exporter": "python",
   "pygments_lexer": "ipython3",
   "version": "3.8.8"
  }
 },
 "nbformat": 4,
 "nbformat_minor": 5
}
