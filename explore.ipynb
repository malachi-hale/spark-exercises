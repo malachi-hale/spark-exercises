{
 "cells": [
  {
   "cell_type": "markdown",
   "id": "ea267ba4",
   "metadata": {},
   "source": [
    "# Exploring Data"
   ]
  },
  {
   "cell_type": "markdown",
   "id": "3a309310",
   "metadata": {},
   "source": [
    "## Imports"
   ]
  },
  {
   "cell_type": "code",
   "execution_count": 2,
   "id": "7db4da91",
   "metadata": {},
   "outputs": [
    {
     "name": "stdout",
     "output_type": "stream",
     "text": [
      "[wrangle.py] reading case.csv\n",
      "[wrangle.py] handling data types\n",
      "[wrangle.py] parsing dates\n",
      "[wrangle.py] adding features\n",
      "[wrangle.py] joining departments\n",
      "\n",
      "df shape: (841704, 20)\n",
      "\n",
      "-RECORD 0------------------------------------\n",
      " case_id              | 1014127332           \n",
      " case_opened_date     | 2018-01-01 00:42:00  \n",
      " case_closed_date     | 2018-01-01 12:29:00  \n",
      " case_due_date        | 2020-09-26 00:42:00  \n",
      " case_late            | false                \n",
      " num_days_late        | -998.5087616000001   \n",
      " case_closed          | true                 \n",
      " service_request_type | Stray Animal         \n",
      " SLA_days             | 999.0                \n",
      " case_status          | Closed               \n",
      " source_id            | svcCRMLS             \n",
      " request_address      | 2315  EL PASO ST,... \n",
      " council_district     | 005                  \n",
      " num_weeks_late       | -142.6441088         \n",
      " zipcode              | 78207                \n",
      " case_age             | 219                  \n",
      " days_to_closed       | 0                    \n",
      " case_lifetime        | 0                    \n",
      " department           | Animal Care Services \n",
      " dept_subject_to_SLA  | true                 \n",
      "only showing top 1 row\n",
      "\n"
     ]
    }
   ],
   "source": [
    "import warnings\n",
    "\n",
    "warnings.filterwarnings(\"ignore\")\n",
    "\n",
    "import pyspark.sql\n",
    "from pyspark.sql.functions import *\n",
    "\n",
    "import numpy as np\n",
    "import pandas as pd\n",
    "\n",
    "%matplotlib inline\n",
    "import matplotlib.pyplot as plt\n",
    "import seaborn as sns\n",
    "\n",
    "from wrangle import wrangle_311\n",
    "\n",
    "spark = pyspark.sql.SparkSession.builder.getOrCreate()\n",
    "\n",
    "df = wrangle_311(spark)\n",
    "print(\"\\ndf shape: (%d, %d)\\n\" % (df.count(), len(df.columns)))\n",
    "df.show(1, vertical=True)"
   ]
  },
  {
   "cell_type": "markdown",
   "id": "b237375d",
   "metadata": {},
   "source": [
    "Answer the questions below by using a combination of the techniques discussed in the lesson that you think is appropriate."
   ]
  },
  {
   "cell_type": "markdown",
   "id": "0f57ba34",
   "metadata": {},
   "source": [
    "## How many different cases are there, by department?"
   ]
  },
  {
   "cell_type": "code",
   "execution_count": 3,
   "id": "8f162488",
   "metadata": {},
   "outputs": [
    {
     "name": "stdout",
     "output_type": "stream",
     "text": [
      "+------------------------+------+\n",
      "|department              |count |\n",
      "+------------------------+------+\n",
      "|DSD/Code Enforcement    |321374|\n",
      "|Solid Waste             |279270|\n",
      "|Animal Care Services    |116915|\n",
      "|Trans & Cap Improvements|96193 |\n",
      "|Parks & Recreation      |19907 |\n",
      "|Metro Health            |5163  |\n",
      "|Customer Service        |2849  |\n",
      "|City Council            |33    |\n",
      "+------------------------+------+\n",
      "\n"
     ]
    }
   ],
   "source": [
    "df.groupby('department').count().sort(desc('count')).show(truncate = False)"
   ]
  },
  {
   "cell_type": "code",
   "execution_count": 7,
   "id": "2db26a67",
   "metadata": {},
   "outputs": [
    {
     "data": {
      "image/png": "[encoded data removed]",
      "text/plain": [
       "<Figure size 1008x360 with 1 Axes>"
      ]
     },
     "metadata": {
      "needs_background": "light"
     },
     "output_type": "display_data"
    }
   ],
   "source": [
    "# First aggregate with spark\n",
    "graph = (\n",
    "    df.groupBy(\"department\")\n",
    "    .count()\n",
    "    # then pass to pandas\n",
    "    .toPandas()\n",
    "    .set_index(\"department\")[\"count\"]\n",
    "    .sort_values(ascending=True)\n",
    "    .plot.barh(width=1, edgecolor=\"black\", figsize=(14, 5))\n",
    ")\n",
    "\n",
    "title = plt.title(\"Number of Cases By Department\")\n",
    "ylabel = plt.ylabel(\"\")\n",
    "xlabel = plt.xlabel(\"Number of Cases\")"
   ]
  },
  {
   "cell_type": "markdown",
   "id": "b2c557db",
   "metadata": {},
   "source": [
    "## Does the percentage of cases that are late vary by department?"
   ]
  },
  {
   "cell_type": "code",
   "execution_count": 112,
   "id": "eb24d061",
   "metadata": {},
   "outputs": [
    {
     "name": "stdout",
     "output_type": "stream",
     "text": [
      "+--------------------+-----+\n",
      "|          department|count|\n",
      "+--------------------+-----+\n",
      "|         Solid Waste|32945|\n",
      "|Animal Care Services|23276|\n",
      "|Trans & Cap Impro...| 5411|\n",
      "|  Parks & Recreation| 3797|\n",
      "|    Customer Service| 2010|\n",
      "|        Metro Health|  829|\n",
      "|DSD/Code Enforcement|26235|\n",
      "+--------------------+-----+\n",
      "\n"
     ]
    }
   ],
   "source": [
    "(\n",
    "df\n",
    "    .where(col('case_late') == True)\n",
    "    .groupby('department')\n",
    "    .count()\n",
    "    .show()\n",
    ")"
   ]
  },
  {
   "cell_type": "code",
   "execution_count": 113,
   "id": "0a8f03c5",
   "metadata": {},
   "outputs": [],
   "source": [
    "late_cases = (\n",
    "df\n",
    "    .where(col('case_late') == True)\n",
    "    .groupby('department')\n",
    "    .count()\n",
    "     .withColumnRenamed(\"count\", \"late\")\n",
    "\n",
    "\n",
    ") "
   ]
  },
  {
   "cell_type": "code",
   "execution_count": 114,
   "id": "b37cbe84",
   "metadata": {},
   "outputs": [],
   "source": [
    "total_cases = (\n",
    "\n",
    "df\n",
    "    .groupby('department')\n",
    "    .count()\n",
    "    .withColumnRenamed(\"count\", \"total\")\n",
    "    .withColumnRenamed('department', 'department1')\n",
    ")"
   ]
  },
  {
   "cell_type": "code",
   "execution_count": 115,
   "id": "6a0a8f87",
   "metadata": {},
   "outputs": [],
   "source": [
    "late_and_total_cases = late_cases.join(total_cases, late_cases['department'] == total_cases['department1'], \"left\")"
   ]
  },
  {
   "cell_type": "code",
   "execution_count": 116,
   "id": "900c6d3b",
   "metadata": {},
   "outputs": [
    {
     "name": "stdout",
     "output_type": "stream",
     "text": [
      "+--------------------+-----+--------------------+------+\n",
      "|          department| late|         department1| total|\n",
      "+--------------------+-----+--------------------+------+\n",
      "|         Solid Waste|32945|         Solid Waste|279270|\n",
      "|Animal Care Services|23276|Animal Care Services|116915|\n",
      "|Trans & Cap Impro...| 5411|Trans & Cap Impro...| 96193|\n",
      "|  Parks & Recreation| 3797|  Parks & Recreation| 19907|\n",
      "|    Customer Service| 2010|    Customer Service|  2849|\n",
      "|        Metro Health|  829|        Metro Health|  5163|\n",
      "|DSD/Code Enforcement|26235|DSD/Code Enforcement|321374|\n",
      "+--------------------+-----+--------------------+------+\n",
      "\n"
     ]
    }
   ],
   "source": [
    "late_and_total_cases.show()"
   ]
  },
  {
   "cell_type": "code",
   "execution_count": 117,
   "id": "eabf801c",
   "metadata": {},
   "outputs": [],
   "source": [
    "late_and_total_cases = late_and_total_cases.withColumn('percent_late', col('late') / col('total'))"
   ]
  },
  {
   "cell_type": "code",
   "execution_count": 118,
   "id": "a2d0a003",
   "metadata": {},
   "outputs": [
    {
     "name": "stdout",
     "output_type": "stream",
     "text": [
      "+--------------------+-----+--------------------+------+-------------------+\n",
      "|          department| late|         department1| total|       percent_late|\n",
      "+--------------------+-----+--------------------+------+-------------------+\n",
      "|         Solid Waste|32945|         Solid Waste|279270| 0.1179682744297633|\n",
      "|Animal Care Services|23276|Animal Care Services|116915|0.19908480520035923|\n",
      "|Trans & Cap Impro...| 5411|Trans & Cap Impro...| 96193|0.05625149439148379|\n",
      "|  Parks & Recreation| 3797|  Parks & Recreation| 19907|0.19073692670919776|\n",
      "|    Customer Service| 2010|    Customer Service|  2849| 0.7055107055107055|\n",
      "|        Metro Health|  829|        Metro Health|  5163|0.16056556265736974|\n",
      "|DSD/Code Enforcement|26235|DSD/Code Enforcement|321374| 0.0816338596152769|\n",
      "+--------------------+-----+--------------------+------+-------------------+\n",
      "\n"
     ]
    }
   ],
   "source": [
    "late_and_total_cases.show()"
   ]
  },
  {
   "cell_type": "code",
   "execution_count": 119,
   "id": "ae4302ac",
   "metadata": {},
   "outputs": [],
   "source": [
    "late_and_total_cases = late_and_total_cases.drop(\"late\", \"department1\", 'total')"
   ]
  },
  {
   "cell_type": "code",
   "execution_count": 120,
   "id": "ce59c484",
   "metadata": {},
   "outputs": [
    {
     "name": "stdout",
     "output_type": "stream",
     "text": [
      "+------------------------+-------------------+\n",
      "|department              |percent_late       |\n",
      "+------------------------+-------------------+\n",
      "|Solid Waste             |0.1179682744297633 |\n",
      "|Animal Care Services    |0.19908480520035923|\n",
      "|Trans & Cap Improvements|0.05625149439148379|\n",
      "|Parks & Recreation      |0.19073692670919776|\n",
      "|Customer Service        |0.7055107055107055 |\n",
      "|Metro Health            |0.16056556265736974|\n",
      "|DSD/Code Enforcement    |0.0816338596152769 |\n",
      "+------------------------+-------------------+\n",
      "\n"
     ]
    }
   ],
   "source": [
    "late_and_total_cases.show(truncate = False)"
   ]
  },
  {
   "cell_type": "code",
   "execution_count": null,
   "id": "1934e17f",
   "metadata": {},
   "outputs": [],
   "source": []
  },
  {
   "cell_type": "code",
   "execution_count": 121,
   "id": "e27e6058",
   "metadata": {},
   "outputs": [],
   "source": [
    "late_and_total_cases = late_and_total_cases.withColumn(\"percent_late\", round(col(\"percent_late\") *100, 2))"
   ]
  },
  {
   "cell_type": "code",
   "execution_count": 122,
   "id": "e0cada6d",
   "metadata": {},
   "outputs": [
    {
     "name": "stdout",
     "output_type": "stream",
     "text": [
      "+--------------------+------------+\n",
      "|          department|percent_late|\n",
      "+--------------------+------------+\n",
      "|         Solid Waste|        11.8|\n",
      "|Animal Care Services|       19.91|\n",
      "|Trans & Cap Impro...|        5.63|\n",
      "|  Parks & Recreation|       19.07|\n",
      "|    Customer Service|       70.55|\n",
      "|        Metro Health|       16.06|\n",
      "|DSD/Code Enforcement|        8.16|\n",
      "+--------------------+------------+\n",
      "\n"
     ]
    }
   ],
   "source": [
    "late_and_total_cases.show()"
   ]
  },
  {
   "cell_type": "code",
   "execution_count": 133,
   "id": "acb46e57",
   "metadata": {},
   "outputs": [
    {
     "data": {
      "image/png": "[encoded data removed]",
      "text/plain": [
       "<Figure size 1008x360 with 1 Axes>"
      ]
     },
     "metadata": {
      "needs_background": "light"
     },
     "output_type": "display_data"
    }
   ],
   "source": [
    "graph = (\n",
    "    late_and_total_cases\n",
    "    # then pass to pandas\n",
    "    .toPandas()\n",
    "    .set_index(\"department\")[\"percent_late\"]\n",
    "    .sort_values(ascending=True)\n",
    "    .plot.bar(width=1, edgecolor=\"black\", figsize=(14, 5))\n",
    ")\n",
    "title = plt.title(\"Percent of Late Cases by Department\")\n",
    "ylabel = plt.ylabel(\"Percent of Late Cases\")\n",
    "xlabel = plt.xlabel(\"Department\")\n",
    "ticks = plt.xticks(rotation = 10) "
   ]
  },
  {
   "cell_type": "markdown",
   "id": "2ca52541",
   "metadata": {},
   "source": [
    "## On average, how late are the late cases by department?"
   ]
  },
  {
   "cell_type": "code",
   "execution_count": 153,
   "id": "0979f1d4",
   "metadata": {},
   "outputs": [],
   "source": [
    "mean_days_late = (\n",
    "    df \n",
    "    .groupby(\"department\")\n",
    "    .agg(avg('num_days_late').alias('average_days_late'))\n",
    ")"
   ]
  },
  {
   "cell_type": "code",
   "execution_count": 154,
   "id": "2301afbd",
   "metadata": {},
   "outputs": [
    {
     "name": "stdout",
     "output_type": "stream",
     "text": [
      "+--------------------+-------------------+\n",
      "|          department|  average_days_late|\n",
      "+--------------------+-------------------+\n",
      "|         Solid Waste|  -2.19386442402253|\n",
      "|Animal Care Services|-226.16549770717424|\n",
      "|Trans & Cap Impro...|-20.509793501785392|\n",
      "|  Parks & Recreation| -5.283345998745916|\n",
      "|    Customer Service|  59.49019459221517|\n",
      "|        Metro Health| -4.904223205386015|\n",
      "|        City Council|               null|\n",
      "|DSD/Code Enforcement|  -38.3234677253743|\n",
      "+--------------------+-------------------+\n",
      "\n"
     ]
    }
   ],
   "source": [
    "mean_days_late.show()"
   ]
  },
  {
   "cell_type": "code",
   "execution_count": 155,
   "id": "31675d73",
   "metadata": {},
   "outputs": [
    {
     "data": {
      "text/plain": [
       "0"
      ]
     },
     "execution_count": 155,
     "metadata": {},
     "output_type": "execute_result"
    }
   ],
   "source": [
    "df.where(col('department') == \"City Council\").filter('num_days_late is not null').count()"
   ]
  },
  {
   "cell_type": "markdown",
   "id": "cb9dce99",
   "metadata": {},
   "source": [
    "All of the number of days late values for city council are null. "
   ]
  },
  {
   "cell_type": "code",
   "execution_count": 156,
   "id": "db1c5d79",
   "metadata": {},
   "outputs": [],
   "source": [
    "mean_days_late = mean_days_late.where(col('department') != \"City Council\")"
   ]
  },
  {
   "cell_type": "code",
   "execution_count": 157,
   "id": "bd5ca895",
   "metadata": {},
   "outputs": [
    {
     "name": "stdout",
     "output_type": "stream",
     "text": [
      "+--------------------+-------------------+\n",
      "|          department|  average_days_late|\n",
      "+--------------------+-------------------+\n",
      "|         Solid Waste|  -2.19386442402253|\n",
      "|Animal Care Services|-226.16549770717424|\n",
      "|Trans & Cap Impro...|-20.509793501785392|\n",
      "|  Parks & Recreation| -5.283345998745916|\n",
      "|    Customer Service|  59.49019459221517|\n",
      "|        Metro Health| -4.904223205386015|\n",
      "|DSD/Code Enforcement|  -38.3234677253743|\n",
      "+--------------------+-------------------+\n",
      "\n"
     ]
    }
   ],
   "source": [
    "mean_days_late.show()"
   ]
  },
  {
   "cell_type": "code",
   "execution_count": 164,
   "id": "b1402519",
   "metadata": {},
   "outputs": [
    {
     "data": {
      "image/png": "[encoded data removed]",
      "text/plain": [
       "<Figure size 1152x576 with 1 Axes>"
      ]
     },
     "metadata": {
      "needs_background": "light"
     },
     "output_type": "display_data"
    }
   ],
   "source": [
    "graph = (\n",
    "    mean_days_late\n",
    "    # then pass to pandas\n",
    "    .toPandas()\n",
    "    .set_index(\"department\")[\"average_days_late\"]\n",
    "    .sort_values(ascending=True)\n",
    "    .plot.bar(width=1, edgecolor=\"black\", figsize=(16, 8))\n",
    ")\n",
    "title = plt.title(\"Average Number of Days Late by Department\")\n",
    "ylabel = plt.ylabel(\"Number of Days Late (Negative Indicates Ahead of Schedule)\")\n",
    "xlabel = plt.xlabel(\"Department\")\n",
    "ticks = plt.xticks(rotation = 10) "
   ]
  },
  {
   "cell_type": "markdown",
   "id": "29f8f582",
   "metadata": {},
   "source": [
    "## What is the service type that is the most late? Just for Parks & Rec?"
   ]
  },
  {
   "cell_type": "code",
   "execution_count": 182,
   "id": "3378f751",
   "metadata": {},
   "outputs": [],
   "source": [
    "mean_days_late_by_service = (\n",
    "df\n",
    "    .groupby(\"service_request_type\")\n",
    "    .agg(avg('num_days_late').alias('number_days_late'))\n",
    "    .sort(desc('number_days_late'))\n",
    ")"
   ]
  },
  {
   "cell_type": "code",
   "execution_count": 183,
   "id": "743f7740",
   "metadata": {},
   "outputs": [
    {
     "name": "stdout",
     "output_type": "stream",
     "text": [
      "+--------------------------------------+------------------+\n",
      "|service_request_type                  |number_days_late  |\n",
      "+--------------------------------------+------------------+\n",
      "|Zoning: Junk Yards                    |175.95636210420946|\n",
      "|Labeling for Used Mattress            |162.43032902285717|\n",
      "|Record Keeping of Used Mattresses     |153.99724039428568|\n",
      "|Signage Requied for Sale of Used Mattr|151.63868055333333|\n",
      "|Storage of Used Mattress              |142.11255641500003|\n",
      "|Zoning: Recycle Yard                  |135.928516124798  |\n",
      "|Donation Container Enforcement        |131.75610506358706|\n",
      "|License Requied Used Mattress Sales   |128.79828704142858|\n",
      "|Traffic Signal Graffiti               |77.90021217000002 |\n",
      "|Complaint                             |72.51790932659715 |\n",
      "|Vendors                               |66.11831254322685 |\n",
      "|Reservation Assistance                |66.03116319       |\n",
      "|Curbstoning                           |60.60433857798666 |\n",
      "|No Address Posted                     |59.87564073362591 |\n",
      "|Contracted Service Issues             |56.72045236025    |\n",
      "|Status: On-Going CIMS Projects        |36.87389387687184 |\n",
      "|Historical Building (No Permits)      |31.567148565454545|\n",
      "|Used Mattress Inspection              |30.168053900795915|\n",
      "|Service Information                   |29.270811705881243|\n",
      "|Park Building Maint Invest            |24.32232084089583 |\n",
      "+--------------------------------------+------------------+\n",
      "only showing top 20 rows\n",
      "\n"
     ]
    }
   ],
   "source": [
    "mean_days_late_by_service.show(truncate = False)"
   ]
  },
  {
   "cell_type": "markdown",
   "id": "e4347769",
   "metadata": {},
   "source": [
    "Zoning: Junk Yards has the highest average number of days late."
   ]
  },
  {
   "cell_type": "code",
   "execution_count": 184,
   "id": "d178f899",
   "metadata": {},
   "outputs": [],
   "source": [
    "total_late_by_service = (\n",
    "df\n",
    "    .where(col('case_late') == True)\n",
    "    .groupby(\"service_request_type\")\n",
    "    .count()\n",
    "    .withColumnRenamed('count', 'number_late_cases')\n",
    "    .sort(desc(col('number_late_cases')))\n",
    ")"
   ]
  },
  {
   "cell_type": "code",
   "execution_count": 185,
   "id": "05036c4f",
   "metadata": {},
   "outputs": [
    {
     "name": "stdout",
     "output_type": "stream",
     "text": [
      "+----------------------------------------+-----------------+\n",
      "|service_request_type                    |number_late_cases|\n",
      "+----------------------------------------+-----------------+\n",
      "|Trapped/Confined Animal                 |5696             |\n",
      "|No Pickup                               |5498             |\n",
      "|Aggressive Animal(Non-Critical)         |5195             |\n",
      "|Animal Neglect                          |4568             |\n",
      "|Solid Waste Fees and Charges            |4444             |\n",
      "|Damaged Cart                            |4173             |\n",
      "|Aggressive Animal(Critical)             |4124             |\n",
      "|Front Or Side Yard Parking              |3952             |\n",
      "|Bandit Signs                            |3779             |\n",
      "|Cart Exchange Request                   |3447             |\n",
      "|Right Of Way/Sidewalk Obstruction       |2682             |\n",
      "|Overgrown Yard/Trash                    |2467             |\n",
      "|Lost/Stolen Cart                        |2437             |\n",
      "|Cart Delivery                           |2369             |\n",
      "|Permits Building                        |2129             |\n",
      "|Complaint                               |1998             |\n",
      "|Junk Vehicle On Private Property        |1691             |\n",
      "|Initiating Unknown Project Investigation|1616             |\n",
      "|Additional Garbage Container - with Fee |1408             |\n",
      "|Cart PickUp                             |1339             |\n",
      "+----------------------------------------+-----------------+\n",
      "only showing top 20 rows\n",
      "\n"
     ]
    }
   ],
   "source": [
    "total_late_by_service.show(truncate = False)"
   ]
  },
  {
   "cell_type": "markdown",
   "id": "dc2f505b",
   "metadata": {},
   "source": [
    "Trapped/Confined Animal has the highest number of late cases."
   ]
  },
  {
   "cell_type": "code",
   "execution_count": 187,
   "id": "5a669788",
   "metadata": {},
   "outputs": [],
   "source": [
    "parks_and_rec = (\n",
    "df\n",
    "    .where(col('department') == \"Parks & Recreation\")\n",
    ")"
   ]
  },
  {
   "cell_type": "code",
   "execution_count": 188,
   "id": "1d860cc2",
   "metadata": {},
   "outputs": [],
   "source": [
    "mean_days_late_by_service_parks = (\n",
    "parks_and_rec\n",
    "    .groupby(\"service_request_type\")\n",
    "    .agg(avg('num_days_late').alias('number_days_late'))\n",
    "    .sort(desc('number_days_late'))\n",
    ")"
   ]
  },
  {
   "cell_type": "code",
   "execution_count": 190,
   "id": "e8e6ea37",
   "metadata": {},
   "outputs": [
    {
     "name": "stdout",
     "output_type": "stream",
     "text": [
      "+----------------------------+--------------------+\n",
      "|service_request_type        |number_days_late    |\n",
      "+----------------------------+--------------------+\n",
      "|Reservation Assistance      |66.03116319         |\n",
      "|Park Building Maint Invest  |24.32232084089583   |\n",
      "|Sportfield Lighting         |19.37709106260071   |\n",
      "|Electrical                  |11.750504897402122  |\n",
      "|Amenity Park Improvement    |10.11497437191964   |\n",
      "|Tree Removal                |5.658236274288591   |\n",
      "|Painting                    |4.354412358281138   |\n",
      "|Tree Trimming/Maintenance   |4.241499056964815   |\n",
      "|General Building Maintenance|4.191945529579545   |\n",
      "|Masonry                     |4.1756982508859055  |\n",
      "|Sign Maintenance            |4.141523684634148   |\n",
      "|Fence/Gate Repair           |3.864462383908332   |\n",
      "|Miscellaneous Park Equipment|2.4600516038089166  |\n",
      "|Trail/Greenway Maintenance  |1.691468919487805   |\n",
      "|Carpentry                   |0.5074417902093621  |\n",
      "|Fencing                     |-0.1701231483028569 |\n",
      "|Graffiti                    |-0.23837631141682977|\n",
      "|Welding                     |-0.3198878734944238 |\n",
      "|Brush/Debris Collection     |-0.6697609354827586 |\n",
      "|Playground Maintenance      |-0.6914205433373494 |\n",
      "+----------------------------+--------------------+\n",
      "only showing top 20 rows\n",
      "\n"
     ]
    }
   ],
   "source": [
    "mean_days_late_by_service_parks.show(truncate = False)"
   ]
  },
  {
   "cell_type": "markdown",
   "id": "24f84de2",
   "metadata": {},
   "source": [
    "In the Park and Recreation Department, Reservation Assistance has the highest average number of days late. "
   ]
  },
  {
   "cell_type": "code",
   "execution_count": 192,
   "id": "db5feb18",
   "metadata": {},
   "outputs": [],
   "source": [
    "total_late_by_service_parks = (\n",
    "parks_and_rec\n",
    "    .where(col('case_late') == True)\n",
    "    .groupby(\"service_request_type\")\n",
    "    .count()\n",
    "    .withColumnRenamed('count', 'number_late_cases')\n",
    "    .sort(desc(col('number_late_cases')))\n",
    ")"
   ]
  },
  {
   "cell_type": "code",
   "execution_count": 193,
   "id": "1ac3e553",
   "metadata": {},
   "outputs": [
    {
     "name": "stdout",
     "output_type": "stream",
     "text": [
      "+-------------------------------------+-----------------+\n",
      "|service_request_type                 |number_late_cases|\n",
      "+-------------------------------------+-----------------+\n",
      "|Carpentry                            |587              |\n",
      "|Electrical                           |481              |\n",
      "|Plumbing                             |325              |\n",
      "|Graffiti                             |315              |\n",
      "|Sportfield Lighting                  |268              |\n",
      "|Graffiti Int                         |255              |\n",
      "|Tree Trimming/Maintenance            |171              |\n",
      "|Masonry                              |128              |\n",
      "|General Building Maintenance         |105              |\n",
      "|Painting                             |92               |\n",
      "|Tree Removal                         |84               |\n",
      "|Welding                              |81               |\n",
      "|Plumbing/Drinking Fountain/Sprinklers|77               |\n",
      "|Lake and Ponds Maintenance           |76               |\n",
      "|Heating and Air Conditioning         |70               |\n",
      "|Signs                                |59               |\n",
      "|Fencing                              |59               |\n",
      "|Fence/Gate Repair                    |53               |\n",
      "|Brush/Debris Collection              |47               |\n",
      "|Miscellaneous Park Equipment         |43               |\n",
      "+-------------------------------------+-----------------+\n",
      "only showing top 20 rows\n",
      "\n"
     ]
    }
   ],
   "source": [
    "total_late_by_service_parks.show(truncate = False)"
   ]
  },
  {
   "cell_type": "markdown",
   "id": "1bf22a97",
   "metadata": {},
   "source": [
    "Carpentry has the highest total number of late days."
   ]
  },
  {
   "cell_type": "markdown",
   "id": "25f3262c",
   "metadata": {},
   "source": [
    "## For the DSD/Code Enforcement department, what are the most common service request types? Look at other departments too."
   ]
  },
  {
   "cell_type": "code",
   "execution_count": 218,
   "id": "2ea763b4",
   "metadata": {},
   "outputs": [],
   "source": [
    "departments = [\n",
    "    'Solid Waste',\n",
    "    'Animal Care Services',\n",
    "    'Trans & Cap Services', \n",
    "    'Parks & Recreation', \n",
    "    'Customer Service',\n",
    "    'Metro Health',\n",
    "    'DSD/Code Enforcement'   \n",
    "]"
   ]
  },
  {
   "cell_type": "code",
   "execution_count": 222,
   "id": "0ab7d324",
   "metadata": {},
   "outputs": [
    {
     "name": "stdout",
     "output_type": "stream",
     "text": [
      "Solid Waste\n",
      "+---------------------+-----+\n",
      "|service_request_type |count|\n",
      "+---------------------+-----+\n",
      "|No Pickup            |86855|\n",
      "|Damaged Cart         |30338|\n",
      "|Cart Exchange Request|22024|\n",
      "|Lost/Stolen Cart     |18731|\n",
      "|Dead Animal - Dog    |16714|\n",
      "+---------------------+-----+\n",
      "only showing top 5 rows\n",
      "\n",
      "Animal Care Services\n",
      "+-------------------------------+-----+\n",
      "|service_request_type           |count|\n",
      "+-------------------------------+-----+\n",
      "|Stray Animal                   |26760|\n",
      "|Aggressive Animal(Non-Critical)|24882|\n",
      "|Animal Neglect                 |13441|\n",
      "|Trapped/Confined Animal        |11354|\n",
      "|Public Nuisance(Own Animal)    |10715|\n",
      "+-------------------------------+-----+\n",
      "only showing top 5 rows\n",
      "\n",
      "Trans & Cap Services\n",
      "+--------------------+-----+\n",
      "|service_request_type|count|\n",
      "+--------------------+-----+\n",
      "+--------------------+-----+\n",
      "\n",
      "Parks & Recreation\n",
      "+----------------------------+-----+\n",
      "|service_request_type        |count|\n",
      "+----------------------------+-----+\n",
      "|Carpentry                   |1944 |\n",
      "|Plumbing                    |1782 |\n",
      "|Heating and Air Conditioning|1459 |\n",
      "|Playgrounds                 |1438 |\n",
      "|Ballfields                  |1234 |\n",
      "+----------------------------+-----+\n",
      "only showing top 5 rows\n",
      "\n",
      "Customer Service\n",
      "+--------------------+-----+\n",
      "|service_request_type|count|\n",
      "+--------------------+-----+\n",
      "|Complaint           |2388 |\n",
      "|Compliment          |461  |\n",
      "+--------------------+-----+\n",
      "\n",
      "Metro Health\n",
      "+-----------------------+-----+\n",
      "|service_request_type   |count|\n",
      "+-----------------------+-----+\n",
      "|License Renewal Invoice|1349 |\n",
      "|Hygienic Practices     |946  |\n",
      "|Pests                  |715  |\n",
      "|Food Contact Surfaces  |602  |\n",
      "|Public Right of Way    |538  |\n",
      "+-----------------------+-----+\n",
      "only showing top 5 rows\n",
      "\n",
      "DSD/Code Enforcement\n",
      "+--------------------------------+-----+\n",
      "|service_request_type            |count|\n",
      "+--------------------------------+-----+\n",
      "|Overgrown Yard/Trash            |65895|\n",
      "|Bandit Signs                    |32910|\n",
      "|Front Or Side Yard Parking      |28794|\n",
      "|Junk Vehicle On Private Property|21473|\n",
      "|Alley-Way Maintenance           |20214|\n",
      "+--------------------------------+-----+\n",
      "only showing top 5 rows\n",
      "\n"
     ]
    }
   ],
   "source": [
    "for dept in departments:\n",
    "    print(dept)\n",
    "    (\n",
    "    df\n",
    "    .where(col('department') == dept)\n",
    "    .groupby('service_request_type')\n",
    "    .count()\n",
    "    .sort(desc(col('count')))\n",
    "    .show(5, truncate = False)\n",
    "    )"
   ]
  },
  {
   "cell_type": "markdown",
   "id": "d2ff39a2",
   "metadata": {},
   "source": [
    "## Does whether or not its a weekend matter for when a case is opened/closed?"
   ]
  },
  {
   "cell_type": "code",
   "execution_count": 4,
   "id": "63b2578a",
   "metadata": {},
   "outputs": [
    {
     "name": "stdout",
     "output_type": "stream",
     "text": [
      "-RECORD 0------------------------------------\n",
      " case_id              | 1014127332           \n",
      " case_opened_date     | 2018-01-01 00:42:00  \n",
      " case_closed_date     | 2018-01-01 12:29:00  \n",
      " case_due_date        | 2020-09-26 00:42:00  \n",
      " case_late            | false                \n",
      " num_days_late        | -998.5087616000001   \n",
      " case_closed          | true                 \n",
      " service_request_type | Stray Animal         \n",
      " SLA_days             | 999.0                \n",
      " case_status          | Closed               \n",
      " source_id            | svcCRMLS             \n",
      " request_address      | 2315  EL PASO ST,... \n",
      " council_district     | 005                  \n",
      " num_weeks_late       | -142.6441088         \n",
      " zipcode              | 78207                \n",
      " case_age             | 219                  \n",
      " days_to_closed       | 0                    \n",
      " case_lifetime        | 0                    \n",
      " department           | Animal Care Services \n",
      " dept_subject_to_SLA  | true                 \n",
      "only showing top 1 row\n",
      "\n"
     ]
    }
   ],
   "source": [
    "df.show(1, vertical = True)"
   ]
  },
  {
   "cell_type": "code",
   "execution_count": 22,
   "id": "acb4571e",
   "metadata": {},
   "outputs": [],
   "source": [
    "df = df.withColumn(\"opened_on_weekend\", dayofweek(\"case_opened_date\").isin([1,7]).cast(\"boolean\"))"
   ]
  },
  {
   "cell_type": "code",
   "execution_count": 23,
   "id": "a9cb95ba",
   "metadata": {},
   "outputs": [],
   "source": [
    "df = df.withColumn(\"closed_on_weekend\", dayofweek(\"case_closed_date\").isin([1,7]).cast(\"boolean\"))"
   ]
  },
  {
   "cell_type": "code",
   "execution_count": 24,
   "id": "da85b718",
   "metadata": {},
   "outputs": [
    {
     "name": "stdout",
     "output_type": "stream",
     "text": [
      "-RECORD 0------------------------------------\n",
      " case_id              | 1014127332           \n",
      " case_opened_date     | 2018-01-01 00:42:00  \n",
      " case_closed_date     | 2018-01-01 12:29:00  \n",
      " case_due_date        | 2020-09-26 00:42:00  \n",
      " case_late            | false                \n",
      " num_days_late        | -998.5087616000001   \n",
      " case_closed          | true                 \n",
      " service_request_type | Stray Animal         \n",
      " SLA_days             | 999.0                \n",
      " case_status          | Closed               \n",
      " source_id            | svcCRMLS             \n",
      " request_address      | 2315  EL PASO ST,... \n",
      " council_district     | 005                  \n",
      " num_weeks_late       | -142.6441088         \n",
      " zipcode              | 78207                \n",
      " case_age             | 219                  \n",
      " days_to_closed       | 0                    \n",
      " case_lifetime        | 0                    \n",
      " department           | Animal Care Services \n",
      " dept_subject_to_SLA  | true                 \n",
      " case_opened_day      | Mon                  \n",
      " case_closed_day      | Mon                  \n",
      " opened_on_weekend    | false                \n",
      " closed_on_weekend    | false                \n",
      "only showing top 1 row\n",
      "\n"
     ]
    }
   ],
   "source": [
    "df.show(1, vertical = True)"
   ]
  },
  {
   "cell_type": "code",
   "execution_count": 25,
   "id": "807b61ac",
   "metadata": {},
   "outputs": [
    {
     "name": "stdout",
     "output_type": "stream",
     "text": [
      "+-----------------+------+\n",
      "|opened_on_weekend| count|\n",
      "+-----------------+------+\n",
      "|             true| 82443|\n",
      "|            false|759261|\n",
      "+-----------------+------+\n",
      "\n"
     ]
    }
   ],
   "source": [
    "(\n",
    "    df\n",
    "    .groupby('opened_on_weekend')\n",
    "    .count()\n",
    "    .show()\n",
    ")"
   ]
  },
  {
   "cell_type": "code",
   "execution_count": 26,
   "id": "884a1ae2",
   "metadata": {},
   "outputs": [
    {
     "name": "stdout",
     "output_type": "stream",
     "text": [
      "+-----------------+------+\n",
      "|closed_on_weekend| count|\n",
      "+-----------------+------+\n",
      "|             true| 88027|\n",
      "|            false|735567|\n",
      "|             null| 18110|\n",
      "+-----------------+------+\n",
      "\n"
     ]
    }
   ],
   "source": [
    "(\n",
    "    df\n",
    "    .groupby('closed_on_weekend')\n",
    "    .count()\n",
    "    .show()\n",
    ")"
   ]
  },
  {
   "cell_type": "code",
   "execution_count": 27,
   "id": "2641af83",
   "metadata": {},
   "outputs": [
    {
     "name": "stdout",
     "output_type": "stream",
     "text": [
      "+-----------------+-----------------+------+\n",
      "|opened_on_weekend|closed_on_weekend| count|\n",
      "+-----------------+-----------------+------+\n",
      "|             true|            false| 44714|\n",
      "|             true|             true| 36674|\n",
      "|            false|            false|690853|\n",
      "|            false|             true| 51353|\n",
      "|             true|             null|  1055|\n",
      "|            false|             null| 17055|\n",
      "+-----------------+-----------------+------+\n",
      "\n"
     ]
    }
   ],
   "source": [
    "(\n",
    "    df\n",
    "    .groupby('opened_on_weekend', 'closed_on_weekend')\n",
    "    .count()\n",
    "    .show()\n",
    ")"
   ]
  },
  {
   "cell_type": "markdown",
   "id": "68d0c777",
   "metadata": {},
   "source": [
    "The majority of cases are opened and closed on weekdays. "
   ]
  },
  {
   "cell_type": "markdown",
   "id": "82bf39f3",
   "metadata": {},
   "source": [
    "## On average, how many cases are opened a day for the Customer Service department?"
   ]
  },
  {
   "cell_type": "code",
   "execution_count": 33,
   "id": "bdae46d5",
   "metadata": {},
   "outputs": [],
   "source": [
    "   to_date(col(\"input_timestamp\"),\"yyyy-MM-dd\")"
   ]
  },
  {
   "cell_type": "code",
   "execution_count": 44,
   "id": "cf972fb1",
   "metadata": {},
   "outputs": [],
   "source": [
    "cases_per_day_customer_service = (\n",
    "df\n",
    "    .where(col('department') == 'Customer Service')\n",
    "    .groupby(to_date(col('case_opened_date'), 'yyyy-MM-dd'))\n",
    "    .count()\n",
    ")"
   ]
  },
  {
   "cell_type": "code",
   "execution_count": 45,
   "id": "ba85fe12",
   "metadata": {},
   "outputs": [
    {
     "name": "stdout",
     "output_type": "stream",
     "text": [
      "+-------------------------------------+-----+\n",
      "|to_date(case_opened_date, yyyy-MM-dd)|count|\n",
      "+-------------------------------------+-----+\n",
      "|                           2018-01-23|    9|\n",
      "|                           2018-01-11|    8|\n",
      "|                           2018-01-08|    1|\n",
      "|                           2018-01-18|    8|\n",
      "|                           2018-02-22|    1|\n",
      "|                           2018-01-05|    8|\n",
      "|                           2018-01-13|    2|\n",
      "|                           2018-02-01|    9|\n",
      "|                           2018-02-04|    1|\n",
      "|                           2018-02-23|    9|\n",
      "|                           2018-01-12|    5|\n",
      "|                           2018-01-20|    2|\n",
      "|                           2018-01-25|    5|\n",
      "|                           2018-02-02|    4|\n",
      "|                           2018-02-12|    4|\n",
      "|                           2018-01-29|    5|\n",
      "|                           2018-02-08|    2|\n",
      "|                           2018-02-09|    5|\n",
      "|                           2018-02-05|    9|\n",
      "|                           2018-01-19|    7|\n",
      "+-------------------------------------+-----+\n",
      "only showing top 20 rows\n",
      "\n"
     ]
    }
   ],
   "source": [
    "cases_per_day_customer_service.show()"
   ]
  },
  {
   "cell_type": "code",
   "execution_count": 48,
   "id": "f696c9ff",
   "metadata": {},
   "outputs": [
    {
     "name": "stdout",
     "output_type": "stream",
     "text": [
      "+--------------------------------------+\n",
      "|Average Customer Service Cases Per Day|\n",
      "+--------------------------------------+\n",
      "|                           5.564453125|\n",
      "+--------------------------------------+\n",
      "\n"
     ]
    }
   ],
   "source": [
    "cases_per_day_customer_service.select(avg('count').alias('Average Customer Service Cases Per Day')).show()"
   ]
  },
  {
   "cell_type": "markdown",
   "id": "b8225361",
   "metadata": {},
   "source": [
    "## Does the number of service requests for the solid waste department vary by day of the week?"
   ]
  },
  {
   "cell_type": "code",
   "execution_count": 50,
   "id": "02a260a3",
   "metadata": {},
   "outputs": [],
   "source": [
    "df = df.withColumn('day_of_the_week_opened', date_format('case_opened_date', 'EEEE'))"
   ]
  },
  {
   "cell_type": "code",
   "execution_count": 51,
   "id": "3b91fa51",
   "metadata": {},
   "outputs": [
    {
     "name": "stdout",
     "output_type": "stream",
     "text": [
      "-RECORD 0--------------------------------------\n",
      " case_id                | 1014127332           \n",
      " case_opened_date       | 2018-01-01 00:42:00  \n",
      " case_closed_date       | 2018-01-01 12:29:00  \n",
      " case_due_date          | 2020-09-26 00:42:00  \n",
      " case_late              | false                \n",
      " num_days_late          | -998.5087616000001   \n",
      " case_closed            | true                 \n",
      " service_request_type   | Stray Animal         \n",
      " SLA_days               | 999.0                \n",
      " case_status            | Closed               \n",
      " source_id              | svcCRMLS             \n",
      " request_address        | 2315  EL PASO ST,... \n",
      " council_district       | 005                  \n",
      " num_weeks_late         | -142.6441088         \n",
      " zipcode                | 78207                \n",
      " case_age               | 219                  \n",
      " days_to_closed         | 0                    \n",
      " case_lifetime          | 0                    \n",
      " department             | Animal Care Services \n",
      " dept_subject_to_SLA    | true                 \n",
      " case_opened_day        | Mon                  \n",
      " case_closed_day        | Mon                  \n",
      " opened_on_weekend      | false                \n",
      " closed_on_weekend      | false                \n",
      " day_of_the_week_opened | Monday               \n",
      "only showing top 1 row\n",
      "\n"
     ]
    }
   ],
   "source": [
    "df.show(1, vertical = True)"
   ]
  },
  {
   "cell_type": "code",
   "execution_count": 54,
   "id": "368c97b9",
   "metadata": {},
   "outputs": [
    {
     "name": "stdout",
     "output_type": "stream",
     "text": [
      "+----------------------+-----+\n",
      "|day_of_the_week_opened|count|\n",
      "+----------------------+-----+\n",
      "|               Tuesday|58120|\n",
      "|                Monday|58085|\n",
      "|                Friday|51203|\n",
      "|              Thursday|47718|\n",
      "|             Wednesday|41947|\n",
      "|              Saturday|15312|\n",
      "|                Sunday| 6885|\n",
      "+----------------------+-----+\n",
      "\n"
     ]
    }
   ],
   "source": [
    "(\n",
    "df\n",
    "    .where(col('department') == \"Solid Waste\")\n",
    "    .groupby(col('day_of_the_week_opened'))\n",
    "    .count()\n",
    "    .sort(desc('count'))\n",
    "    .show()\n",
    ")"
   ]
  },
  {
   "cell_type": "markdown",
   "id": "9fe0393b",
   "metadata": {},
   "source": [
    "Yes! Tuesday received the most service requests overall, whereas Sunday received the least."
   ]
  },
  {
   "cell_type": "code",
   "execution_count": 61,
   "id": "cd1254ce",
   "metadata": {},
   "outputs": [],
   "source": [
    "solid_waste_request_per_day = (\n",
    "df\n",
    "    .where(col('department') == \"Solid Waste\")\n",
    "    .groupby(to_date(col('case_opened_date'), 'yyyy-MM-dd').alias('date'))\n",
    "    .count()\n",
    "    .sort(desc('count'))\n",
    ")"
   ]
  },
  {
   "cell_type": "code",
   "execution_count": 62,
   "id": "532c03c0",
   "metadata": {},
   "outputs": [
    {
     "name": "stdout",
     "output_type": "stream",
     "text": [
      "+----------+-----+\n",
      "|      date|count|\n",
      "+----------+-----+\n",
      "|2017-02-20| 1005|\n",
      "|2018-03-26|  990|\n",
      "|2018-03-19|  975|\n",
      "|2018-05-29|  973|\n",
      "|2017-02-27|  959|\n",
      "|2017-02-21|  949|\n",
      "|2017-03-27|  939|\n",
      "|2017-03-21|  937|\n",
      "|2017-03-20|  932|\n",
      "|2018-03-12|  926|\n",
      "|2018-04-02|  915|\n",
      "|2018-03-20|  894|\n",
      "|2018-03-13|  884|\n",
      "|2017-05-30|  880|\n",
      "|2018-06-04|  877|\n",
      "|2018-04-23|  870|\n",
      "|2017-09-05|  867|\n",
      "|2017-04-10|  866|\n",
      "|2018-03-16|  860|\n",
      "|2017-06-05|  858|\n",
      "+----------+-----+\n",
      "only showing top 20 rows\n",
      "\n"
     ]
    }
   ],
   "source": [
    "solid_waste_request_per_day.show()"
   ]
  },
  {
   "cell_type": "code",
   "execution_count": null,
   "id": "1d1859ee",
   "metadata": {},
   "outputs": [],
   "source": [
    "solid_waste_per_day = solid_waste_per_day.withColumn(date_format('case_opened_date', 'EEEE'))"
   ]
  },
  {
   "cell_type": "code",
   "execution_count": 67,
   "id": "888b1d22",
   "metadata": {},
   "outputs": [],
   "source": [
    "avg_solid_waste_requests_per_weekday = (\n",
    "\n",
    "    solid_waste_request_per_day\n",
    "    .groupby(date_format('date', 'EEEE'))\n",
    "    .agg(avg('count').alias('average'))\n",
    "    .sort(desc('average'))\n",
    ")"
   ]
  },
  {
   "cell_type": "code",
   "execution_count": 68,
   "id": "03caa837",
   "metadata": {},
   "outputs": [
    {
     "name": "stdout",
     "output_type": "stream",
     "text": [
      "+-----------------------+------------------+\n",
      "|date_format(date, EEEE)|           average|\n",
      "+-----------------------+------------------+\n",
      "|                Tuesday| 691.9047619047619|\n",
      "|                 Monday| 691.4880952380952|\n",
      "|                 Friday| 616.9036144578313|\n",
      "|               Thursday| 574.9156626506024|\n",
      "|              Wednesday| 499.3690476190476|\n",
      "|               Saturday|184.48192771084337|\n",
      "|                 Sunday| 81.96428571428571|\n",
      "+-----------------------+------------------+\n",
      "\n"
     ]
    }
   ],
   "source": [
    "avg_solid_waste_requests_per_weekday.show()"
   ]
  },
  {
   "cell_type": "markdown",
   "id": "e11b1f3a",
   "metadata": {},
   "source": [
    "The order is the same when we calculate the average amount of service requests per day. "
   ]
  }
 ],
 "metadata": {
  "kernelspec": {
   "display_name": "Python 3",
   "language": "python",
   "name": "python3"
  },
  "language_info": {
   "codemirror_mode": {
    "name": "ipython",
    "version": 3
   },
   "file_extension": ".py",
   "mimetype": "text/x-python",
   "name": "python",
   "nbconvert_exporter": "python",
   "pygments_lexer": "ipython3",
   "version": "3.8.8"
  }
 },
 "nbformat": 4,
 "nbformat_minor": 5
}
