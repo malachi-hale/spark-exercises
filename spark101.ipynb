{
 "cells": [
  {
   "cell_type": "markdown",
   "id": "cfe57de9",
   "metadata": {},
   "source": [
    "# Spark 101"
   ]
  },
  {
   "cell_type": "markdown",
   "id": "7f40d218",
   "metadata": {},
   "source": [
    "## Import Libraries"
   ]
  },
  {
   "cell_type": "code",
   "execution_count": 5,
   "id": "c483649a",
   "metadata": {},
   "outputs": [],
   "source": [
    "import pandas as pd\n",
    "import numpy as np\n",
    "import pyspark #Import Spark\n",
    "spark = pyspark.sql.SparkSession.builder.getOrCreate()"
   ]
  },
  {
   "cell_type": "markdown",
   "id": "fb36eb74",
   "metadata": {},
   "source": [
    "# Problem 1\n",
    "\n",
    "Create a spark data frame that contains your favorite programming languages.\n",
    "\n",
    " - The name of the column should be `language`\n",
    " - View the schema of the dataframe\n",
    " - Output the shape of the dataframe\n",
    " - Show the first 5 records in the dataframe"
   ]
  },
  {
   "cell_type": "code",
   "execution_count": 12,
   "id": "e677ace6",
   "metadata": {},
   "outputs": [],
   "source": [
    "np.random.seed(13)\n",
    "\n",
    "df = spark.createDataFrame(pd.DataFrame({\n",
    "    \"language\": np.random.choice([\"Python\", \"Java\", \"Javascript\", \"SQL\" ,\"C++\", \"Scala\"], 40)\n",
    "\n",
    "}))"
   ]
  },
  {
   "cell_type": "code",
   "execution_count": 13,
   "id": "86298bf3",
   "metadata": {},
   "outputs": [
    {
     "name": "stdout",
     "output_type": "stream",
     "text": [
      "+----------+\n",
      "|  language|\n",
      "+----------+\n",
      "|Javascript|\n",
      "|    Python|\n",
      "|Javascript|\n",
      "|    Python|\n",
      "|Javascript|\n",
      "|       C++|\n",
      "|      Java|\n",
      "|       C++|\n",
      "|Javascript|\n",
      "|       SQL|\n",
      "|Javascript|\n",
      "|       C++|\n",
      "|Javascript|\n",
      "|     Scala|\n",
      "|     Scala|\n",
      "|Javascript|\n",
      "|      Java|\n",
      "|       SQL|\n",
      "|       C++|\n",
      "|Javascript|\n",
      "+----------+\n",
      "only showing top 20 rows\n",
      "\n"
     ]
    }
   ],
   "source": [
    "df.show()"
   ]
  },
  {
   "cell_type": "code",
   "execution_count": 15,
   "id": "aa58fc05",
   "metadata": {},
   "outputs": [
    {
     "name": "stdout",
     "output_type": "stream",
     "text": [
      "root\n",
      " |-- language: string (nullable = true)\n",
      "\n"
     ]
    }
   ],
   "source": [
    "df.printSchema()"
   ]
  },
  {
   "cell_type": "code",
   "execution_count": 25,
   "id": "ad8892b0",
   "metadata": {},
   "outputs": [
    {
     "name": "stdout",
     "output_type": "stream",
     "text": [
      "The shape of the DataFrame is (40, 1).\n"
     ]
    }
   ],
   "source": [
    "print(f\"The shape of the DataFrame is (\" + str(df.count()) + \", \" + str(len(df.columns)) + \").\")"
   ]
  },
  {
   "cell_type": "code",
   "execution_count": 26,
   "id": "e57276fa",
   "metadata": {},
   "outputs": [
    {
     "name": "stdout",
     "output_type": "stream",
     "text": [
      "+----------+\n",
      "|  language|\n",
      "+----------+\n",
      "|Javascript|\n",
      "|    Python|\n",
      "|Javascript|\n",
      "|    Python|\n",
      "|Javascript|\n",
      "+----------+\n",
      "only showing top 5 rows\n",
      "\n"
     ]
    }
   ],
   "source": [
    "df.show(5)"
   ]
  },
  {
   "cell_type": "markdown",
   "id": "ca985243",
   "metadata": {},
   "source": [
    "## Problem 2\n",
    "\n",
    "Load the mpg dataset as a spark dataframe.\n",
    "\n",
    " - Create 1 column of output that contains a message like the one below:\n",
    "\n",
    "    `The 1999 audi a4 has a 4 cylinder engine.`\n",
    "    \n",
    "    For each vehicle.\n",
    "    \n",
    "    \n",
    "\n",
    " - Transform the trans column so that it only contains either manual or auto."
   ]
  },
  {
   "cell_type": "code",
   "execution_count": 27,
   "id": "fa1270de",
   "metadata": {},
   "outputs": [
    {
     "name": "stdout",
     "output_type": "stream",
     "text": [
      "+------------+-----+-----+----+---+----------+---+---+---+---+-------+\n",
      "|manufacturer|model|displ|year|cyl|     trans|drv|cty|hwy| fl|  class|\n",
      "+------------+-----+-----+----+---+----------+---+---+---+---+-------+\n",
      "|        audi|   a4|  1.8|1999|  4|  auto(l5)|  f| 18| 29|  p|compact|\n",
      "|        audi|   a4|  1.8|1999|  4|manual(m5)|  f| 21| 29|  p|compact|\n",
      "|        audi|   a4|  2.0|2008|  4|manual(m6)|  f| 20| 31|  p|compact|\n",
      "|        audi|   a4|  2.0|2008|  4|  auto(av)|  f| 21| 30|  p|compact|\n",
      "|        audi|   a4|  2.8|1999|  6|  auto(l5)|  f| 16| 26|  p|compact|\n",
      "+------------+-----+-----+----+---+----------+---+---+---+---+-------+\n",
      "only showing top 5 rows\n",
      "\n"
     ]
    }
   ],
   "source": [
    "from pydataset import data\n",
    "\n",
    "mpg = spark.createDataFrame(data(\"mpg\"))\n",
    "mpg.show(5)"
   ]
  },
  {
   "cell_type": "code",
   "execution_count": 32,
   "id": "1e326539",
   "metadata": {},
   "outputs": [],
   "source": [
    "from  pyspark.sql.functions import concat, lit"
   ]
  },
  {
   "cell_type": "code",
   "execution_count": 42,
   "id": "303a74b5",
   "metadata": {},
   "outputs": [
    {
     "name": "stdout",
     "output_type": "stream",
     "text": [
      "+--------------------------------------------------------------+\n",
      "|Description                                                   |\n",
      "+--------------------------------------------------------------+\n",
      "|The 1999 audi a4 has a 4 cylinder engine.                     |\n",
      "|The 1999 audi a4 has a 4 cylinder engine.                     |\n",
      "|The 2008 audi a4 has a 4 cylinder engine.                     |\n",
      "|The 2008 audi a4 has a 4 cylinder engine.                     |\n",
      "|The 1999 audi a4 has a 6 cylinder engine.                     |\n",
      "|The 1999 audi a4 has a 6 cylinder engine.                     |\n",
      "|The 2008 audi a4 has a 6 cylinder engine.                     |\n",
      "|The 1999 audi a4 quattro has a 4 cylinder engine.             |\n",
      "|The 1999 audi a4 quattro has a 4 cylinder engine.             |\n",
      "|The 2008 audi a4 quattro has a 4 cylinder engine.             |\n",
      "|The 2008 audi a4 quattro has a 4 cylinder engine.             |\n",
      "|The 1999 audi a4 quattro has a 6 cylinder engine.             |\n",
      "|The 1999 audi a4 quattro has a 6 cylinder engine.             |\n",
      "|The 2008 audi a4 quattro has a 6 cylinder engine.             |\n",
      "|The 2008 audi a4 quattro has a 6 cylinder engine.             |\n",
      "|The 1999 audi a6 quattro has a 6 cylinder engine.             |\n",
      "|The 2008 audi a6 quattro has a 6 cylinder engine.             |\n",
      "|The 2008 audi a6 quattro has a 8 cylinder engine.             |\n",
      "|The 2008 chevrolet c1500 suburban 2wd has a 8 cylinder engine.|\n",
      "|The 2008 chevrolet c1500 suburban 2wd has a 8 cylinder engine.|\n",
      "+--------------------------------------------------------------+\n",
      "only showing top 20 rows\n",
      "\n"
     ]
    }
   ],
   "source": [
    "mpg.select(concat(lit('The '), 'year', lit(\" \"), 'manufacturer', lit(\" \"), 'model', lit(' has a '), 'cyl', lit(' cylinder engine.')).alias(\"Description\")).show(20, False)"
   ]
  },
  {
   "cell_type": "code",
   "execution_count": 43,
   "id": "badbf68c",
   "metadata": {},
   "outputs": [
    {
     "name": "stdout",
     "output_type": "stream",
     "text": [
      "+----------+\n",
      "|     trans|\n",
      "+----------+\n",
      "|  auto(l5)|\n",
      "|manual(m5)|\n",
      "|manual(m6)|\n",
      "|  auto(av)|\n",
      "|  auto(l5)|\n",
      "|manual(m5)|\n",
      "|  auto(av)|\n",
      "|manual(m5)|\n",
      "|  auto(l5)|\n",
      "|manual(m6)|\n",
      "|  auto(s6)|\n",
      "|  auto(l5)|\n",
      "|manual(m5)|\n",
      "|  auto(s6)|\n",
      "|manual(m6)|\n",
      "|  auto(l5)|\n",
      "|  auto(s6)|\n",
      "|  auto(s6)|\n",
      "|  auto(l4)|\n",
      "|  auto(l4)|\n",
      "+----------+\n",
      "only showing top 20 rows\n",
      "\n"
     ]
    }
   ],
   "source": [
    "mpg.select('trans').show(20)"
   ]
  },
  {
   "cell_type": "code",
   "execution_count": 45,
   "id": "89075ccf",
   "metadata": {},
   "outputs": [],
   "source": [
    "from pyspark.sql.functions import regexp_extract, regexp_replace"
   ]
  },
  {
   "cell_type": "code",
   "execution_count": 50,
   "id": "274e2ddf",
   "metadata": {},
   "outputs": [
    {
     "name": "stdout",
     "output_type": "stream",
     "text": [
      "+----------------+\n",
      "|transition_clean|\n",
      "+----------------+\n",
      "|auto            |\n",
      "|manual          |\n",
      "|manual          |\n",
      "|auto            |\n",
      "|auto            |\n",
      "|manual          |\n",
      "|auto            |\n",
      "|manual          |\n",
      "|auto            |\n",
      "|manual          |\n",
      "|auto            |\n",
      "|auto            |\n",
      "|manual          |\n",
      "|auto            |\n",
      "|manual          |\n",
      "|auto            |\n",
      "|auto            |\n",
      "|auto            |\n",
      "|auto            |\n",
      "|auto            |\n",
      "+----------------+\n",
      "only showing top 20 rows\n",
      "\n"
     ]
    }
   ],
   "source": [
    "mpg.select(\n",
    "    regexp_replace(\"trans\", r\"\\([^)]*\\)\", \"\").alias(\"transition_clean\"),\n",
    ").show(truncate=False)"
   ]
  },
  {
   "cell_type": "markdown",
   "id": "48543393",
   "metadata": {},
   "source": [
    "## Problem 3 \n",
    "\n",
    "Load the tips dataset as a spark dataframe.\n",
    "\n",
    " - What percentage of observations are smokers?\n",
    " - Create a column that contains the tip percentage\n",
    " - Calculate the average tip percentage for each combination of sex and smoker."
   ]
  },
  {
   "cell_type": "code",
   "execution_count": 53,
   "id": "d280d697",
   "metadata": {},
   "outputs": [],
   "source": [
    "tips = data(\"tips\")\n",
    "tips = spark.createDataFrame(tips)"
   ]
  },
  {
   "cell_type": "code",
   "execution_count": 54,
   "id": "104e2c20",
   "metadata": {},
   "outputs": [
    {
     "name": "stdout",
     "output_type": "stream",
     "text": [
      "+----------+----+------+------+---+------+----+\n",
      "|total_bill| tip|   sex|smoker|day|  time|size|\n",
      "+----------+----+------+------+---+------+----+\n",
      "|     16.99|1.01|Female|    No|Sun|Dinner|   2|\n",
      "|     10.34|1.66|  Male|    No|Sun|Dinner|   3|\n",
      "|     21.01| 3.5|  Male|    No|Sun|Dinner|   3|\n",
      "|     23.68|3.31|  Male|    No|Sun|Dinner|   2|\n",
      "|     24.59|3.61|Female|    No|Sun|Dinner|   4|\n",
      "|     25.29|4.71|  Male|    No|Sun|Dinner|   4|\n",
      "|      8.77| 2.0|  Male|    No|Sun|Dinner|   2|\n",
      "|     26.88|3.12|  Male|    No|Sun|Dinner|   4|\n",
      "|     15.04|1.96|  Male|    No|Sun|Dinner|   2|\n",
      "|     14.78|3.23|  Male|    No|Sun|Dinner|   2|\n",
      "|     10.27|1.71|  Male|    No|Sun|Dinner|   2|\n",
      "|     35.26| 5.0|Female|    No|Sun|Dinner|   4|\n",
      "|     15.42|1.57|  Male|    No|Sun|Dinner|   2|\n",
      "|     18.43| 3.0|  Male|    No|Sun|Dinner|   4|\n",
      "|     14.83|3.02|Female|    No|Sun|Dinner|   2|\n",
      "|     21.58|3.92|  Male|    No|Sun|Dinner|   2|\n",
      "|     10.33|1.67|Female|    No|Sun|Dinner|   3|\n",
      "|     16.29|3.71|  Male|    No|Sun|Dinner|   3|\n",
      "|     16.97| 3.5|Female|    No|Sun|Dinner|   3|\n",
      "|     20.65|3.35|  Male|    No|Sat|Dinner|   3|\n",
      "+----------+----+------+------+---+------+----+\n",
      "only showing top 20 rows\n",
      "\n"
     ]
    }
   ],
   "source": [
    "tips.show()"
   ]
  },
  {
   "cell_type": "code",
   "execution_count": 60,
   "id": "b86956ba",
   "metadata": {},
   "outputs": [
    {
     "data": {
      "text/plain": [
       "93"
      ]
     },
     "execution_count": 60,
     "metadata": {},
     "output_type": "execute_result"
    }
   ],
   "source": [
    "total_smokers = tips.select(\"smoker\").where(tips.smoker == \"Yes\").count()\n",
    "total_smokers"
   ]
  },
  {
   "cell_type": "code",
   "execution_count": 62,
   "id": "d66bf1b0",
   "metadata": {},
   "outputs": [
    {
     "data": {
      "text/plain": [
       "244"
      ]
     },
     "execution_count": 62,
     "metadata": {},
     "output_type": "execute_result"
    }
   ],
   "source": [
    "total_population = tips.count()\n",
    "total_population"
   ]
  },
  {
   "cell_type": "code",
   "execution_count": 63,
   "id": "068bfe35",
   "metadata": {},
   "outputs": [
    {
     "data": {
      "text/plain": [
       "0.38114754098360654"
      ]
     },
     "execution_count": 63,
     "metadata": {},
     "output_type": "execute_result"
    }
   ],
   "source": [
    "percent_smokers = total_smokers / total_population\n",
    "percent_smokers"
   ]
  },
  {
   "cell_type": "code",
   "execution_count": null,
   "id": "752a4b2a",
   "metadata": {},
   "outputs": [],
   "source": [
    "print 'Value is \"{}\"'.format(value)"
   ]
  },
  {
   "cell_type": "code",
   "execution_count": 75,
   "id": "810dea91",
   "metadata": {},
   "outputs": [
    {
     "name": "stdout",
     "output_type": "stream",
     "text": [
      "In our population 38.11% are smokers.\n"
     ]
    }
   ],
   "source": [
    "print('In our population {}% are smokers.'.format(round(percent_smokers*100, 2)))"
   ]
  },
  {
   "cell_type": "code",
   "execution_count": null,
   "id": "8712371d",
   "metadata": {},
   "outputs": [],
   "source": [
    "mpg.groupBy(\"cyl\", \"class\").agg(avg(mpg.cty), avg(mpg.hwy)).show()"
   ]
  },
  {
   "cell_type": "code",
   "execution_count": 77,
   "id": "4fb591f5",
   "metadata": {},
   "outputs": [],
   "source": [
    "from pyspark.sql.functions import avg"
   ]
  },
  {
   "cell_type": "code",
   "execution_count": 93,
   "id": "d49e584f",
   "metadata": {},
   "outputs": [
    {
     "name": "stdout",
     "output_type": "stream",
     "text": [
      "+------+------+----------------------+\n",
      "|   sex|smoker|Average Tip Percentage|\n",
      "+------+------+----------------------+\n",
      "|  Male|    No|    0.1606687151291298|\n",
      "|Female|    No|    0.1569209707691836|\n",
      "|  Male|   Yes|    0.1527711752024851|\n",
      "|Female|   Yes|   0.18215035269941035|\n",
      "+------+------+----------------------+\n",
      "\n"
     ]
    }
   ],
   "source": [
    "tips.groupBy(\"sex\", \"smoker\").agg(avg(tips.tip / tips.total_bill).alias(\"Average Tip Percentage\")).show()"
   ]
  },
  {
   "cell_type": "markdown",
   "id": "f70689e4",
   "metadata": {},
   "source": [
    "## Problem 4 \n",
    "\n",
    "Use the seattle weather dataset referenced in the lesson to answer the questions below.\n",
    "\n",
    " - Convert the temperatures to fahrenheit.\n",
    " - Which month has the most rain, on average?\n",
    " - Which year was the windiest?\n",
    " - What is the most frequent type of weather in January?\n",
    " - What is the average high and low temperature on sunny days in July in 2013 and 2014?\n",
    " - What percentage of days were rainy in q3 of 2015?\n",
    " - For each year, find what percentage of days it rained (had non-zero precipitation)."
   ]
  },
  {
   "cell_type": "code",
   "execution_count": 360,
   "id": "d12668f2",
   "metadata": {},
   "outputs": [
    {
     "name": "stdout",
     "output_type": "stream",
     "text": [
      "+----------+-------------+--------+--------+----+-------+\n",
      "|      date|precipitation|temp_max|temp_min|wind|weather|\n",
      "+----------+-------------+--------+--------+----+-------+\n",
      "|2012-01-01|          0.0|    12.8|     5.0| 4.7|drizzle|\n",
      "|2012-01-02|         10.9|    10.6|     2.8| 4.5|   rain|\n",
      "|2012-01-03|          0.8|    11.7|     7.2| 2.3|   rain|\n",
      "|2012-01-04|         20.3|    12.2|     5.6| 4.7|   rain|\n",
      "|2012-01-05|          1.3|     8.9|     2.8| 6.1|   rain|\n",
      "|2012-01-06|          2.5|     4.4|     2.2| 2.2|   rain|\n",
      "+----------+-------------+--------+--------+----+-------+\n",
      "only showing top 6 rows\n",
      "\n"
     ]
    }
   ],
   "source": [
    "from vega_datasets import data\n",
    "\n",
    "weather = data.seattle_weather().assign(date=lambda df: df.date.astype(str))\n",
    "weather = spark.createDataFrame(weather)\n",
    "weather.show(6)"
   ]
  },
  {
   "cell_type": "markdown",
   "id": "3d8b4190",
   "metadata": {},
   "source": [
    "Convert the temperatures to fahrenheit."
   ]
  },
  {
   "cell_type": "code",
   "execution_count": 361,
   "id": "5acc1351",
   "metadata": {},
   "outputs": [
    {
     "name": "stdout",
     "output_type": "stream",
     "text": [
      "+--------+--------+------------------+------------------+\n",
      "|temp_max|temp_min|temp_max_farenheit|temp_min_farenheit|\n",
      "+--------+--------+------------------+------------------+\n",
      "|    12.8|     5.0|55.040000000000006|              41.0|\n",
      "|    10.6|     2.8|             51.08|             37.04|\n",
      "|    11.7|     7.2|             53.06|             44.96|\n",
      "|    12.2|     5.6|             53.96|             42.08|\n",
      "|     8.9|     2.8|48.019999999999996|             37.04|\n",
      "|     4.4|     2.2|             39.92|             35.96|\n",
      "|     7.2|     2.8|             44.96|             37.04|\n",
      "|    10.0|     2.8|              50.0|             37.04|\n",
      "|     9.4|     5.0|             48.92|              41.0|\n",
      "|     6.1|     0.6|42.980000000000004|             33.08|\n",
      "|     6.1|    -1.1|42.980000000000004|             30.02|\n",
      "|     6.1|    -1.7|42.980000000000004|             28.94|\n",
      "|     5.0|    -2.8|              41.0|             26.96|\n",
      "|     4.4|     0.6|             39.92|             33.08|\n",
      "|     1.1|    -3.3|             33.98|26.060000000000002|\n",
      "|     1.7|    -2.8|             35.06|             26.96|\n",
      "|     3.3|     0.0|             37.94|              32.0|\n",
      "|     0.0|    -2.8|              32.0|             26.96|\n",
      "|    -1.1|    -2.8|             30.02|             26.96|\n",
      "|     7.2|    -1.1|             44.96|             30.02|\n",
      "+--------+--------+------------------+------------------+\n",
      "only showing top 20 rows\n",
      "\n"
     ]
    }
   ],
   "source": [
    "weather.select('temp_max', 'temp_min', ((weather.temp_max * 1.8) + 32.0).alias('temp_max_farenheit'), ((weather.temp_min * 1.8) + 32).alias('temp_min_farenheit')).show()"
   ]
  },
  {
   "cell_type": "markdown",
   "id": "7b21cbd4",
   "metadata": {},
   "source": [
    "Which month has the most rain, on average?"
   ]
  },
  {
   "cell_type": "code",
   "execution_count": 362,
   "id": "0f5c39ae",
   "metadata": {},
   "outputs": [],
   "source": [
    "from pyspark.sql.functions import month, count, max"
   ]
  },
  {
   "cell_type": "code",
   "execution_count": 363,
   "id": "0a369b6c",
   "metadata": {},
   "outputs": [
    {
     "name": "stdout",
     "output_type": "stream",
     "text": [
      "+----------+-------------+--------+--------+----+-------+\n",
      "|      date|precipitation|temp_max|temp_min|wind|weather|\n",
      "+----------+-------------+--------+--------+----+-------+\n",
      "|2012-01-02|         10.9|    10.6|     2.8| 4.5|   rain|\n",
      "|2012-01-03|          0.8|    11.7|     7.2| 2.3|   rain|\n",
      "|2012-01-04|         20.3|    12.2|     5.6| 4.7|   rain|\n",
      "|2012-01-05|          1.3|     8.9|     2.8| 6.1|   rain|\n",
      "|2012-01-06|          2.5|     4.4|     2.2| 2.2|   rain|\n",
      "|2012-01-07|          0.0|     7.2|     2.8| 2.3|   rain|\n",
      "|2012-01-09|          4.3|     9.4|     5.0| 3.4|   rain|\n",
      "|2012-01-10|          1.0|     6.1|     0.6| 3.4|   rain|\n",
      "|2012-01-21|          3.0|     8.3|     3.3| 8.2|   rain|\n",
      "|2012-01-22|          6.1|     6.7|     2.2| 4.8|   rain|\n",
      "|2012-01-23|          0.0|     8.3|     1.1| 3.6|   rain|\n",
      "|2012-01-24|          8.6|    10.0|     2.2| 5.1|   rain|\n",
      "|2012-01-25|          8.1|     8.9|     4.4| 5.4|   rain|\n",
      "|2012-01-26|          4.8|     8.9|     1.1| 4.8|   rain|\n",
      "|2012-01-28|          0.0|     6.7|     0.6| 2.2|   rain|\n",
      "|2012-01-29|         27.7|     9.4|     3.9| 4.5|   rain|\n",
      "|2012-01-30|          3.6|     8.3|     6.1| 5.1|   rain|\n",
      "|2012-01-31|          1.8|     9.4|     6.1| 3.9|   rain|\n",
      "|2012-02-01|         13.5|     8.9|     3.3| 2.7|   rain|\n",
      "|2012-02-07|          0.3|    15.6|     7.8| 5.3|   rain|\n",
      "+----------+-------------+--------+--------+----+-------+\n",
      "only showing top 20 rows\n",
      "\n"
     ]
    }
   ],
   "source": [
    "rainy_days = weather.select('*').where(weather.weather == 'rain')\n",
    "rainy_days.show()"
   ]
  },
  {
   "cell_type": "code",
   "execution_count": 364,
   "id": "955238f2",
   "metadata": {},
   "outputs": [
    {
     "name": "stdout",
     "output_type": "stream",
     "text": [
      "+-----+-----+\n",
      "|month|count|\n",
      "+-----+-----+\n",
      "|    9|    4|\n",
      "|    8|    6|\n",
      "|    7|   14|\n",
      "|    5|   16|\n",
      "|    6|   19|\n",
      "|    4|   20|\n",
      "|   10|   20|\n",
      "|   12|   23|\n",
      "|   11|   25|\n",
      "|    1|   35|\n",
      "|    3|   37|\n",
      "|    2|   40|\n",
      "| null|  259|\n",
      "+-----+-----+\n",
      "\n"
     ]
    }
   ],
   "source": [
    "rainy_days_by_month = rainy_days.withColumn(\"month\", month(\"date\")).rollup(\"month\").count().sort(\"count\").show()"
   ]
  },
  {
   "cell_type": "markdown",
   "id": "fd70b0aa",
   "metadata": {},
   "source": [
    "February has the most rainy days. "
   ]
  },
  {
   "cell_type": "markdown",
   "id": "586b688c",
   "metadata": {},
   "source": [
    "Which year was the windiest?"
   ]
  },
  {
   "cell_type": "code",
   "execution_count": 365,
   "id": "05b9364b",
   "metadata": {},
   "outputs": [],
   "source": [
    "from pyspark.sql.functions import year, sum"
   ]
  },
  {
   "cell_type": "code",
   "execution_count": 366,
   "id": "a73797a4",
   "metadata": {},
   "outputs": [
    {
     "data": {
      "text/plain": [
       "<bound method DataFrame.describe of DataFrame[date: string, precipitation: double, temp_max: double, temp_min: double, wind: double, weather: string]>"
      ]
     },
     "execution_count": 366,
     "metadata": {},
     "output_type": "execute_result"
    }
   ],
   "source": [
    "weather.describe"
   ]
  },
  {
   "cell_type": "code",
   "execution_count": 367,
   "id": "2d28e333",
   "metadata": {},
   "outputs": [
    {
     "name": "stdout",
     "output_type": "stream",
     "text": [
      "+----+------------------+\n",
      "|year|         sum(wind)|\n",
      "+----+------------------+\n",
      "|2012|1244.7000000000003|\n",
      "|2013|1100.7999999999997|\n",
      "|2014|            1236.5|\n",
      "|2015|            1153.3|\n",
      "+----+------------------+\n",
      "\n"
     ]
    }
   ],
   "source": [
    "(\n",
    "    weather.withColumn(\"year\", year(\"date\"))\n",
    "    .groupBy(\"year\")\n",
    "    .agg(sum(\"wind\"))\n",
    "    .sort(\"year\")\n",
    "    .show()\n",
    ")"
   ]
  },
  {
   "cell_type": "code",
   "execution_count": 368,
   "id": "7fe1dd77",
   "metadata": {},
   "outputs": [],
   "source": [
    "from pyspark.sql.functions import asc, desc"
   ]
  },
  {
   "cell_type": "code",
   "execution_count": 369,
   "id": "a2353fae",
   "metadata": {},
   "outputs": [
    {
     "name": "stdout",
     "output_type": "stream",
     "text": [
      "+----------+-------------+--------+--------+----+-------+-----+\n",
      "|      date|precipitation|temp_max|temp_min|wind|weather|month|\n",
      "+----------+-------------+--------+--------+----+-------+-----+\n",
      "|2012-01-01|          0.0|    12.8|     5.0| 4.7|drizzle|    1|\n",
      "|2012-01-02|         10.9|    10.6|     2.8| 4.5|   rain|    1|\n",
      "|2012-01-03|          0.8|    11.7|     7.2| 2.3|   rain|    1|\n",
      "|2012-01-04|         20.3|    12.2|     5.6| 4.7|   rain|    1|\n",
      "|2012-01-05|          1.3|     8.9|     2.8| 6.1|   rain|    1|\n",
      "|2012-01-06|          2.5|     4.4|     2.2| 2.2|   rain|    1|\n",
      "|2012-01-07|          0.0|     7.2|     2.8| 2.3|   rain|    1|\n",
      "|2012-01-08|          0.0|    10.0|     2.8| 2.0|    sun|    1|\n",
      "|2012-01-09|          4.3|     9.4|     5.0| 3.4|   rain|    1|\n",
      "|2012-01-10|          1.0|     6.1|     0.6| 3.4|   rain|    1|\n",
      "|2012-01-11|          0.0|     6.1|    -1.1| 5.1|    sun|    1|\n",
      "|2012-01-12|          0.0|     6.1|    -1.7| 1.9|    sun|    1|\n",
      "|2012-01-13|          0.0|     5.0|    -2.8| 1.3|    sun|    1|\n",
      "|2012-01-14|          4.1|     4.4|     0.6| 5.3|   snow|    1|\n",
      "|2012-01-15|          5.3|     1.1|    -3.3| 3.2|   snow|    1|\n",
      "|2012-01-16|          2.5|     1.7|    -2.8| 5.0|   snow|    1|\n",
      "|2012-01-17|          8.1|     3.3|     0.0| 5.6|   snow|    1|\n",
      "|2012-01-18|         19.8|     0.0|    -2.8| 5.0|   snow|    1|\n",
      "|2012-01-19|         15.2|    -1.1|    -2.8| 1.6|   snow|    1|\n",
      "|2012-01-20|         13.5|     7.2|    -1.1| 2.3|   snow|    1|\n",
      "+----------+-------------+--------+--------+----+-------+-----+\n",
      "only showing top 20 rows\n",
      "\n"
     ]
    }
   ],
   "source": [
    "weather = weather.withColumn(\"month\", month('date'))\n",
    "weather.show()"
   ]
  },
  {
   "cell_type": "code",
   "execution_count": 370,
   "id": "2486d89e",
   "metadata": {},
   "outputs": [
    {
     "name": "stdout",
     "output_type": "stream",
     "text": [
      "+-----+-------+-----+\n",
      "|month|weather|count|\n",
      "+-----+-------+-----+\n",
      "|    1|    fog|   38|\n",
      "+-----+-------+-----+\n",
      "only showing top 1 row\n",
      "\n"
     ]
    }
   ],
   "source": [
    "weather.groupBy('month', 'weather').count().orderBy(asc(\"month\"), desc(\"count\")).show(1)"
   ]
  },
  {
   "cell_type": "markdown",
   "id": "81ac592b",
   "metadata": {},
   "source": [
    "Fog is the most common type of weather in January. "
   ]
  },
  {
   "cell_type": "markdown",
   "id": "233d4937",
   "metadata": {},
   "source": [
    "What is the average high and low temperature on sunny days in July in 2013 and 2014?"
   ]
  },
  {
   "cell_type": "code",
   "execution_count": 371,
   "id": "1a039210",
   "metadata": {},
   "outputs": [],
   "source": [
    "from pyspark.sql.functions import max, min"
   ]
  },
  {
   "cell_type": "code",
   "execution_count": 372,
   "id": "c433569e",
   "metadata": {},
   "outputs": [
    {
     "name": "stdout",
     "output_type": "stream",
     "text": [
      "+----------+-------------+--------+--------+----+-------+-----+----+\n",
      "|      date|precipitation|temp_max|temp_min|wind|weather|month|year|\n",
      "+----------+-------------+--------+--------+----+-------+-----+----+\n",
      "|2012-01-01|          0.0|    12.8|     5.0| 4.7|drizzle|    1|2012|\n",
      "|2012-01-02|         10.9|    10.6|     2.8| 4.5|   rain|    1|2012|\n",
      "|2012-01-03|          0.8|    11.7|     7.2| 2.3|   rain|    1|2012|\n",
      "|2012-01-04|         20.3|    12.2|     5.6| 4.7|   rain|    1|2012|\n",
      "|2012-01-05|          1.3|     8.9|     2.8| 6.1|   rain|    1|2012|\n",
      "|2012-01-06|          2.5|     4.4|     2.2| 2.2|   rain|    1|2012|\n",
      "|2012-01-07|          0.0|     7.2|     2.8| 2.3|   rain|    1|2012|\n",
      "|2012-01-08|          0.0|    10.0|     2.8| 2.0|    sun|    1|2012|\n",
      "|2012-01-09|          4.3|     9.4|     5.0| 3.4|   rain|    1|2012|\n",
      "|2012-01-10|          1.0|     6.1|     0.6| 3.4|   rain|    1|2012|\n",
      "|2012-01-11|          0.0|     6.1|    -1.1| 5.1|    sun|    1|2012|\n",
      "|2012-01-12|          0.0|     6.1|    -1.7| 1.9|    sun|    1|2012|\n",
      "|2012-01-13|          0.0|     5.0|    -2.8| 1.3|    sun|    1|2012|\n",
      "|2012-01-14|          4.1|     4.4|     0.6| 5.3|   snow|    1|2012|\n",
      "|2012-01-15|          5.3|     1.1|    -3.3| 3.2|   snow|    1|2012|\n",
      "|2012-01-16|          2.5|     1.7|    -2.8| 5.0|   snow|    1|2012|\n",
      "|2012-01-17|          8.1|     3.3|     0.0| 5.6|   snow|    1|2012|\n",
      "|2012-01-18|         19.8|     0.0|    -2.8| 5.0|   snow|    1|2012|\n",
      "|2012-01-19|         15.2|    -1.1|    -2.8| 1.6|   snow|    1|2012|\n",
      "|2012-01-20|         13.5|     7.2|    -1.1| 2.3|   snow|    1|2012|\n",
      "+----------+-------------+--------+--------+----+-------+-----+----+\n",
      "only showing top 20 rows\n",
      "\n"
     ]
    }
   ],
   "source": [
    "weather = weather.withColumn(\"year\", year('date'))\n",
    "weather.show()"
   ]
  },
  {
   "cell_type": "code",
   "execution_count": 373,
   "id": "dbf86960",
   "metadata": {},
   "outputs": [
    {
     "name": "stdout",
     "output_type": "stream",
     "text": [
      "+----+---------------------------+---------------------------+\n",
      "|year|Average Maximum Temperature|Average Minimum Temperature|\n",
      "+----+---------------------------+---------------------------+\n",
      "|2013|         26.093548387096785|          13.93225806451613|\n",
      "|2014|         26.899999999999995|         14.425806451612905|\n",
      "+----+---------------------------+---------------------------+\n",
      "\n"
     ]
    }
   ],
   "source": [
    "(\n",
    "    weather\n",
    "    .where((weather.month == 7) & ((weather.year == 2013)|(weather.year ==2014)))\n",
    "    .groupBy('year')\n",
    "    .agg(avg('temp_max').alias('Average Maximum Temperature'), avg('temp_min').alias('Average Minimum Temperature'))\n",
    "    .show()\n",
    ")"
   ]
  },
  {
   "cell_type": "code",
   "execution_count": 374,
   "id": "a8f2d53d",
   "metadata": {},
   "outputs": [],
   "source": [
    "from pyspark.sql.functions import quarter, expr"
   ]
  },
  {
   "cell_type": "code",
   "execution_count": 375,
   "id": "874c75ba",
   "metadata": {},
   "outputs": [
    {
     "name": "stdout",
     "output_type": "stream",
     "text": [
      "+----------+-------------+--------+--------+----+-------+-----+----+-------+\n",
      "|      date|precipitation|temp_max|temp_min|wind|weather|month|year|quarter|\n",
      "+----------+-------------+--------+--------+----+-------+-----+----+-------+\n",
      "|2012-01-01|          0.0|    12.8|     5.0| 4.7|drizzle|    1|2012|      1|\n",
      "|2012-01-02|         10.9|    10.6|     2.8| 4.5|   rain|    1|2012|      1|\n",
      "|2012-01-03|          0.8|    11.7|     7.2| 2.3|   rain|    1|2012|      1|\n",
      "|2012-01-04|         20.3|    12.2|     5.6| 4.7|   rain|    1|2012|      1|\n",
      "|2012-01-05|          1.3|     8.9|     2.8| 6.1|   rain|    1|2012|      1|\n",
      "|2012-01-06|          2.5|     4.4|     2.2| 2.2|   rain|    1|2012|      1|\n",
      "|2012-01-07|          0.0|     7.2|     2.8| 2.3|   rain|    1|2012|      1|\n",
      "|2012-01-08|          0.0|    10.0|     2.8| 2.0|    sun|    1|2012|      1|\n",
      "|2012-01-09|          4.3|     9.4|     5.0| 3.4|   rain|    1|2012|      1|\n",
      "|2012-01-10|          1.0|     6.1|     0.6| 3.4|   rain|    1|2012|      1|\n",
      "|2012-01-11|          0.0|     6.1|    -1.1| 5.1|    sun|    1|2012|      1|\n",
      "|2012-01-12|          0.0|     6.1|    -1.7| 1.9|    sun|    1|2012|      1|\n",
      "|2012-01-13|          0.0|     5.0|    -2.8| 1.3|    sun|    1|2012|      1|\n",
      "|2012-01-14|          4.1|     4.4|     0.6| 5.3|   snow|    1|2012|      1|\n",
      "|2012-01-15|          5.3|     1.1|    -3.3| 3.2|   snow|    1|2012|      1|\n",
      "|2012-01-16|          2.5|     1.7|    -2.8| 5.0|   snow|    1|2012|      1|\n",
      "|2012-01-17|          8.1|     3.3|     0.0| 5.6|   snow|    1|2012|      1|\n",
      "|2012-01-18|         19.8|     0.0|    -2.8| 5.0|   snow|    1|2012|      1|\n",
      "|2012-01-19|         15.2|    -1.1|    -2.8| 1.6|   snow|    1|2012|      1|\n",
      "|2012-01-20|         13.5|     7.2|    -1.1| 2.3|   snow|    1|2012|      1|\n",
      "+----------+-------------+--------+--------+----+-------+-----+----+-------+\n",
      "only showing top 20 rows\n",
      "\n"
     ]
    }
   ],
   "source": [
    "weather = weather.withColumn('quarter', quarter('date'))\n",
    "weather.show()"
   ]
  },
  {
   "cell_type": "markdown",
   "id": "ecf4796e",
   "metadata": {},
   "source": [
    "What percentage of days were rainy in q3 of 2015?"
   ]
  },
  {
   "cell_type": "code",
   "execution_count": 376,
   "id": "155e3382",
   "metadata": {},
   "outputs": [
    {
     "data": {
      "text/plain": [
       "2"
      ]
     },
     "execution_count": 376,
     "metadata": {},
     "output_type": "execute_result"
    }
   ],
   "source": [
    "(\n",
    "    weather\n",
    "    .where((weather.quarter == 3) & (weather.year == 2015) & (weather.weather == 'rain'))\n",
    "    .count()\n",
    ")"
   ]
  },
  {
   "cell_type": "code",
   "execution_count": 377,
   "id": "6ecf2e76",
   "metadata": {},
   "outputs": [
    {
     "data": {
      "text/plain": [
       "92"
      ]
     },
     "execution_count": 377,
     "metadata": {},
     "output_type": "execute_result"
    }
   ],
   "source": [
    "(\n",
    "    weather\n",
    "    .where((weather.quarter == 3) & (weather.year == 2015))\n",
    "    .count()\n",
    ")"
   ]
  },
  {
   "cell_type": "code",
   "execution_count": 378,
   "id": "890affcc",
   "metadata": {},
   "outputs": [],
   "source": [
    "percent_rainy_days = (\n",
    "    weather\n",
    "    .where((weather.quarter == 3) & (weather.year == 2015) & (weather.weather == 'rain'))\n",
    "    .count()\n",
    ") / (\n",
    "    weather\n",
    "    .where((weather.quarter == 3) & (weather.year == 2015))\n",
    "    .count()\n",
    ")"
   ]
  },
  {
   "cell_type": "code",
   "execution_count": 379,
   "id": "2554ea1e",
   "metadata": {},
   "outputs": [
    {
     "data": {
      "text/plain": [
       "0.021739130434782608"
      ]
     },
     "execution_count": 379,
     "metadata": {},
     "output_type": "execute_result"
    }
   ],
   "source": [
    "percent_rainy_days"
   ]
  },
  {
   "cell_type": "code",
   "execution_count": 380,
   "id": "f5695461",
   "metadata": {},
   "outputs": [
    {
     "name": "stdout",
     "output_type": "stream",
     "text": [
      "The percent of rainy days in Q3 of 2015 was 2.17%.\n"
     ]
    }
   ],
   "source": [
    "print(\"The percent of rainy days in Q3 of 2015 was {}%.\".format(round(percent_rainy_days*100, 2)))"
   ]
  },
  {
   "cell_type": "markdown",
   "id": "f611b0be",
   "metadata": {},
   "source": [
    " For each year, find what percentage of days it rained (had non-zero precipitation)."
   ]
  },
  {
   "cell_type": "code",
   "execution_count": 381,
   "id": "431e0adf",
   "metadata": {},
   "outputs": [],
   "source": [
    "weather = weather.withColumn(\"rained\", weather.precipitation > 0)"
   ]
  },
  {
   "cell_type": "code",
   "execution_count": 382,
   "id": "4339c96e",
   "metadata": {},
   "outputs": [
    {
     "name": "stdout",
     "output_type": "stream",
     "text": [
      "+----------+-------------+--------+--------+----+-------+-----+----+-------+------+\n",
      "|      date|precipitation|temp_max|temp_min|wind|weather|month|year|quarter|rained|\n",
      "+----------+-------------+--------+--------+----+-------+-----+----+-------+------+\n",
      "|2012-01-01|          0.0|    12.8|     5.0| 4.7|drizzle|    1|2012|      1| false|\n",
      "|2012-01-02|         10.9|    10.6|     2.8| 4.5|   rain|    1|2012|      1|  true|\n",
      "|2012-01-03|          0.8|    11.7|     7.2| 2.3|   rain|    1|2012|      1|  true|\n",
      "|2012-01-04|         20.3|    12.2|     5.6| 4.7|   rain|    1|2012|      1|  true|\n",
      "|2012-01-05|          1.3|     8.9|     2.8| 6.1|   rain|    1|2012|      1|  true|\n",
      "|2012-01-06|          2.5|     4.4|     2.2| 2.2|   rain|    1|2012|      1|  true|\n",
      "|2012-01-07|          0.0|     7.2|     2.8| 2.3|   rain|    1|2012|      1| false|\n",
      "|2012-01-08|          0.0|    10.0|     2.8| 2.0|    sun|    1|2012|      1| false|\n",
      "|2012-01-09|          4.3|     9.4|     5.0| 3.4|   rain|    1|2012|      1|  true|\n",
      "|2012-01-10|          1.0|     6.1|     0.6| 3.4|   rain|    1|2012|      1|  true|\n",
      "|2012-01-11|          0.0|     6.1|    -1.1| 5.1|    sun|    1|2012|      1| false|\n",
      "|2012-01-12|          0.0|     6.1|    -1.7| 1.9|    sun|    1|2012|      1| false|\n",
      "|2012-01-13|          0.0|     5.0|    -2.8| 1.3|    sun|    1|2012|      1| false|\n",
      "|2012-01-14|          4.1|     4.4|     0.6| 5.3|   snow|    1|2012|      1|  true|\n",
      "|2012-01-15|          5.3|     1.1|    -3.3| 3.2|   snow|    1|2012|      1|  true|\n",
      "|2012-01-16|          2.5|     1.7|    -2.8| 5.0|   snow|    1|2012|      1|  true|\n",
      "|2012-01-17|          8.1|     3.3|     0.0| 5.6|   snow|    1|2012|      1|  true|\n",
      "|2012-01-18|         19.8|     0.0|    -2.8| 5.0|   snow|    1|2012|      1|  true|\n",
      "|2012-01-19|         15.2|    -1.1|    -2.8| 1.6|   snow|    1|2012|      1|  true|\n",
      "|2012-01-20|         13.5|     7.2|    -1.1| 2.3|   snow|    1|2012|      1|  true|\n",
      "+----------+-------------+--------+--------+----+-------+-----+----+-------+------+\n",
      "only showing top 20 rows\n",
      "\n"
     ]
    }
   ],
   "source": [
    "weather.show()"
   ]
  },
  {
   "cell_type": "code",
   "execution_count": 383,
   "id": "456c9614",
   "metadata": {},
   "outputs": [],
   "source": [
    "weather = weather.select('*', weather.rained.cast('int').alias(\"rain2\"))"
   ]
  },
  {
   "cell_type": "code",
   "execution_count": 384,
   "id": "46fa2264",
   "metadata": {},
   "outputs": [
    {
     "name": "stdout",
     "output_type": "stream",
     "text": [
      "+----------+-------------+--------+--------+----+-------+-----+----+-------+------+-----+\n",
      "|      date|precipitation|temp_max|temp_min|wind|weather|month|year|quarter|rained|rain2|\n",
      "+----------+-------------+--------+--------+----+-------+-----+----+-------+------+-----+\n",
      "|2012-01-01|          0.0|    12.8|     5.0| 4.7|drizzle|    1|2012|      1| false|    0|\n",
      "|2012-01-02|         10.9|    10.6|     2.8| 4.5|   rain|    1|2012|      1|  true|    1|\n",
      "|2012-01-03|          0.8|    11.7|     7.2| 2.3|   rain|    1|2012|      1|  true|    1|\n",
      "|2012-01-04|         20.3|    12.2|     5.6| 4.7|   rain|    1|2012|      1|  true|    1|\n",
      "|2012-01-05|          1.3|     8.9|     2.8| 6.1|   rain|    1|2012|      1|  true|    1|\n",
      "|2012-01-06|          2.5|     4.4|     2.2| 2.2|   rain|    1|2012|      1|  true|    1|\n",
      "|2012-01-07|          0.0|     7.2|     2.8| 2.3|   rain|    1|2012|      1| false|    0|\n",
      "|2012-01-08|          0.0|    10.0|     2.8| 2.0|    sun|    1|2012|      1| false|    0|\n",
      "|2012-01-09|          4.3|     9.4|     5.0| 3.4|   rain|    1|2012|      1|  true|    1|\n",
      "|2012-01-10|          1.0|     6.1|     0.6| 3.4|   rain|    1|2012|      1|  true|    1|\n",
      "|2012-01-11|          0.0|     6.1|    -1.1| 5.1|    sun|    1|2012|      1| false|    0|\n",
      "|2012-01-12|          0.0|     6.1|    -1.7| 1.9|    sun|    1|2012|      1| false|    0|\n",
      "|2012-01-13|          0.0|     5.0|    -2.8| 1.3|    sun|    1|2012|      1| false|    0|\n",
      "|2012-01-14|          4.1|     4.4|     0.6| 5.3|   snow|    1|2012|      1|  true|    1|\n",
      "|2012-01-15|          5.3|     1.1|    -3.3| 3.2|   snow|    1|2012|      1|  true|    1|\n",
      "|2012-01-16|          2.5|     1.7|    -2.8| 5.0|   snow|    1|2012|      1|  true|    1|\n",
      "|2012-01-17|          8.1|     3.3|     0.0| 5.6|   snow|    1|2012|      1|  true|    1|\n",
      "|2012-01-18|         19.8|     0.0|    -2.8| 5.0|   snow|    1|2012|      1|  true|    1|\n",
      "|2012-01-19|         15.2|    -1.1|    -2.8| 1.6|   snow|    1|2012|      1|  true|    1|\n",
      "|2012-01-20|         13.5|     7.2|    -1.1| 2.3|   snow|    1|2012|      1|  true|    1|\n",
      "+----------+-------------+--------+--------+----+-------+-----+----+-------+------+-----+\n",
      "only showing top 20 rows\n",
      "\n"
     ]
    }
   ],
   "source": [
    "weather.show()"
   ]
  },
  {
   "cell_type": "code",
   "execution_count": 393,
   "id": "7ba07988",
   "metadata": {},
   "outputs": [
    {
     "name": "stdout",
     "output_type": "stream",
     "text": [
      "+----+------------------+\n",
      "|year|Percent Rainy Days|\n",
      "+----+------------------+\n",
      "|2012| 48.36065573770492|\n",
      "|2013| 41.64383561643836|\n",
      "|2014|  41.0958904109589|\n",
      "|2015| 39.45205479452055|\n",
      "+----+------------------+\n",
      "\n"
     ]
    }
   ],
   "source": [
    "(\n",
    "    weather\n",
    "    .groupby('year')\n",
    "    .agg((sum('rain2')/count('rained')*100).alias('Percent Rainy Days')).show()\n",
    ")"
   ]
  }
 ],
 "metadata": {
  "kernelspec": {
   "display_name": "Python 3",
   "language": "python",
   "name": "python3"
  },
  "language_info": {
   "codemirror_mode": {
    "name": "ipython",
    "version": 3
   },
   "file_extension": ".py",
   "mimetype": "text/x-python",
   "name": "python",
   "nbconvert_exporter": "python",
   "pygments_lexer": "ipython3",
   "version": "3.8.8"
  }
 },
 "nbformat": 4,
 "nbformat_minor": 5
}
